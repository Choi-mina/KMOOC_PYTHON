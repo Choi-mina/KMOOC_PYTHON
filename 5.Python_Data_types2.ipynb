{
 "cells": [
  {
   "cell_type": "markdown",
   "id": "93e2461d-b83f-48d1-89b6-9f0f8c1c6ed6",
   "metadata": {},
   "source": [
    "## Python: Dictionaries and Sets"
   ]
  },
  {
   "cell_type": "markdown",
   "id": "7a5f790c-311a-4141-8f23-25e292fc3b87",
   "metadata": {},
   "source": [
    "__1. Dictionaries: Creating, updating, and oprations__"
   ]
  },
  {
   "cell_type": "code",
   "execution_count": 20,
   "id": "c338cfde-be09-4533-b75b-d9546cfe938e",
   "metadata": {},
   "outputs": [
    {
     "name": "stdout",
     "output_type": "stream",
     "text": [
      "{'Korea': 'kr', 'Japan': 'jp', 'Tiwan': 'tw', 'Finland': 'fl'}\n",
      "4\n",
      "kr\n"
     ]
    }
   ],
   "source": [
    "# 중복이 있을때는 앞에 것을 버리고 뒤에 것을 가져옴\n",
    "countries = {'Korea' : 'kr', 'Japan' : 'jp', 'Tiwan' : 'tw', 'Finland' : 'fl'}\n",
    "print(countries)\n",
    "print(len(countries))\n",
    "print(countries['Korea'])"
   ]
  },
  {
   "cell_type": "code",
   "execution_count": 4,
   "id": "9bef20aa-10c2-4a4e-87e0-2b7026d26e6a",
   "metadata": {},
   "outputs": [
    {
     "name": "stdout",
     "output_type": "stream",
     "text": [
      "False\n",
      "{'Japan': '81', 'Tiwan': 'tw', 'Finland': 'fl', 'Canada': 'ca', 'China': 'cn', 'Korea': 82}\n",
      "{'Japan': '81', 'Tiwan': 'tw', 'Finland': 'fl', 'Canada': 'ca', 'China': 'cn', 'Korea': 82}\n",
      "{'Japan': '81', 'Tiwan': 'tw', 'Finland': 'fl', 'Canada': 'ca', 'China': 'cn', 'Korea': 82}\n",
      "{'Japan': '81', 'Tiwan': 'tw', 'Finland': 'fl', 'Canada': 'ca', 'China': 'cn'}\n"
     ]
    }
   ],
   "source": [
    "# Dictionary operations\n",
    "print('korea' in countries)\n",
    "countries['Korea'] = 82\n",
    "print(countries)\n",
    "countries.update(Japan = '81')\n",
    "print(countries)\n",
    "countries['Canada'] = 'ca'\n",
    "# 값이 없으면 추가\n",
    "countries.update(China = 'cn')\n",
    "print(countries)\n",
    "del countries['Korea']\n",
    "print(countries)"
   ]
  },
  {
   "cell_type": "code",
   "execution_count": 7,
   "id": "fb666921-aba8-4407-92e0-6f9ea0592149",
   "metadata": {},
   "outputs": [
    {
     "name": "stdout",
     "output_type": "stream",
     "text": [
      "81\n",
      "None\n"
     ]
    }
   ],
   "source": [
    "# Dictionary operations\n",
    "\n",
    "print(countries.get('Japan'))\n",
    "# print(countries['Korea']) 는 오류남\n",
    "print(countries.get('Korea'))"
   ]
  },
  {
   "cell_type": "markdown",
   "id": "c37979e1-6e55-47be-b2c0-d9af48e074e0",
   "metadata": {},
   "source": [
    "__2. Dictionaries: Iterations and extractions__"
   ]
  },
  {
   "cell_type": "code",
   "execution_count": 11,
   "id": "5c799b03-6c08-42c1-9f5e-e779370566e4",
   "metadata": {},
   "outputs": [
    {
     "name": "stdout",
     "output_type": "stream",
     "text": [
      "The country code of Korea is, kr.\n",
      "The country code of Japan is, jp.\n",
      "The country code of Tiwan is, tw.\n",
      "The country code of Finland is, fl.\n"
     ]
    }
   ],
   "source": [
    "countries = {'Korea' : 'kr', 'Japan' : 'jp', 'Tiwan' : 'tw', 'Finland' : 'fl'}\n",
    "for country, code in countries.items():\n",
    "    print(f'The country code of {country} is, {code}.')"
   ]
  },
  {
   "cell_type": "code",
   "execution_count": 12,
   "id": "782c7996-d535-4c60-b81c-6020ebdd1464",
   "metadata": {},
   "outputs": [
    {
     "name": "stdout",
     "output_type": "stream",
     "text": [
      "Korea Japan Tiwan Finland \n",
      "kr jp tw fl "
     ]
    }
   ],
   "source": [
    "# Iterating elements in a dictionary 2\n",
    "for country in countries.keys():\n",
    "    print(country, end=' ')\n",
    "print()\n",
    "for codes in countries.values():\n",
    "    print(codes, end=' ')"
   ]
  },
  {
   "cell_type": "code",
   "execution_count": 14,
   "id": "d17f0885-f421-49fe-b24d-aba2d05f54ff",
   "metadata": {},
   "outputs": [
    {
     "name": "stdout",
     "output_type": "stream",
     "text": [
      "['Korea', 'Japan', 'Taiwan', 'Finland']\n",
      "[82, 81, 886, 358]\n",
      "[('Korea', 82), ('Japan', 81), ('Taiwan', 886), ('Finland', 358)] ('Japan', 81)\n"
     ]
    }
   ],
   "source": [
    "# Extracting keys, values, and elements of dictionaries\n",
    "\n",
    "c_codes = {'Korea':82, 'Japan':81, 'Taiwan':886, 'Finland':358}\n",
    "print(list(c_codes.keys()))\n",
    "print(list(c_codes.values()))\n",
    "l_countries = list(c_codes.items())\n",
    "print(l_countries, l_countries[1])"
   ]
  },
  {
   "cell_type": "code",
   "execution_count": 16,
   "id": "c8d6d0d3-9bec-47c8-89bd-1ec4a1e1578b",
   "metadata": {},
   "outputs": [
    {
     "name": "stdout",
     "output_type": "stream",
     "text": [
      "The country code of Korea is, kr.\n",
      "The country code of Japan is, jp.\n",
      "The country code of Tiwan is, tw.\n",
      "The country code of Finland is, fl.\n"
     ]
    }
   ],
   "source": [
    "for i, j in zip(countries.keys(), countries.values()):\n",
    "    print(f'The country code of {i} is, {j}.')"
   ]
  },
  {
   "cell_type": "markdown",
   "id": "720c6ada-5a43-4ff5-821a-017a01d5be5a",
   "metadata": {},
   "source": [
    "__3. Dictionaries: Sorting and comprehension expressions__"
   ]
  },
  {
   "cell_type": "code",
   "execution_count": 17,
   "id": "d76af19a-b70f-4e3b-b157-e62547391d0f",
   "metadata": {},
   "outputs": [
    {
     "name": "stdout",
     "output_type": "stream",
     "text": [
      "['Finland', 'Japan', 'Korea', 'Taiwan']\n",
      "['Finland', 'Japan', 'Korea', 'Taiwan']\n",
      "[81, 82, 358, 886]\n",
      "[('Finland', 358), ('Japan', 81), ('Korea', 82), ('Taiwan', 886)]\n"
     ]
    }
   ],
   "source": [
    "print(sorted(c_codes))\n",
    "print(sorted(c_codes.keys()))\n",
    "print(sorted(c_codes.values()))\n",
    "print(sorted(c_codes.items()))"
   ]
  },
  {
   "cell_type": "code",
   "execution_count": 18,
   "id": "02852389-95bb-4291-99fb-4f971d8ef96a",
   "metadata": {},
   "outputs": [
    {
     "name": "stdout",
     "output_type": "stream",
     "text": [
      "[(81, 'Japan'), (82, 'Korea'), (358, 'Finland'), (886, 'Taiwan')]\n"
     ]
    }
   ],
   "source": [
    "# Dictionary comprehension: switching keys and values\n",
    "\n",
    "switched = {code: country for country, code in c_codes.items()}\n",
    "print(sorted(switched.items()))"
   ]
  },
  {
   "cell_type": "code",
   "execution_count": 19,
   "id": "2483a13b-4e4e-44c2-926e-afd53c91d138",
   "metadata": {},
   "outputs": [
    {
     "name": "stdout",
     "output_type": "stream",
     "text": [
      "{'Japan': 27.666666666666668, 'Korea': 26.666666666666668}\n",
      "{'Japan': 81, 'Korea': 82, 'Finland': 358, 'Taiwan': 886}\n"
     ]
    }
   ],
   "source": [
    "# Making a new dictionary with a dictionary\n",
    "temperature = {'Japan':[23, 34, 26], 'Korea':[22, 33, 25]}\n",
    "temp_mean = {k: sum(v)/len(v) for k, v in temperature.items()}\n",
    "print(temp_mean)\n",
    "\n",
    "s_value = {k: v for k, v in sorted(c_codes.items(), key=lambda country: country[1])}\n",
    "print(s_value)"
   ]
  },
  {
   "cell_type": "code",
   "execution_count": 23,
   "id": "e433ae6c-bdcc-4879-8826-93e9f268c7db",
   "metadata": {},
   "outputs": [],
   "source": [
    "# Tokenizing strings\n",
    "dream = \"\"\"I have a dream that one day this nation will rise up and live out the true meaning of its creed We hold these truths to be self-evident that all men are created equal\n",
    "I have a dream that one day on the red hills of Georgia the sons of former slaves and the sons of former slave owners will be able to sit down together at the table of brotherhood\n",
    "I have a dream that one day even the state of Mississippi a state sweltering with the heat of injustice sweltering with the heat of oppression, will be transformed into an oasis of freedom and justice\n",
    "I have a dream that my four little children will one day live in a nation where they will not be judged by the color of their skin but by the content of their character\n",
    "I have a dream today\n",
    "I have a dream that one day, down in Alabama, with its vicious racists, with its governor having his lips dripping with the words of interposition and nullification one day right there in Alabama little black boys and black girls will be able to join hands with little white boys and white girls as sisters and brothers\"\"\""
   ]
  },
  {
   "cell_type": "code",
   "execution_count": 28,
   "id": "b24c206f-2e81-42f9-bb5b-5c6675e658fd",
   "metadata": {},
   "outputs": [
    {
     "name": "stdout",
     "output_type": "stream",
     "text": [
      "{'I': 6, 'have': 6, 'a': 8, 'dream': 6, 'that': 6, 'one': 6, 'day': 5, 'this': 1, 'nation': 2, 'will': 6, 'rise': 1, 'up': 1, 'and': 7, 'live': 2, 'out': 1, 'the': 11, 'true': 1, 'meaning': 1, 'of': 12, 'its': 3, 'creed': 1, 'We': 1, 'hold': 1, 'these': 1, 'truths': 1, 'to': 3, 'be': 5, 'self-evident': 1, 'all': 1, 'men': 1, 'are': 1, 'created': 1, 'equal': 1, 'on': 1, 'red': 1, 'hills': 1, 'Georgia': 1, 'sons': 2, 'former': 2, 'slaves': 1, 'slave': 1, 'owners': 1, 'able': 2, 'sit': 1, 'down': 2, 'together': 1, 'at': 1, 'table': 1, 'brotherhood': 1, 'even': 1, 'state': 2, 'Mississippi': 1, 'sweltering': 2, 'with': 6, 'heat': 2, 'injustice': 1, 'oppression,': 1, 'transformed': 1, 'into': 1, 'an': 1, 'oasis': 1, 'freedom': 1, 'justice': 1, 'my': 1, 'four': 1, 'little': 3, 'children': 1, 'in': 3, 'where': 1, 'they': 1, 'not': 1, 'judged': 1, 'by': 2, 'color': 1, 'their': 2, 'skin': 1, 'but': 1, 'content': 1, 'character': 1, 'today': 1, 'day,': 1, 'Alabama,': 1, 'vicious': 1, 'racists,': 1, 'governor': 1, 'having': 1, 'his': 1, 'lips': 1, 'dripping': 1, 'words': 1, 'interposition': 1, 'nullification': 1, 'right': 1, 'there': 1, 'Alabama': 1, 'black': 2, 'boys': 2, 'girls': 2, 'join': 1, 'hands': 1, 'white': 2, 'as': 1, 'sisters': 1, 'brothers': 1} 104\n",
      "{'of': 12, 'the': 11, 'a': 8, 'and': 7, 'I': 6, 'have': 6, 'dream': 6, 'that': 6, 'one': 6, 'will': 6, 'with': 6, 'day': 5, 'be': 5, 'its': 3, 'to': 3, 'little': 3, 'in': 3, 'nation': 2, 'live': 2, 'sons': 2, 'former': 2, 'able': 2, 'down': 2, 'state': 2, 'sweltering': 2, 'heat': 2, 'by': 2, 'their': 2, 'black': 2, 'boys': 2, 'girls': 2, 'white': 2, 'this': 1, 'rise': 1, 'up': 1, 'out': 1, 'true': 1, 'meaning': 1, 'creed': 1, 'We': 1, 'hold': 1, 'these': 1, 'truths': 1, 'self-evident': 1, 'all': 1, 'men': 1, 'are': 1, 'created': 1, 'equal': 1, 'on': 1, 'red': 1, 'hills': 1, 'Georgia': 1, 'slaves': 1, 'slave': 1, 'owners': 1, 'sit': 1, 'together': 1, 'at': 1, 'table': 1, 'brotherhood': 1, 'even': 1, 'Mississippi': 1, 'injustice': 1, 'oppression,': 1, 'transformed': 1, 'into': 1, 'an': 1, 'oasis': 1, 'freedom': 1, 'justice': 1, 'my': 1, 'four': 1, 'children': 1, 'where': 1, 'they': 1, 'not': 1, 'judged': 1, 'color': 1, 'skin': 1, 'but': 1, 'content': 1, 'character': 1, 'today': 1, 'day,': 1, 'Alabama,': 1, 'vicious': 1, 'racists,': 1, 'governor': 1, 'having': 1, 'his': 1, 'lips': 1, 'dripping': 1, 'words': 1, 'interposition': 1, 'nullification': 1, 'right': 1, 'there': 1, 'Alabama': 1, 'join': 1, 'hands': 1, 'as': 1, 'sisters': 1, 'brothers': 1}\n"
     ]
    }
   ],
   "source": [
    "dream_words = dream.split()\n",
    "# print(dream_words)\n",
    "wordlist = {}\n",
    "for word in dream_words:\n",
    "    if word in wordlist:\n",
    "        wordlist[word] += 1\n",
    "    else:\n",
    "        wordlist[word] = 1\n",
    "print(wordlist, len(wordlist))\n",
    "swl_byvalue = {k: v for k, v in sorted(wordlist.items(), key=lambda i: i[1], reverse=True)}\n",
    "print(swl_byvalue)"
   ]
  },
  {
   "cell_type": "code",
   "execution_count": 30,
   "id": "8138204d-7284-4d19-9b0a-18beac195db2",
   "metadata": {},
   "outputs": [
    {
     "name": "stdout",
     "output_type": "stream",
     "text": [
      "WORD            COUNT\n",
      "of              12\n",
      "the             11\n",
      "a               8\n",
      "and             7\n",
      "I               6\n",
      "have            6\n",
      "dream           6\n",
      "that            6\n",
      "one             6\n",
      "will            6\n",
      "with            6\n",
      "\n",
      "Number of unique words:  104\n"
     ]
    }
   ],
   "source": [
    "print(f'{\"WORD\":16}COUNT')\n",
    "\n",
    "for word, count in swl_byvalue.items():\n",
    "    if count >= 6:\n",
    "        print(f'{word:<16}{count}')\n",
    "print('\\nNumber of unique words: ', len(wordlist))"
   ]
  },
  {
   "cell_type": "code",
   "execution_count": 32,
   "id": "b4870aa4-a1d6-4061-b278-1aee8b148171",
   "metadata": {},
   "outputs": [
    {
     "name": "stdout",
     "output_type": "stream",
     "text": [
      "Counter({'of': 12, 'the': 11, 'a': 8, 'and': 7, 'I': 6, 'have': 6, 'dream': 6, 'that': 6, 'one': 6, 'will': 6, 'with': 6, 'day': 5, 'be': 5, 'its': 3, 'to': 3, 'little': 3, 'in': 3, 'nation': 2, 'live': 2, 'sons': 2, 'former': 2, 'able': 2, 'down': 2, 'state': 2, 'sweltering': 2, 'heat': 2, 'by': 2, 'their': 2, 'black': 2, 'boys': 2, 'girls': 2, 'white': 2, 'this': 1, 'rise': 1, 'up': 1, 'out': 1, 'true': 1, 'meaning': 1, 'creed': 1, 'We': 1, 'hold': 1, 'these': 1, 'truths': 1, 'self-evident': 1, 'all': 1, 'men': 1, 'are': 1, 'created': 1, 'equal': 1, 'on': 1, 'red': 1, 'hills': 1, 'Georgia': 1, 'slaves': 1, 'slave': 1, 'owners': 1, 'sit': 1, 'together': 1, 'at': 1, 'table': 1, 'brotherhood': 1, 'even': 1, 'Mississippi': 1, 'injustice': 1, 'oppression,': 1, 'transformed': 1, 'into': 1, 'an': 1, 'oasis': 1, 'freedom': 1, 'justice': 1, 'my': 1, 'four': 1, 'children': 1, 'where': 1, 'they': 1, 'not': 1, 'judged': 1, 'color': 1, 'skin': 1, 'but': 1, 'content': 1, 'character': 1, 'today': 1, 'day,': 1, 'Alabama,': 1, 'vicious': 1, 'racists,': 1, 'governor': 1, 'having': 1, 'his': 1, 'lips': 1, 'dripping': 1, 'words': 1, 'interposition': 1, 'nullification': 1, 'right': 1, 'there': 1, 'Alabama': 1, 'join': 1, 'hands': 1, 'as': 1, 'sisters': 1, 'brothers': 1})\n",
      "WORD            COUNT\n",
      "I               6\n",
      "have            6\n",
      "a               8\n",
      "dream           6\n",
      "that            6\n",
      "one             6\n",
      "will            6\n",
      "and             7\n",
      "the             11\n",
      "of              12\n",
      "with            6\n",
      "\n",
      "Number of unique words:  104\n"
     ]
    }
   ],
   "source": [
    "# Do the same with Counter in collections\n",
    "from collections import Counter\n",
    "\n",
    "wordlist1 = Counter(dream_words)\n",
    "print(wordlist1)\n",
    "sorted_wl1 = {k: v for k, v in sorted(wordlist1.items(), key=lambda i: i[1], reverse=True)}\n",
    "\n",
    "print(f'{\"WORD\":<16}COUNT')\n",
    "for word, count in wordlist1.items():\n",
    "    if count >= 6:\n",
    "        print(f'{word:<16}{count}')\n",
    "print('\\nNumber of unique words: ', len(wordlist1))"
   ]
  },
  {
   "cell_type": "markdown",
   "id": "167555d1-e859-45f3-b6a5-959547c1b06f",
   "metadata": {},
   "source": [
    "__4. Sets: Creation and modification__"
   ]
  },
  {
   "cell_type": "code",
   "execution_count": 34,
   "id": "91f98552-88fd-4cd3-af60-6ac5127640ab",
   "metadata": {},
   "outputs": [
    {
     "name": "stdout",
     "output_type": "stream",
     "text": [
      "{'May', 'January', 'March', 'February', 'June', 'April'}\n"
     ]
    }
   ],
   "source": [
    "# no duplicates are allowed\n",
    "Months = {'January', 'February', 'February', 'March', 'April', 'May', 'June'}\n",
    "print(Months)"
   ]
  },
  {
   "cell_type": "code",
   "execution_count": 36,
   "id": "5031f8e5-bdf5-49e2-86e1-f02b894225da",
   "metadata": {},
   "outputs": [
    {
     "name": "stdout",
     "output_type": "stream",
     "text": [
      "{0, 1, 2, 3, 4, 5, 6, 7, 8, 9, 10, 11, 12, 13, 14}\n",
      "15\n",
      "True\n"
     ]
    }
   ],
   "source": [
    "# making a set with a built-in function set\n",
    "digits = set(list(range(10))+list(range(5,15)))\n",
    "print(digits)\n",
    "print(len(digits))\n",
    "print(10 in digits)"
   ]
  },
  {
   "cell_type": "code",
   "execution_count": 38,
   "id": "b4c01c9d-1a6c-43b7-9757-8f39a0ec31ac",
   "metadata": {},
   "outputs": [
    {
     "ename": "KeyError",
     "evalue": "8",
     "output_type": "error",
     "traceback": [
      "\u001b[1;31m---------------------------------------------------------------------------\u001b[0m",
      "\u001b[1;31mKeyError\u001b[0m                                  Traceback (most recent call last)",
      "\u001b[1;32m<ipython-input-38-450de4777cd8>\u001b[0m in \u001b[0;36m<module>\u001b[1;34m\u001b[0m\n\u001b[0;32m      1\u001b[0m \u001b[1;31m# removing an element in a set\u001b[0m\u001b[1;33m\u001b[0m\u001b[1;33m\u001b[0m\u001b[1;33m\u001b[0m\u001b[0m\n\u001b[1;32m----> 2\u001b[1;33m \u001b[0mdigits\u001b[0m\u001b[1;33m.\u001b[0m\u001b[0mremove\u001b[0m\u001b[1;33m(\u001b[0m\u001b[1;36m8\u001b[0m\u001b[1;33m)\u001b[0m\u001b[1;33m\u001b[0m\u001b[1;33m\u001b[0m\u001b[0m\n\u001b[0m\u001b[0;32m      3\u001b[0m \u001b[0mprint\u001b[0m\u001b[1;33m(\u001b[0m\u001b[0mdigits\u001b[0m\u001b[1;33m)\u001b[0m\u001b[1;33m\u001b[0m\u001b[1;33m\u001b[0m\u001b[0m\n",
      "\u001b[1;31mKeyError\u001b[0m: 8"
     ]
    }
   ],
   "source": [
    "# removing an element in a set\n",
    "digits.remove(8)\n",
    "print(digits)"
   ]
  },
  {
   "cell_type": "code",
   "execution_count": 40,
   "id": "50ec8555-2c85-4c5e-b0af-f364ff6a1f58",
   "metadata": {},
   "outputs": [
    {
     "data": {
      "text/plain": [
       "set()"
      ]
     },
     "execution_count": 40,
     "metadata": {},
     "output_type": "execute_result"
    }
   ],
   "source": [
    "set()"
   ]
  },
  {
   "cell_type": "code",
   "execution_count": 41,
   "id": "3120a5b2-3a1d-4b53-8677-b65bee0fcc4e",
   "metadata": {},
   "outputs": [
    {
     "name": "stdout",
     "output_type": "stream",
     "text": [
      "{0, 1, 2, 3, 4, 5, 6, 7, 8, 9, 10, 11, 12, 13, 14}\n"
     ]
    }
   ],
   "source": [
    "# adding elements to a set\n",
    "digits.update(range(10))\n",
    "print(digits)"
   ]
  },
  {
   "cell_type": "markdown",
   "id": "43e4129d-e2d3-4306-aeda-80d22b651dd2",
   "metadata": {},
   "source": [
    "__5. Sets: Operations and comprehension__"
   ]
  },
  {
   "cell_type": "code",
   "execution_count": 45,
   "id": "0db8092a-5a99-455b-88a5-8251e6dbdc21",
   "metadata": {},
   "outputs": [
    {
     "name": "stdout",
     "output_type": "stream",
     "text": [
      "True\n",
      "True\n",
      "{1, 2, 3, 4, 5, 6, 7}\n",
      "{1, 2, 3}\n",
      "set()\n",
      "{4, 5, 6, 7}\n"
     ]
    }
   ],
   "source": [
    "# Comparisons\n",
    "# <= 부분집합\n",
    "print({1, 2, 3} <= {1,2,3,4,5,6,7})\n",
    "print({1,2,3} <= {1,2,3})\n",
    "# | 합집합\n",
    "print({1,2,3} | {1,2,3,4,5,6,7})\n",
    "# & 교집합\n",
    "print({1,2,3} & {1,2,3,4,5,6,7})\n",
    "print({1,2,3} - {1,2,3,4,5,6,7})\n",
    "print({1,2,3,4,5,6,7} - {1,2,3})"
   ]
  },
  {
   "cell_type": "code",
   "execution_count": 44,
   "id": "dd4b9ac5-dfaf-4e3b-9db6-feda73729ba4",
   "metadata": {},
   "outputs": [
    {
     "name": "stdout",
     "output_type": "stream",
     "text": [
      "{1, 3, 5, 7, 9, 11, 13}\n"
     ]
    }
   ],
   "source": [
    "odds = {i for i in digits if i%2 != 0}\n",
    "print(odds)"
   ]
  }
 ],
 "metadata": {
  "kernelspec": {
   "display_name": "Python 3",
   "language": "python",
   "name": "python3"
  },
  "language_info": {
   "codemirror_mode": {
    "name": "ipython",
    "version": 3
   },
   "file_extension": ".py",
   "mimetype": "text/x-python",
   "name": "python",
   "nbconvert_exporter": "python",
   "pygments_lexer": "ipython3",
   "version": "3.8.8"
  }
 },
 "nbformat": 4,
 "nbformat_minor": 5
}
