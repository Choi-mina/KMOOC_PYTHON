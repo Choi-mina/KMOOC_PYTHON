{
 "cells": [
  {
   "cell_type": "markdown",
   "id": "9aa800ca-f3d6-4e5b-8dd1-9c82b1133bc3",
   "metadata": {},
   "source": [
    "__1. Strings: formatted strings(f-strings)__"
   ]
  },
  {
   "cell_type": "code",
   "execution_count": 6,
   "id": "93e37fdd-fe54-4a6a-8ac2-40a1c5056c27",
   "metadata": {},
   "outputs": [
    {
     "name": "stdout",
     "output_type": "stream",
     "text": [
      "['L', 'o', 'n', 'g', ' ', 'l', 'i', 'v', 'e', ' ', 't', 'h', 'e', ' ', 'K', 'i', 'n', 'g']\n"
     ]
    }
   ],
   "source": [
    "mansei = list('Long live the King')\n",
    "print(mansei)"
   ]
  },
  {
   "cell_type": "code",
   "execution_count": 8,
   "id": "2b02af2b-f257-4982-95a5-7c874a7bef6e",
   "metadata": {},
   "outputs": [
    {
     "name": "stdout",
     "output_type": "stream",
     "text": [
      "     1.235\n"
     ]
    },
    {
     "data": {
      "text/plain": [
       "'  1.235   '"
      ]
     },
     "execution_count": 8,
     "metadata": {},
     "output_type": "execute_result"
    }
   ],
   "source": [
    "print(f'{1.23456:10.3f}')\n",
    "f'{1.23456:^10.3f}'"
   ]
  },
  {
   "cell_type": "code",
   "execution_count": 3,
   "id": "03ba2a9f-1e8b-44c8-8732-a400cd894f9b",
   "metadata": {},
   "outputs": [
    {
     "name": "stdout",
     "output_type": "stream",
     "text": [
      "21        \n",
      "     10101\n"
     ]
    }
   ],
   "source": [
    "print(f'{21:<10}\\n{21:10b}')"
   ]
  },
  {
   "cell_type": "code",
   "execution_count": 4,
   "id": "c4a01909-4973-45b3-84c6-10d7151a621a",
   "metadata": {},
   "outputs": [
    {
     "name": "stdout",
     "output_type": "stream",
     "text": [
      "         A\n",
      "         c\n"
     ]
    }
   ],
   "source": [
    "print(f'{65:10c}\\n{99:10c}')"
   ]
  },
  {
   "cell_type": "code",
   "execution_count": 5,
   "id": "d0d1b9aa-e398-4905-9534-c55ce8c5e115",
   "metadata": {},
   "outputs": [
    {
     "name": "stdout",
     "output_type": "stream",
     "text": [
      "Python    \n",
      "        98\n"
     ]
    }
   ],
   "source": [
    "print(f'{\"Python\":10}\\n{98:10}')"
   ]
  },
  {
   "cell_type": "markdown",
   "id": "bfccf2ec-1ced-41f3-b05c-59873346f425",
   "metadata": {},
   "source": [
    "__2.Intercharging a character and a ASCII code of the character__"
   ]
  },
  {
   "cell_type": "code",
   "execution_count": 9,
   "id": "5d3b81ef-3f6a-4e1d-af45-ccc0e887ee3a",
   "metadata": {},
   "outputs": [
    {
     "name": "stdout",
     "output_type": "stream",
     "text": [
      "65 A 66 B\n"
     ]
    }
   ],
   "source": [
    "print(ord('A'), chr(65), ord('B'), chr(66))"
   ]
  },
  {
   "cell_type": "markdown",
   "id": "c9e0350d-12a2-45e7-be14-b2de2063b083",
   "metadata": {},
   "source": [
    "__3. File reading and dataset repositories__"
   ]
  },
  {
   "cell_type": "code",
   "execution_count": 10,
   "id": "567add21-5ab1-4b4e-96f8-5f480df0ff8d",
   "metadata": {},
   "outputs": [],
   "source": [
    "import pandas as pd\n",
    "import numpy as np\n",
    "import matplotlib.pyplot as plt"
   ]
  },
  {
   "cell_type": "code",
   "execution_count": 11,
   "id": "e82bc9d5-85c9-4d94-82d4-9250063eff8a",
   "metadata": {},
   "outputs": [],
   "source": [
    "irisdata = pd.read_csv(\"https://archive.ics.uci.edu/ml/machine-learning-databases/iris/iris.data\", header = None)"
   ]
  },
  {
   "cell_type": "code",
   "execution_count": 12,
   "id": "ec1f6e7f-97fc-49db-9f29-a831be07d29d",
   "metadata": {},
   "outputs": [],
   "source": [
    "irisdata.columns = ['SepalLength', 'SepalWidth', 'PetalLength', 'PetalWidth','Name']"
   ]
  },
  {
   "cell_type": "code",
   "execution_count": 13,
   "id": "2479dec0-e7d0-4524-9c6e-93eb241e41be",
   "metadata": {},
   "outputs": [
    {
     "data": {
      "text/html": [
       "<div>\n",
       "<style scoped>\n",
       "    .dataframe tbody tr th:only-of-type {\n",
       "        vertical-align: middle;\n",
       "    }\n",
       "\n",
       "    .dataframe tbody tr th {\n",
       "        vertical-align: top;\n",
       "    }\n",
       "\n",
       "    .dataframe thead th {\n",
       "        text-align: right;\n",
       "    }\n",
       "</style>\n",
       "<table border=\"1\" class=\"dataframe\">\n",
       "  <thead>\n",
       "    <tr style=\"text-align: right;\">\n",
       "      <th></th>\n",
       "      <th>SepalLength</th>\n",
       "      <th>SepalWidth</th>\n",
       "      <th>PetalLength</th>\n",
       "      <th>PetalWidth</th>\n",
       "      <th>Name</th>\n",
       "    </tr>\n",
       "  </thead>\n",
       "  <tbody>\n",
       "    <tr>\n",
       "      <th>0</th>\n",
       "      <td>5.1</td>\n",
       "      <td>3.5</td>\n",
       "      <td>1.4</td>\n",
       "      <td>0.2</td>\n",
       "      <td>Iris-setosa</td>\n",
       "    </tr>\n",
       "    <tr>\n",
       "      <th>1</th>\n",
       "      <td>4.9</td>\n",
       "      <td>3.0</td>\n",
       "      <td>1.4</td>\n",
       "      <td>0.2</td>\n",
       "      <td>Iris-setosa</td>\n",
       "    </tr>\n",
       "    <tr>\n",
       "      <th>2</th>\n",
       "      <td>4.7</td>\n",
       "      <td>3.2</td>\n",
       "      <td>1.3</td>\n",
       "      <td>0.2</td>\n",
       "      <td>Iris-setosa</td>\n",
       "    </tr>\n",
       "    <tr>\n",
       "      <th>3</th>\n",
       "      <td>4.6</td>\n",
       "      <td>3.1</td>\n",
       "      <td>1.5</td>\n",
       "      <td>0.2</td>\n",
       "      <td>Iris-setosa</td>\n",
       "    </tr>\n",
       "    <tr>\n",
       "      <th>4</th>\n",
       "      <td>5.0</td>\n",
       "      <td>3.6</td>\n",
       "      <td>1.4</td>\n",
       "      <td>0.2</td>\n",
       "      <td>Iris-setosa</td>\n",
       "    </tr>\n",
       "    <tr>\n",
       "      <th>5</th>\n",
       "      <td>5.4</td>\n",
       "      <td>3.9</td>\n",
       "      <td>1.7</td>\n",
       "      <td>0.4</td>\n",
       "      <td>Iris-setosa</td>\n",
       "    </tr>\n",
       "    <tr>\n",
       "      <th>6</th>\n",
       "      <td>4.6</td>\n",
       "      <td>3.4</td>\n",
       "      <td>1.4</td>\n",
       "      <td>0.3</td>\n",
       "      <td>Iris-setosa</td>\n",
       "    </tr>\n",
       "    <tr>\n",
       "      <th>7</th>\n",
       "      <td>5.0</td>\n",
       "      <td>3.4</td>\n",
       "      <td>1.5</td>\n",
       "      <td>0.2</td>\n",
       "      <td>Iris-setosa</td>\n",
       "    </tr>\n",
       "    <tr>\n",
       "      <th>8</th>\n",
       "      <td>4.4</td>\n",
       "      <td>2.9</td>\n",
       "      <td>1.4</td>\n",
       "      <td>0.2</td>\n",
       "      <td>Iris-setosa</td>\n",
       "    </tr>\n",
       "    <tr>\n",
       "      <th>9</th>\n",
       "      <td>4.9</td>\n",
       "      <td>3.1</td>\n",
       "      <td>1.5</td>\n",
       "      <td>0.1</td>\n",
       "      <td>Iris-setosa</td>\n",
       "    </tr>\n",
       "  </tbody>\n",
       "</table>\n",
       "</div>"
      ],
      "text/plain": [
       "   SepalLength  SepalWidth  PetalLength  PetalWidth         Name\n",
       "0          5.1         3.5          1.4         0.2  Iris-setosa\n",
       "1          4.9         3.0          1.4         0.2  Iris-setosa\n",
       "2          4.7         3.2          1.3         0.2  Iris-setosa\n",
       "3          4.6         3.1          1.5         0.2  Iris-setosa\n",
       "4          5.0         3.6          1.4         0.2  Iris-setosa\n",
       "5          5.4         3.9          1.7         0.4  Iris-setosa\n",
       "6          4.6         3.4          1.4         0.3  Iris-setosa\n",
       "7          5.0         3.4          1.5         0.2  Iris-setosa\n",
       "8          4.4         2.9          1.4         0.2  Iris-setosa\n",
       "9          4.9         3.1          1.5         0.1  Iris-setosa"
      ]
     },
     "execution_count": 13,
     "metadata": {},
     "output_type": "execute_result"
    }
   ],
   "source": [
    "irisdata.head(10)"
   ]
  },
  {
   "cell_type": "code",
   "execution_count": 14,
   "id": "6745d8e1-42f7-491d-97b3-dae69750a8bf",
   "metadata": {},
   "outputs": [
    {
     "data": {
      "text/plain": [
       "150"
      ]
     },
     "execution_count": 14,
     "metadata": {},
     "output_type": "execute_result"
    }
   ],
   "source": [
    "len(irisdata)"
   ]
  },
  {
   "cell_type": "code",
   "execution_count": 15,
   "id": "76f88e16-f154-412d-9803-ea3163fc420e",
   "metadata": {},
   "outputs": [
    {
     "data": {
      "text/plain": [
       "('Iris-versicolor',\n",
       "     SepalLength  SepalWidth  PetalLength  PetalWidth             Name\n",
       " 50          7.0         3.2          4.7         1.4  Iris-versicolor\n",
       " 51          6.4         3.2          4.5         1.5  Iris-versicolor\n",
       " 52          6.9         3.1          4.9         1.5  Iris-versicolor\n",
       " 53          5.5         2.3          4.0         1.3  Iris-versicolor\n",
       " 54          6.5         2.8          4.6         1.5  Iris-versicolor\n",
       " 55          5.7         2.8          4.5         1.3  Iris-versicolor\n",
       " 56          6.3         3.3          4.7         1.6  Iris-versicolor\n",
       " 57          4.9         2.4          3.3         1.0  Iris-versicolor\n",
       " 58          6.6         2.9          4.6         1.3  Iris-versicolor\n",
       " 59          5.2         2.7          3.9         1.4  Iris-versicolor\n",
       " 60          5.0         2.0          3.5         1.0  Iris-versicolor\n",
       " 61          5.9         3.0          4.2         1.5  Iris-versicolor\n",
       " 62          6.0         2.2          4.0         1.0  Iris-versicolor\n",
       " 63          6.1         2.9          4.7         1.4  Iris-versicolor\n",
       " 64          5.6         2.9          3.6         1.3  Iris-versicolor\n",
       " 65          6.7         3.1          4.4         1.4  Iris-versicolor\n",
       " 66          5.6         3.0          4.5         1.5  Iris-versicolor\n",
       " 67          5.8         2.7          4.1         1.0  Iris-versicolor\n",
       " 68          6.2         2.2          4.5         1.5  Iris-versicolor\n",
       " 69          5.6         2.5          3.9         1.1  Iris-versicolor\n",
       " 70          5.9         3.2          4.8         1.8  Iris-versicolor\n",
       " 71          6.1         2.8          4.0         1.3  Iris-versicolor\n",
       " 72          6.3         2.5          4.9         1.5  Iris-versicolor\n",
       " 73          6.1         2.8          4.7         1.2  Iris-versicolor\n",
       " 74          6.4         2.9          4.3         1.3  Iris-versicolor\n",
       " 75          6.6         3.0          4.4         1.4  Iris-versicolor\n",
       " 76          6.8         2.8          4.8         1.4  Iris-versicolor\n",
       " 77          6.7         3.0          5.0         1.7  Iris-versicolor\n",
       " 78          6.0         2.9          4.5         1.5  Iris-versicolor\n",
       " 79          5.7         2.6          3.5         1.0  Iris-versicolor\n",
       " 80          5.5         2.4          3.8         1.1  Iris-versicolor\n",
       " 81          5.5         2.4          3.7         1.0  Iris-versicolor\n",
       " 82          5.8         2.7          3.9         1.2  Iris-versicolor\n",
       " 83          6.0         2.7          5.1         1.6  Iris-versicolor\n",
       " 84          5.4         3.0          4.5         1.5  Iris-versicolor\n",
       " 85          6.0         3.4          4.5         1.6  Iris-versicolor\n",
       " 86          6.7         3.1          4.7         1.5  Iris-versicolor\n",
       " 87          6.3         2.3          4.4         1.3  Iris-versicolor\n",
       " 88          5.6         3.0          4.1         1.3  Iris-versicolor\n",
       " 89          5.5         2.5          4.0         1.3  Iris-versicolor\n",
       " 90          5.5         2.6          4.4         1.2  Iris-versicolor\n",
       " 91          6.1         3.0          4.6         1.4  Iris-versicolor\n",
       " 92          5.8         2.6          4.0         1.2  Iris-versicolor\n",
       " 93          5.0         2.3          3.3         1.0  Iris-versicolor\n",
       " 94          5.6         2.7          4.2         1.3  Iris-versicolor\n",
       " 95          5.7         3.0          4.2         1.2  Iris-versicolor\n",
       " 96          5.7         2.9          4.2         1.3  Iris-versicolor\n",
       " 97          6.2         2.9          4.3         1.3  Iris-versicolor\n",
       " 98          5.1         2.5          3.0         1.1  Iris-versicolor\n",
       " 99          5.7         2.8          4.1         1.3  Iris-versicolor)"
      ]
     },
     "execution_count": 15,
     "metadata": {},
     "output_type": "execute_result"
    }
   ],
   "source": [
    "groups = irisdata.groupby('Name')\n",
    "list(groups)[1]"
   ]
  },
  {
   "cell_type": "code",
   "execution_count": 17,
   "id": "b3c5033b-5453-402a-aa8f-387cffba8c07",
   "metadata": {},
   "outputs": [
    {
     "data": {
      "text/html": [
       "<div>\n",
       "<style scoped>\n",
       "    .dataframe tbody tr th:only-of-type {\n",
       "        vertical-align: middle;\n",
       "    }\n",
       "\n",
       "    .dataframe tbody tr th {\n",
       "        vertical-align: top;\n",
       "    }\n",
       "\n",
       "    .dataframe thead th {\n",
       "        text-align: right;\n",
       "    }\n",
       "</style>\n",
       "<table border=\"1\" class=\"dataframe\">\n",
       "  <thead>\n",
       "    <tr style=\"text-align: right;\">\n",
       "      <th></th>\n",
       "      <th>SepalL</th>\n",
       "      <th>SepalW</th>\n",
       "      <th>PetalL</th>\n",
       "      <th>PetalW</th>\n",
       "      <th>Name</th>\n",
       "    </tr>\n",
       "  </thead>\n",
       "  <tbody>\n",
       "    <tr>\n",
       "      <th>0</th>\n",
       "      <td>5.1</td>\n",
       "      <td>3.5</td>\n",
       "      <td>1.4</td>\n",
       "      <td>0.2</td>\n",
       "      <td>Iris-setosa</td>\n",
       "    </tr>\n",
       "    <tr>\n",
       "      <th>1</th>\n",
       "      <td>4.9</td>\n",
       "      <td>3.0</td>\n",
       "      <td>1.4</td>\n",
       "      <td>0.2</td>\n",
       "      <td>Iris-setosa</td>\n",
       "    </tr>\n",
       "    <tr>\n",
       "      <th>2</th>\n",
       "      <td>4.7</td>\n",
       "      <td>3.2</td>\n",
       "      <td>1.3</td>\n",
       "      <td>0.2</td>\n",
       "      <td>Iris-setosa</td>\n",
       "    </tr>\n",
       "    <tr>\n",
       "      <th>3</th>\n",
       "      <td>4.6</td>\n",
       "      <td>3.1</td>\n",
       "      <td>1.5</td>\n",
       "      <td>0.2</td>\n",
       "      <td>Iris-setosa</td>\n",
       "    </tr>\n",
       "    <tr>\n",
       "      <th>4</th>\n",
       "      <td>5.0</td>\n",
       "      <td>3.6</td>\n",
       "      <td>1.4</td>\n",
       "      <td>0.2</td>\n",
       "      <td>Iris-setosa</td>\n",
       "    </tr>\n",
       "  </tbody>\n",
       "</table>\n",
       "</div>"
      ],
      "text/plain": [
       "   SepalL  SepalW  PetalL  PetalW         Name\n",
       "0     5.1     3.5     1.4     0.2  Iris-setosa\n",
       "1     4.9     3.0     1.4     0.2  Iris-setosa\n",
       "2     4.7     3.2     1.3     0.2  Iris-setosa\n",
       "3     4.6     3.1     1.5     0.2  Iris-setosa\n",
       "4     5.0     3.6     1.4     0.2  Iris-setosa"
      ]
     },
     "execution_count": 17,
     "metadata": {},
     "output_type": "execute_result"
    }
   ],
   "source": [
    "iris = pd.read_csv('data/iris.csv')\n",
    "iris.head()"
   ]
  },
  {
   "cell_type": "code",
   "execution_count": 18,
   "id": "6fd30085-fcea-41cc-9426-2f7b94725221",
   "metadata": {},
   "outputs": [
    {
     "data": {
      "text/html": [
       "<div>\n",
       "<style scoped>\n",
       "    .dataframe tbody tr th:only-of-type {\n",
       "        vertical-align: middle;\n",
       "    }\n",
       "\n",
       "    .dataframe tbody tr th {\n",
       "        vertical-align: top;\n",
       "    }\n",
       "\n",
       "    .dataframe thead th {\n",
       "        text-align: right;\n",
       "    }\n",
       "</style>\n",
       "<table border=\"1\" class=\"dataframe\">\n",
       "  <thead>\n",
       "    <tr style=\"text-align: right;\">\n",
       "      <th></th>\n",
       "      <th>SepalL</th>\n",
       "      <th>SepalW</th>\n",
       "      <th>PetalL</th>\n",
       "      <th>PetalW</th>\n",
       "    </tr>\n",
       "  </thead>\n",
       "  <tbody>\n",
       "    <tr>\n",
       "      <th>count</th>\n",
       "      <td>150.00</td>\n",
       "      <td>150.00</td>\n",
       "      <td>150.00</td>\n",
       "      <td>150.00</td>\n",
       "    </tr>\n",
       "    <tr>\n",
       "      <th>mean</th>\n",
       "      <td>5.84</td>\n",
       "      <td>3.05</td>\n",
       "      <td>3.76</td>\n",
       "      <td>1.20</td>\n",
       "    </tr>\n",
       "    <tr>\n",
       "      <th>std</th>\n",
       "      <td>0.83</td>\n",
       "      <td>0.43</td>\n",
       "      <td>1.76</td>\n",
       "      <td>0.76</td>\n",
       "    </tr>\n",
       "    <tr>\n",
       "      <th>min</th>\n",
       "      <td>4.30</td>\n",
       "      <td>2.00</td>\n",
       "      <td>1.00</td>\n",
       "      <td>0.10</td>\n",
       "    </tr>\n",
       "    <tr>\n",
       "      <th>25%</th>\n",
       "      <td>5.10</td>\n",
       "      <td>2.80</td>\n",
       "      <td>1.60</td>\n",
       "      <td>0.30</td>\n",
       "    </tr>\n",
       "    <tr>\n",
       "      <th>50%</th>\n",
       "      <td>5.80</td>\n",
       "      <td>3.00</td>\n",
       "      <td>4.35</td>\n",
       "      <td>1.30</td>\n",
       "    </tr>\n",
       "    <tr>\n",
       "      <th>75%</th>\n",
       "      <td>6.40</td>\n",
       "      <td>3.30</td>\n",
       "      <td>5.10</td>\n",
       "      <td>1.80</td>\n",
       "    </tr>\n",
       "    <tr>\n",
       "      <th>max</th>\n",
       "      <td>7.90</td>\n",
       "      <td>4.40</td>\n",
       "      <td>6.90</td>\n",
       "      <td>2.50</td>\n",
       "    </tr>\n",
       "  </tbody>\n",
       "</table>\n",
       "</div>"
      ],
      "text/plain": [
       "       SepalL  SepalW  PetalL  PetalW\n",
       "count  150.00  150.00  150.00  150.00\n",
       "mean     5.84    3.05    3.76    1.20\n",
       "std      0.83    0.43    1.76    0.76\n",
       "min      4.30    2.00    1.00    0.10\n",
       "25%      5.10    2.80    1.60    0.30\n",
       "50%      5.80    3.00    4.35    1.30\n",
       "75%      6.40    3.30    5.10    1.80\n",
       "max      7.90    4.40    6.90    2.50"
      ]
     },
     "execution_count": 18,
     "metadata": {},
     "output_type": "execute_result"
    }
   ],
   "source": [
    "pd.set_option('precision', 2)\n",
    "iris.describe()"
   ]
  },
  {
   "cell_type": "code",
   "execution_count": 19,
   "id": "4cf47665-3d62-4051-987e-e556172df1d0",
   "metadata": {},
   "outputs": [
    {
     "data": {
      "text/html": [
       "<div>\n",
       "<style scoped>\n",
       "    .dataframe tbody tr th:only-of-type {\n",
       "        vertical-align: middle;\n",
       "    }\n",
       "\n",
       "    .dataframe tbody tr th {\n",
       "        vertical-align: top;\n",
       "    }\n",
       "\n",
       "    .dataframe thead th {\n",
       "        text-align: right;\n",
       "    }\n",
       "</style>\n",
       "<table border=\"1\" class=\"dataframe\">\n",
       "  <thead>\n",
       "    <tr style=\"text-align: right;\">\n",
       "      <th></th>\n",
       "      <th>Name</th>\n",
       "      <th>Iris-setosa</th>\n",
       "      <th>Iris-versicolor</th>\n",
       "      <th>Iris-virginica</th>\n",
       "    </tr>\n",
       "  </thead>\n",
       "  <tbody>\n",
       "    <tr>\n",
       "      <th rowspan=\"8\" valign=\"top\">SepalLength</th>\n",
       "      <th>count</th>\n",
       "      <td>50.00</td>\n",
       "      <td>50.00</td>\n",
       "      <td>50.00</td>\n",
       "    </tr>\n",
       "    <tr>\n",
       "      <th>mean</th>\n",
       "      <td>5.01</td>\n",
       "      <td>5.94</td>\n",
       "      <td>6.59</td>\n",
       "    </tr>\n",
       "    <tr>\n",
       "      <th>std</th>\n",
       "      <td>0.35</td>\n",
       "      <td>0.52</td>\n",
       "      <td>0.64</td>\n",
       "    </tr>\n",
       "    <tr>\n",
       "      <th>min</th>\n",
       "      <td>4.30</td>\n",
       "      <td>4.90</td>\n",
       "      <td>4.90</td>\n",
       "    </tr>\n",
       "    <tr>\n",
       "      <th>25%</th>\n",
       "      <td>4.80</td>\n",
       "      <td>5.60</td>\n",
       "      <td>6.22</td>\n",
       "    </tr>\n",
       "    <tr>\n",
       "      <th>50%</th>\n",
       "      <td>5.00</td>\n",
       "      <td>5.90</td>\n",
       "      <td>6.50</td>\n",
       "    </tr>\n",
       "    <tr>\n",
       "      <th>75%</th>\n",
       "      <td>5.20</td>\n",
       "      <td>6.30</td>\n",
       "      <td>6.90</td>\n",
       "    </tr>\n",
       "    <tr>\n",
       "      <th>max</th>\n",
       "      <td>5.80</td>\n",
       "      <td>7.00</td>\n",
       "      <td>7.90</td>\n",
       "    </tr>\n",
       "    <tr>\n",
       "      <th rowspan=\"8\" valign=\"top\">SepalWidth</th>\n",
       "      <th>count</th>\n",
       "      <td>50.00</td>\n",
       "      <td>50.00</td>\n",
       "      <td>50.00</td>\n",
       "    </tr>\n",
       "    <tr>\n",
       "      <th>mean</th>\n",
       "      <td>3.42</td>\n",
       "      <td>2.77</td>\n",
       "      <td>2.97</td>\n",
       "    </tr>\n",
       "    <tr>\n",
       "      <th>std</th>\n",
       "      <td>0.38</td>\n",
       "      <td>0.31</td>\n",
       "      <td>0.32</td>\n",
       "    </tr>\n",
       "    <tr>\n",
       "      <th>min</th>\n",
       "      <td>2.30</td>\n",
       "      <td>2.00</td>\n",
       "      <td>2.20</td>\n",
       "    </tr>\n",
       "    <tr>\n",
       "      <th>25%</th>\n",
       "      <td>3.12</td>\n",
       "      <td>2.52</td>\n",
       "      <td>2.80</td>\n",
       "    </tr>\n",
       "    <tr>\n",
       "      <th>50%</th>\n",
       "      <td>3.40</td>\n",
       "      <td>2.80</td>\n",
       "      <td>3.00</td>\n",
       "    </tr>\n",
       "    <tr>\n",
       "      <th>75%</th>\n",
       "      <td>3.68</td>\n",
       "      <td>3.00</td>\n",
       "      <td>3.18</td>\n",
       "    </tr>\n",
       "    <tr>\n",
       "      <th>max</th>\n",
       "      <td>4.40</td>\n",
       "      <td>3.40</td>\n",
       "      <td>3.80</td>\n",
       "    </tr>\n",
       "    <tr>\n",
       "      <th rowspan=\"8\" valign=\"top\">PetalLength</th>\n",
       "      <th>count</th>\n",
       "      <td>50.00</td>\n",
       "      <td>50.00</td>\n",
       "      <td>50.00</td>\n",
       "    </tr>\n",
       "    <tr>\n",
       "      <th>mean</th>\n",
       "      <td>1.46</td>\n",
       "      <td>4.26</td>\n",
       "      <td>5.55</td>\n",
       "    </tr>\n",
       "    <tr>\n",
       "      <th>std</th>\n",
       "      <td>0.17</td>\n",
       "      <td>0.47</td>\n",
       "      <td>0.55</td>\n",
       "    </tr>\n",
       "    <tr>\n",
       "      <th>min</th>\n",
       "      <td>1.00</td>\n",
       "      <td>3.00</td>\n",
       "      <td>4.50</td>\n",
       "    </tr>\n",
       "    <tr>\n",
       "      <th>25%</th>\n",
       "      <td>1.40</td>\n",
       "      <td>4.00</td>\n",
       "      <td>5.10</td>\n",
       "    </tr>\n",
       "    <tr>\n",
       "      <th>50%</th>\n",
       "      <td>1.50</td>\n",
       "      <td>4.35</td>\n",
       "      <td>5.55</td>\n",
       "    </tr>\n",
       "    <tr>\n",
       "      <th>75%</th>\n",
       "      <td>1.58</td>\n",
       "      <td>4.60</td>\n",
       "      <td>5.88</td>\n",
       "    </tr>\n",
       "    <tr>\n",
       "      <th>max</th>\n",
       "      <td>1.90</td>\n",
       "      <td>5.10</td>\n",
       "      <td>6.90</td>\n",
       "    </tr>\n",
       "    <tr>\n",
       "      <th rowspan=\"8\" valign=\"top\">PetalWidth</th>\n",
       "      <th>count</th>\n",
       "      <td>50.00</td>\n",
       "      <td>50.00</td>\n",
       "      <td>50.00</td>\n",
       "    </tr>\n",
       "    <tr>\n",
       "      <th>mean</th>\n",
       "      <td>0.24</td>\n",
       "      <td>1.33</td>\n",
       "      <td>2.03</td>\n",
       "    </tr>\n",
       "    <tr>\n",
       "      <th>std</th>\n",
       "      <td>0.11</td>\n",
       "      <td>0.20</td>\n",
       "      <td>0.27</td>\n",
       "    </tr>\n",
       "    <tr>\n",
       "      <th>min</th>\n",
       "      <td>0.10</td>\n",
       "      <td>1.00</td>\n",
       "      <td>1.40</td>\n",
       "    </tr>\n",
       "    <tr>\n",
       "      <th>25%</th>\n",
       "      <td>0.20</td>\n",
       "      <td>1.20</td>\n",
       "      <td>1.80</td>\n",
       "    </tr>\n",
       "    <tr>\n",
       "      <th>50%</th>\n",
       "      <td>0.20</td>\n",
       "      <td>1.30</td>\n",
       "      <td>2.00</td>\n",
       "    </tr>\n",
       "    <tr>\n",
       "      <th>75%</th>\n",
       "      <td>0.30</td>\n",
       "      <td>1.50</td>\n",
       "      <td>2.30</td>\n",
       "    </tr>\n",
       "    <tr>\n",
       "      <th>max</th>\n",
       "      <td>0.60</td>\n",
       "      <td>1.80</td>\n",
       "      <td>2.50</td>\n",
       "    </tr>\n",
       "  </tbody>\n",
       "</table>\n",
       "</div>"
      ],
      "text/plain": [
       "Name               Iris-setosa  Iris-versicolor  Iris-virginica\n",
       "SepalLength count        50.00            50.00           50.00\n",
       "            mean          5.01             5.94            6.59\n",
       "            std           0.35             0.52            0.64\n",
       "            min           4.30             4.90            4.90\n",
       "            25%           4.80             5.60            6.22\n",
       "            50%           5.00             5.90            6.50\n",
       "            75%           5.20             6.30            6.90\n",
       "            max           5.80             7.00            7.90\n",
       "SepalWidth  count        50.00            50.00           50.00\n",
       "            mean          3.42             2.77            2.97\n",
       "            std           0.38             0.31            0.32\n",
       "            min           2.30             2.00            2.20\n",
       "            25%           3.12             2.52            2.80\n",
       "            50%           3.40             2.80            3.00\n",
       "            75%           3.68             3.00            3.18\n",
       "            max           4.40             3.40            3.80\n",
       "PetalLength count        50.00            50.00           50.00\n",
       "            mean          1.46             4.26            5.55\n",
       "            std           0.17             0.47            0.55\n",
       "            min           1.00             3.00            4.50\n",
       "            25%           1.40             4.00            5.10\n",
       "            50%           1.50             4.35            5.55\n",
       "            75%           1.58             4.60            5.88\n",
       "            max           1.90             5.10            6.90\n",
       "PetalWidth  count        50.00            50.00           50.00\n",
       "            mean          0.24             1.33            2.03\n",
       "            std           0.11             0.20            0.27\n",
       "            min           0.10             1.00            1.40\n",
       "            25%           0.20             1.20            1.80\n",
       "            50%           0.20             1.30            2.00\n",
       "            75%           0.30             1.50            2.30\n",
       "            max           0.60             1.80            2.50"
      ]
     },
     "execution_count": 19,
     "metadata": {},
     "output_type": "execute_result"
    }
   ],
   "source": [
    "irisdata.groupby('Name').describe().T"
   ]
  },
  {
   "cell_type": "code",
   "execution_count": 20,
   "id": "549da28c-ebc0-472f-af80-fd265b09d60e",
   "metadata": {},
   "outputs": [
    {
     "data": {
      "text/html": [
       "<div>\n",
       "<style scoped>\n",
       "    .dataframe tbody tr th:only-of-type {\n",
       "        vertical-align: middle;\n",
       "    }\n",
       "\n",
       "    .dataframe tbody tr th {\n",
       "        vertical-align: top;\n",
       "    }\n",
       "\n",
       "    .dataframe thead th {\n",
       "        text-align: right;\n",
       "    }\n",
       "</style>\n",
       "<table border=\"1\" class=\"dataframe\">\n",
       "  <thead>\n",
       "    <tr style=\"text-align: right;\">\n",
       "      <th></th>\n",
       "      <th>SepalLength</th>\n",
       "      <th>SepalWidth</th>\n",
       "      <th>PetalLength</th>\n",
       "      <th>PetalWidth</th>\n",
       "    </tr>\n",
       "  </thead>\n",
       "  <tbody>\n",
       "    <tr>\n",
       "      <th>SepalLength</th>\n",
       "      <td>0.69</td>\n",
       "      <td>-0.04</td>\n",
       "      <td>1.27</td>\n",
       "      <td>0.52</td>\n",
       "    </tr>\n",
       "    <tr>\n",
       "      <th>SepalWidth</th>\n",
       "      <td>-0.04</td>\n",
       "      <td>0.19</td>\n",
       "      <td>-0.32</td>\n",
       "      <td>-0.12</td>\n",
       "    </tr>\n",
       "    <tr>\n",
       "      <th>PetalLength</th>\n",
       "      <td>1.27</td>\n",
       "      <td>-0.32</td>\n",
       "      <td>3.11</td>\n",
       "      <td>1.30</td>\n",
       "    </tr>\n",
       "    <tr>\n",
       "      <th>PetalWidth</th>\n",
       "      <td>0.52</td>\n",
       "      <td>-0.12</td>\n",
       "      <td>1.30</td>\n",
       "      <td>0.58</td>\n",
       "    </tr>\n",
       "  </tbody>\n",
       "</table>\n",
       "</div>"
      ],
      "text/plain": [
       "             SepalLength  SepalWidth  PetalLength  PetalWidth\n",
       "SepalLength         0.69       -0.04         1.27        0.52\n",
       "SepalWidth         -0.04        0.19        -0.32       -0.12\n",
       "PetalLength         1.27       -0.32         3.11        1.30\n",
       "PetalWidth          0.52       -0.12         1.30        0.58"
      ]
     },
     "execution_count": 20,
     "metadata": {},
     "output_type": "execute_result"
    }
   ],
   "source": [
    "irisdata.cov()"
   ]
  },
  {
   "cell_type": "code",
   "execution_count": 21,
   "id": "b5061b1e-211e-4383-a39d-bf9d5c07769c",
   "metadata": {},
   "outputs": [
    {
     "data": {
      "text/html": [
       "<div>\n",
       "<style scoped>\n",
       "    .dataframe tbody tr th:only-of-type {\n",
       "        vertical-align: middle;\n",
       "    }\n",
       "\n",
       "    .dataframe tbody tr th {\n",
       "        vertical-align: top;\n",
       "    }\n",
       "\n",
       "    .dataframe thead th {\n",
       "        text-align: right;\n",
       "    }\n",
       "</style>\n",
       "<table border=\"1\" class=\"dataframe\">\n",
       "  <thead>\n",
       "    <tr style=\"text-align: right;\">\n",
       "      <th></th>\n",
       "      <th></th>\n",
       "      <th>SepalLength</th>\n",
       "      <th>SepalWidth</th>\n",
       "      <th>PetalLength</th>\n",
       "      <th>PetalWidth</th>\n",
       "    </tr>\n",
       "    <tr>\n",
       "      <th>Name</th>\n",
       "      <th></th>\n",
       "      <th></th>\n",
       "      <th></th>\n",
       "      <th></th>\n",
       "      <th></th>\n",
       "    </tr>\n",
       "  </thead>\n",
       "  <tbody>\n",
       "    <tr>\n",
       "      <th rowspan=\"4\" valign=\"top\">Iris-setosa</th>\n",
       "      <th>SepalLength</th>\n",
       "      <td>1.00</td>\n",
       "      <td>0.75</td>\n",
       "      <td>0.26</td>\n",
       "      <td>0.28</td>\n",
       "    </tr>\n",
       "    <tr>\n",
       "      <th>SepalWidth</th>\n",
       "      <td>0.75</td>\n",
       "      <td>1.00</td>\n",
       "      <td>0.18</td>\n",
       "      <td>0.28</td>\n",
       "    </tr>\n",
       "    <tr>\n",
       "      <th>PetalLength</th>\n",
       "      <td>0.26</td>\n",
       "      <td>0.18</td>\n",
       "      <td>1.00</td>\n",
       "      <td>0.31</td>\n",
       "    </tr>\n",
       "    <tr>\n",
       "      <th>PetalWidth</th>\n",
       "      <td>0.28</td>\n",
       "      <td>0.28</td>\n",
       "      <td>0.31</td>\n",
       "      <td>1.00</td>\n",
       "    </tr>\n",
       "    <tr>\n",
       "      <th rowspan=\"4\" valign=\"top\">Iris-versicolor</th>\n",
       "      <th>SepalLength</th>\n",
       "      <td>1.00</td>\n",
       "      <td>0.53</td>\n",
       "      <td>0.75</td>\n",
       "      <td>0.55</td>\n",
       "    </tr>\n",
       "    <tr>\n",
       "      <th>SepalWidth</th>\n",
       "      <td>0.53</td>\n",
       "      <td>1.00</td>\n",
       "      <td>0.56</td>\n",
       "      <td>0.66</td>\n",
       "    </tr>\n",
       "    <tr>\n",
       "      <th>PetalLength</th>\n",
       "      <td>0.75</td>\n",
       "      <td>0.56</td>\n",
       "      <td>1.00</td>\n",
       "      <td>0.79</td>\n",
       "    </tr>\n",
       "    <tr>\n",
       "      <th>PetalWidth</th>\n",
       "      <td>0.55</td>\n",
       "      <td>0.66</td>\n",
       "      <td>0.79</td>\n",
       "      <td>1.00</td>\n",
       "    </tr>\n",
       "    <tr>\n",
       "      <th rowspan=\"4\" valign=\"top\">Iris-virginica</th>\n",
       "      <th>SepalLength</th>\n",
       "      <td>1.00</td>\n",
       "      <td>0.46</td>\n",
       "      <td>0.86</td>\n",
       "      <td>0.28</td>\n",
       "    </tr>\n",
       "    <tr>\n",
       "      <th>SepalWidth</th>\n",
       "      <td>0.46</td>\n",
       "      <td>1.00</td>\n",
       "      <td>0.40</td>\n",
       "      <td>0.54</td>\n",
       "    </tr>\n",
       "    <tr>\n",
       "      <th>PetalLength</th>\n",
       "      <td>0.86</td>\n",
       "      <td>0.40</td>\n",
       "      <td>1.00</td>\n",
       "      <td>0.32</td>\n",
       "    </tr>\n",
       "    <tr>\n",
       "      <th>PetalWidth</th>\n",
       "      <td>0.28</td>\n",
       "      <td>0.54</td>\n",
       "      <td>0.32</td>\n",
       "      <td>1.00</td>\n",
       "    </tr>\n",
       "  </tbody>\n",
       "</table>\n",
       "</div>"
      ],
      "text/plain": [
       "                             SepalLength  SepalWidth  PetalLength  PetalWidth\n",
       "Name                                                                         \n",
       "Iris-setosa     SepalLength         1.00        0.75         0.26        0.28\n",
       "                SepalWidth          0.75        1.00         0.18        0.28\n",
       "                PetalLength         0.26        0.18         1.00        0.31\n",
       "                PetalWidth          0.28        0.28         0.31        1.00\n",
       "Iris-versicolor SepalLength         1.00        0.53         0.75        0.55\n",
       "                SepalWidth          0.53        1.00         0.56        0.66\n",
       "                PetalLength         0.75        0.56         1.00        0.79\n",
       "                PetalWidth          0.55        0.66         0.79        1.00\n",
       "Iris-virginica  SepalLength         1.00        0.46         0.86        0.28\n",
       "                SepalWidth          0.46        1.00         0.40        0.54\n",
       "                PetalLength         0.86        0.40         1.00        0.32\n",
       "                PetalWidth          0.28        0.54         0.32        1.00"
      ]
     },
     "execution_count": 21,
     "metadata": {},
     "output_type": "execute_result"
    }
   ],
   "source": [
    "irisdata.groupby('Name').corr()"
   ]
  },
  {
   "cell_type": "markdown",
   "id": "b47a6bbe-9465-4901-ba79-d190b7b37527",
   "metadata": {},
   "source": [
    "__4. Data visulization: matplotlib__"
   ]
  },
  {
   "cell_type": "code",
   "execution_count": 22,
   "id": "67063f5e-3657-42be-8263-194e7830f42d",
   "metadata": {},
   "outputs": [
    {
     "data": {
      "image/png": "[encoded data removed]",
      "text/plain": [
       "<Figure size 432x288 with 2 Axes>"
      ]
     },
     "metadata": {
      "needs_background": "light"
     },
     "output_type": "display_data"
    }
   ],
   "source": [
    "plt.figure(figsize=(6,4))\n",
    "plt.subplot(1,2,1)\n",
    "plt.subplot(1,2,2)\n",
    "plt.show()"
   ]
  },
  {
   "cell_type": "code",
   "execution_count": 23,
   "id": "5e2c1661-0dbb-499a-9f27-be1698ca0edf",
   "metadata": {},
   "outputs": [
    {
     "data": {
      "image/png": "[encoded data removed]",
      "text/plain": [
       "<Figure size 432x288 with 1 Axes>"
      ]
     },
     "metadata": {
      "needs_background": "light"
     },
     "output_type": "display_data"
    }
   ],
   "source": [
    "iris.boxplot()\n",
    "plt.show()"
   ]
  },
  {
   "cell_type": "code",
   "execution_count": 24,
   "id": "c9c86285-0b22-4e1d-9639-45ec8739a210",
   "metadata": {},
   "outputs": [
    {
     "data": {
      "image/png": "[encoded data removed]",
      "text/plain": [
       "<Figure size 432x288 with 4 Axes>"
      ]
     },
     "metadata": {
      "needs_background": "light"
     },
     "output_type": "display_data"
    }
   ],
   "source": [
    "iris.hist()\n",
    "plt.show()"
   ]
  },
  {
   "cell_type": "code",
   "execution_count": 25,
   "id": "a318b7c7-578e-4e9d-ae8d-0cb5bce2b5d3",
   "metadata": {},
   "outputs": [
    {
     "data": {
      "image/png": "[encoded data removed]",
      "text/plain": [
       "<Figure size 432x288 with 1 Axes>"
      ]
     },
     "metadata": {
      "needs_background": "light"
     },
     "output_type": "display_data"
    }
   ],
   "source": [
    "plt.scatter(iris['PetalL'], iris['PetalW'])\n",
    "plt.show()"
   ]
  },
  {
   "cell_type": "code",
   "execution_count": 26,
   "id": "6887640a-e824-4a6c-a631-4729e981dac1",
   "metadata": {},
   "outputs": [
    {
     "data": {
      "image/png": "[encoded data removed]",
      "text/plain": [
       "<Figure size 432x288 with 1 Axes>"
      ]
     },
     "metadata": {
      "needs_background": "light"
     },
     "output_type": "display_data"
    }
   ],
   "source": [
    "iris.plot()\n",
    "plt.show()"
   ]
  },
  {
   "cell_type": "code",
   "execution_count": 28,
   "id": "6e07a7d4-95f8-400a-b389-39c4dd122029",
   "metadata": {},
   "outputs": [
    {
     "data": {
      "image/png": "[encoded data removed]",
      "text/plain": [
       "<Figure size 864x216 with 2 Axes>"
      ]
     },
     "metadata": {
      "needs_background": "light"
     },
     "output_type": "display_data"
    }
   ],
   "source": [
    "year, number = (['1st Year', '2nd Year', '3rd Year', '4th Year'], [14,11,15,18])\n",
    "plt.figure(figsize=(12, 3))\n",
    "plt.subplot(1,2,1)\n",
    "plt.bar(year, number)\n",
    "plt.subplot(1,2,2)\n",
    "plt.barh(year, number)\n",
    "plt.show()"
   ]
  },
  {
   "cell_type": "code",
   "execution_count": 29,
   "id": "ca0a843f-d7d6-4df8-a985-bbe27cf99775",
   "metadata": {},
   "outputs": [
    {
     "data": {
      "image/png": "[encoded data removed]",
      "text/plain": [
       "<Figure size 432x216 with 1 Axes>"
      ]
     },
     "metadata": {
      "needs_background": "light"
     },
     "output_type": "display_data"
    }
   ],
   "source": [
    "students = pd.Series([14, 11, 15, 18], index=['1st Year', '2nd Year', '3rd Year', '4th Year'])\n",
    "plt.figure()\n",
    "students.sort_values().plot(kind='barh', grid=True, figsize=(6,3))\n",
    "plt.show()"
   ]
  },
  {
   "cell_type": "code",
   "execution_count": 30,
   "id": "c60e5d0f-01e0-4335-bbf3-564c3bb326dd",
   "metadata": {},
   "outputs": [],
   "source": [
    "setosa = iris.iloc[0:50,:]\n",
    "versicolor = iris.iloc[50:100,:]\n",
    "verginica = iris.iloc[100:150,:]"
   ]
  },
  {
   "cell_type": "code",
   "execution_count": 31,
   "id": "f3913d13-94e8-4dcd-abac-3a04473fa243",
   "metadata": {},
   "outputs": [
    {
     "data": {
      "image/png": "[encoded data removed]",
      "text/plain": [
       "<Figure size 432x288 with 1 Axes>"
      ]
     },
     "metadata": {
      "needs_background": "light"
     },
     "output_type": "display_data"
    }
   ],
   "source": [
    "x = np.linspace(0, 2*np.pi, 400)\n",
    "y = np.sin(x**2)\n",
    "\n",
    "fig, ax = plt.subplots()\n",
    "ax.plot(x, y)\n",
    "ax.set_title('Simple plot')\n",
    "plt.show()"
   ]
  },
  {
   "cell_type": "code",
   "execution_count": 34,
   "id": "7035b87b-ecbb-4710-b045-31f36fab173a",
   "metadata": {},
   "outputs": [
    {
     "data": {
      "image/png": "[encoded data removed]",
      "text/plain": [
       "<Figure size 432x288 with 1 Axes>"
      ]
     },
     "metadata": {
      "needs_background": "light"
     },
     "output_type": "display_data"
    }
   ],
   "source": [
    "plt.figure(figsize=(6,4))\n",
    "plt.hist(iris['SepalL'])\n",
    "plt.hist(setosa['SepalL'])\n",
    "plt.hist(versicolor['SepalL'])\n",
    "plt.hist(verginica['SepalL'])\n",
    "plt.xlabel('Sepal Length(cm)', fontsize=10)\n",
    "plt.ylabel('Frequency', fontsize=10)\n",
    "plt.show()"
   ]
  },
  {
   "cell_type": "code",
   "execution_count": 36,
   "id": "bf8b9461-65d9-44b1-8215-c7fe4a62a5ab",
   "metadata": {},
   "outputs": [
    {
     "data": {
      "image/png": "[encoded data removed]",
      "text/plain": [
       "<Figure size 432x288 with 1 Axes>"
      ]
     },
     "metadata": {
      "needs_background": "light"
     },
     "output_type": "display_data"
    }
   ],
   "source": [
    "kinds = [setosa, versicolor, verginica]\n",
    "names = ['Setosa', 'Versicolor', 'Verginica']\n",
    "\n",
    "fig, ax = plt.subplots(figsize = (6,4))\n",
    "plt.hist(iris['SepalL'])\n",
    "for x, y in zip(names, kinds):\n",
    "    ax.hist(y.SepalL, label=x)\n",
    "plt.title('Distribution of Sepal by Kinds')\n",
    "plt.xlabel('Sepal Length(cm)', fontsize=10)\n",
    "ax.legend(fontsize=10, loc='upper right')\n",
    "plt.ylabel('Frequency', fontsize=10)\n",
    "plt.show()"
   ]
  },
  {
   "cell_type": "code",
   "execution_count": 38,
   "id": "5d876ee0-9087-4289-ade9-073478e032f6",
   "metadata": {},
   "outputs": [
    {
     "data": {
      "image/png": "[encoded data removed]",
      "text/plain": [
       "<Figure size 432x360 with 1 Axes>"
      ]
     },
     "metadata": {
      "needs_background": "light"
     },
     "output_type": "display_data"
    }
   ],
   "source": [
    "fig, ax = plt.subplots(figsize=(6,5))\n",
    "for name, kind in zip(names, kinds):\n",
    "    ax.plot(kind.PetalL,\n",
    "           kind.PetalW,\n",
    "           marker='*',\n",
    "           linestyle='',\n",
    "           label=name)\n",
    "ax.legend(fontsize=10, loc='upper left')\n",
    "fig.suptitle('Distribution of Iris by its Kinds')\n",
    "plt.xlabel('Petal Lenth(cm)', fontsize=10)\n",
    "plt.ylabel('Petal Width(cm)', fontsize=10)\n",
    "plt.show()"
   ]
  },
  {
   "cell_type": "code",
   "execution_count": 39,
   "id": "2eb7b731-bee5-4a10-8e05-d9f054335d0a",
   "metadata": {},
   "outputs": [
    {
     "data": {
      "image/png": "[encoded data removed]",
      "text/plain": [
       "<Figure size 504x288 with 1 Axes>"
      ]
     },
     "metadata": {},
     "output_type": "display_data"
    }
   ],
   "source": [
    "fig, ax = plt.subplots(figsize=(7,4))\n",
    "ax.pie(students, explode=(0,0,0,0.1), labels=students.index, autopct='%1.2f%%', shadow=True, startangle=90)\n",
    "fig.suptitle(\"Students by Year\", fontsize=14)\n",
    "ax.axis('equal')\n",
    "plt.show()"
   ]
  },
  {
   "cell_type": "code",
   "execution_count": 40,
   "id": "35c5b691-1bba-4b7c-81e1-5b66855c3139",
   "metadata": {},
   "outputs": [
    {
     "data": {
      "image/png": "[encoded data removed]",
      "text/plain": [
       "<Figure size 576x432 with 1 Axes>"
      ]
     },
     "metadata": {
      "needs_background": "light"
     },
     "output_type": "display_data"
    }
   ],
   "source": [
    "import seaborn as sns\n",
    "plt.figure(figsize=(8, 6))\n",
    "sns.set_style('whitegrid')\n",
    "iris_scat = sns.scatterplot(x='PetalL', y='PetalW', palette='bright', hue='Name', style='Name', s=80, data=iris)\n",
    "iris_scat.set_title('Iris Dirstribution by Sepal', fontsize = 14)\n",
    "iris_scat.set(xlabel = 'Sepal Length(cm)', ylabel='Sepal Width(cm)')\n",
    "plt.show()"
   ]
  },
  {
   "cell_type": "code",
   "execution_count": 41,
   "id": "36708b88-e895-43d5-8b63-a094e87f6eab",
   "metadata": {},
   "outputs": [
    {
     "data": {
      "image/png": "[encoded data removed]",
      "text/plain": [
       "<Figure size 432x432 with 1 Axes>"
      ]
     },
     "metadata": {},
     "output_type": "display_data"
    }
   ],
   "source": [
    "plt.figure(figsize=(6,6))\n",
    "sns.boxplot(x='Name', y='SepalW', data=iris)\n",
    "plt.show()"
   ]
  },
  {
   "cell_type": "code",
   "execution_count": null,
   "id": "4ac65002-3d48-4cec-8100-98292166a0aa",
   "metadata": {},
   "outputs": [],
   "source": []
  }
 ],
 "metadata": {
  "kernelspec": {
   "display_name": "Python 3",
   "language": "python",
   "name": "python3"
  },
  "language_info": {
   "codemirror_mode": {
    "name": "ipython",
    "version": 3
   },
   "file_extension": ".py",
   "mimetype": "text/x-python",
   "name": "python",
   "nbconvert_exporter": "python",
   "pygments_lexer": "ipython3",
   "version": "3.8.8"
  }
 },
 "nbformat": 4,
 "nbformat_minor": 5
}
