{
 "cells": [
  {
   "cell_type": "markdown",
   "id": "17433fb4-ed51-465b-a151-c40db2ba3107",
   "metadata": {},
   "source": [
    "__1. Pandas: Series creation and indexing__"
   ]
  },
  {
   "cell_type": "code",
   "execution_count": 2,
   "id": "f33b1200-32cb-4b2c-9e35-d847fcdc61e8",
   "metadata": {},
   "outputs": [],
   "source": [
    "import pandas as pd"
   ]
  },
  {
   "cell_type": "code",
   "execution_count": 3,
   "id": "88efe234-41d3-43c9-89d0-6e008a61fe95",
   "metadata": {},
   "outputs": [
    {
     "name": "stdout",
     "output_type": "stream",
     "text": [
      "0    80\n",
      "1    82\n",
      "2    84\n",
      "3    86\n",
      "4    88\n",
      "5    90\n",
      "6    92\n",
      "7    94\n",
      "8    96\n",
      "9    98\n",
      "dtype: int64\n"
     ]
    }
   ],
   "source": [
    "grades = pd.Series(range(80,100,2))\n",
    "print(grades)"
   ]
  },
  {
   "cell_type": "code",
   "execution_count": 4,
   "id": "80325159-fe98-447f-bda2-27d6b3f2c77d",
   "metadata": {},
   "outputs": [
    {
     "name": "stdout",
     "output_type": "stream",
     "text": [
      "count    10.000000\n",
      "mean     89.000000\n",
      "std       6.055301\n",
      "min      80.000000\n",
      "25%      84.500000\n",
      "50%      89.000000\n",
      "75%      93.500000\n",
      "max      98.000000\n",
      "dtype: float64\n",
      "10\n"
     ]
    }
   ],
   "source": [
    "print(grades.describe())\n",
    "print(len(grades))"
   ]
  },
  {
   "cell_type": "code",
   "execution_count": 7,
   "id": "3b073c41-4dd1-4c4f-a062-a3d613b32bc3",
   "metadata": {},
   "outputs": [
    {
     "name": "stdout",
     "output_type": "stream",
     "text": [
      "Kim     175\n",
      "Kwon    184\n",
      "Lee     170\n",
      "dtype: int64\n",
      "184 184 184\n"
     ]
    }
   ],
   "source": [
    "#creating a series with custom indeices\n",
    "height = pd.Series([175, 184, 170], index=['Kim', 'Kwon', 'Lee'])\n",
    "print(height)\n",
    "print(height.Kwon, height['Kwon'], height[1])"
   ]
  },
  {
   "cell_type": "code",
   "execution_count": 8,
   "id": "168377d6-2ffd-4bc8-bf21-756cc13e7e13",
   "metadata": {},
   "outputs": [
    {
     "name": "stdout",
     "output_type": "stream",
     "text": [
      "Korea    82\n",
      "Japan    81\n",
      "China    cn\n",
      "dtype: object\n"
     ]
    }
   ],
   "source": [
    "nations = pd.Series({'Korea':82, 'Japan':81, 'China':'cn'})\n",
    "print(nations)"
   ]
  },
  {
   "cell_type": "markdown",
   "id": "e92d9c4e-f4b9-4c02-889d-068ca2a1ebb0",
   "metadata": {},
   "source": [
    "__2. Pandas: DataFrames creation and indexing__"
   ]
  },
  {
   "cell_type": "code",
   "execution_count": 9,
   "id": "25c36cd6-f537-467b-9c4e-cab8aa349e8b",
   "metadata": {},
   "outputs": [
    {
     "name": "stdout",
     "output_type": "stream",
     "text": [
      "   Spring  Summer  Fall  Winter\n",
      "0      10      24    24       8\n",
      "1      14      27    21       0\n",
      "2      18      30    18      -5\n"
     ]
    }
   ],
   "source": [
    "season_temps = pd.DataFrame({'Spring':[10,14,18], 'Summer':[24,27,30], 'Fall': [24,21,18], 'Winter':[8,0,-5]})\n",
    "print(season_temps)"
   ]
  },
  {
   "cell_type": "code",
   "execution_count": 10,
   "id": "7b6fd1a2-36d0-4d5e-92d0-6a7aab4fd32f",
   "metadata": {},
   "outputs": [
    {
     "name": "stdout",
     "output_type": "stream",
     "text": [
      "   Kim  Park  Kwon  Lee\n",
      "0   87   100   100   83\n",
      "1   96    87    90   65\n",
      "2   70    90    95   85\n"
     ]
    }
   ],
   "source": [
    "scores = {'Kim':[87, 96, 70], 'Park':[100, 87, 90], 'Kwon':[100, 90, 95], 'Lee':[83, 65, 85]}\n",
    "scores_df = pd.DataFrame(scores)\n",
    "print(scores_df)"
   ]
  },
  {
   "cell_type": "code",
   "execution_count": 11,
   "id": "ebba8a65-4e0b-4f9e-b170-62fef5b6c401",
   "metadata": {},
   "outputs": [
    {
     "name": "stdout",
     "output_type": "stream",
     "text": [
      "         Kim  Park  Kwon  Lee\n",
      "Math      87   100   100   83\n",
      "Econ      96    87    90   65\n",
      "Physics   70    90    95   85\n",
      "         Kim  Park  Kwon  Lee\n",
      "Math      87   100   100   83\n",
      "Econ      96    87    90   65\n",
      "Physics   70    90    95   85\n"
     ]
    }
   ],
   "source": [
    "scores_ni = pd.DataFrame(scores, index = ['Math', 'Econ', 'Physics'])\n",
    "print(scores_ni)\n",
    "scores_df.index = ['Math', 'Econ', 'Physics']\n",
    "print(scores_df)"
   ]
  },
  {
   "cell_type": "markdown",
   "id": "1b69e5d6-f249-4907-bffb-2ede52cea328",
   "metadata": {},
   "source": [
    "__3. Pandas: DataFrame slicing__"
   ]
  },
  {
   "cell_type": "code",
   "execution_count": 12,
   "id": "06991b68-0805-4234-896c-ddd159dcc072",
   "metadata": {},
   "outputs": [
    {
     "name": "stdout",
     "output_type": "stream",
     "text": [
      "Spring    10\n",
      "Summer    24\n",
      "Fall      24\n",
      "Winter     8\n",
      "Name: 0, dtype: int64\n",
      "Spring    10\n",
      "Summer    24\n",
      "Fall      24\n",
      "Winter     8\n",
      "Name: 0, dtype: int64\n"
     ]
    }
   ],
   "source": [
    "print(f'{season_temps.loc[0]}\\n{season_temps.iloc[0]}')"
   ]
  },
  {
   "cell_type": "code",
   "execution_count": 14,
   "id": "f65c91c9-6833-4cbe-84c3-b403209c2ae9",
   "metadata": {},
   "outputs": [
    {
     "name": "stdout",
     "output_type": "stream",
     "text": [
      "      Kim  Park  Kwon  Lee\n",
      "Math   87   100   100   83\n",
      "Econ   96    87    90   65\n",
      "      Kim  Park  Kwon\n",
      "Math   87   100   100\n",
      "Econ   96    87    90\n"
     ]
    }
   ],
   "source": [
    "print(f'{scores_ni.loc[\"Math\":\"Econ\"]}\\n{scores_df.iloc[:2,:3]}')"
   ]
  },
  {
   "cell_type": "code",
   "execution_count": 16,
   "id": "fe9b10ea-9c23-47b6-a9e3-ce14a12ac6c5",
   "metadata": {},
   "outputs": [
    {
     "name": "stdout",
     "output_type": "stream",
     "text": [
      "         Kim  Park  Kwon  Lee\n",
      "Math      87   100   100   83\n",
      "Physics   70    90    95   85\n",
      "         Kim  Park  Kwon\n",
      "Math      87   100   100\n",
      "Physics   70    90    95\n"
     ]
    }
   ],
   "source": [
    "print(f'{scores_df.loc[[\"Math\",\"Physics\"]]}\\n{scores_df.iloc[[0,2],:3]}')"
   ]
  },
  {
   "cell_type": "code",
   "execution_count": 30,
   "id": "d8300d55-e32d-4776-a000-da8d3a16a605",
   "metadata": {},
   "outputs": [
    {
     "name": "stdout",
     "output_type": "stream",
     "text": [
      "         Kim  Kwon\n",
      "Math      87   100\n",
      "Econ      96    90\n",
      "Physics   70    95\n",
      "         Kim  Park\n",
      "Math      87   100\n",
      "Physics   70    90\n"
     ]
    }
   ],
   "source": [
    "print(f'{scores_ni.loc[\"Math\":\"Physics\", [\"Kim\",\"Kwon\"]]}\\n{scores_df.iloc[[0,2], 0:2]}')"
   ]
  },
  {
   "cell_type": "code",
   "execution_count": 23,
   "id": "2ee33fc4-1ec0-4056-854d-a4a08afb0225",
   "metadata": {},
   "outputs": [
    {
     "name": "stdout",
     "output_type": "stream",
     "text": [
      "         Kim  Kwon\n",
      "Math      87   100\n",
      "Physics   70    95\n"
     ]
    }
   ],
   "source": [
    "print(f'{scores_ni.loc[[\"Math\", \"Physics\"],[\"Kim\",\"Kwon\"]]}')"
   ]
  },
  {
   "cell_type": "code",
   "execution_count": 24,
   "id": "8afd04b4-1d35-4d8c-b402-6f59aeb41ba4",
   "metadata": {},
   "outputs": [
    {
     "name": "stdout",
     "output_type": "stream",
     "text": [
      "         Kim  Park  Kwon  Lee\n",
      "Math      87   100   100   83\n",
      "Econ      96    87    90   65\n",
      "Physics   70    90    95   85\n"
     ]
    }
   ],
   "source": [
    "print(scores_df)"
   ]
  },
  {
   "cell_type": "code",
   "execution_count": 26,
   "id": "aba0d255-e29c-410f-9339-34ba6df06c1d",
   "metadata": {},
   "outputs": [
    {
     "name": "stdout",
     "output_type": "stream",
     "text": [
      "90 65\n"
     ]
    }
   ],
   "source": [
    "print(scores_df.at['Econ','Kwon'], scores_df.iat[1,3])"
   ]
  },
  {
   "cell_type": "markdown",
   "id": "3645631c-473f-48a5-87de-037837bdc387",
   "metadata": {},
   "source": [
    "__4. Pandas: Boolean indexing__"
   ]
  },
  {
   "cell_type": "code",
   "execution_count": 32,
   "id": "56485cdb-a14d-4ffc-935d-959f56799014",
   "metadata": {},
   "outputs": [
    {
     "data": {
      "text/html": [
       "<div>\n",
       "<style scoped>\n",
       "    .dataframe tbody tr th:only-of-type {\n",
       "        vertical-align: middle;\n",
       "    }\n",
       "\n",
       "    .dataframe tbody tr th {\n",
       "        vertical-align: top;\n",
       "    }\n",
       "\n",
       "    .dataframe thead th {\n",
       "        text-align: right;\n",
       "    }\n",
       "</style>\n",
       "<table border=\"1\" class=\"dataframe\">\n",
       "  <thead>\n",
       "    <tr style=\"text-align: right;\">\n",
       "      <th></th>\n",
       "      <th>Kim</th>\n",
       "      <th>Park</th>\n",
       "      <th>Kwon</th>\n",
       "      <th>Lee</th>\n",
       "    </tr>\n",
       "  </thead>\n",
       "  <tbody>\n",
       "    <tr>\n",
       "      <th>Math</th>\n",
       "      <td>NaN</td>\n",
       "      <td>100.0</td>\n",
       "      <td>100</td>\n",
       "      <td>NaN</td>\n",
       "    </tr>\n",
       "    <tr>\n",
       "      <th>Econ</th>\n",
       "      <td>96.0</td>\n",
       "      <td>NaN</td>\n",
       "      <td>90</td>\n",
       "      <td>NaN</td>\n",
       "    </tr>\n",
       "    <tr>\n",
       "      <th>Physics</th>\n",
       "      <td>NaN</td>\n",
       "      <td>90.0</td>\n",
       "      <td>95</td>\n",
       "      <td>NaN</td>\n",
       "    </tr>\n",
       "  </tbody>\n",
       "</table>\n",
       "</div>"
      ],
      "text/plain": [
       "          Kim   Park  Kwon  Lee\n",
       "Math      NaN  100.0   100  NaN\n",
       "Econ     96.0    NaN    90  NaN\n",
       "Physics   NaN   90.0    95  NaN"
      ]
     },
     "execution_count": 32,
     "metadata": {},
     "output_type": "execute_result"
    }
   ],
   "source": [
    "scores_df[scores_df >= 90]"
   ]
  },
  {
   "cell_type": "code",
   "execution_count": 33,
   "id": "d992c4ab-340c-45fd-882b-e13b9e2c0873",
   "metadata": {},
   "outputs": [
    {
     "data": {
      "text/html": [
       "<div>\n",
       "<style scoped>\n",
       "    .dataframe tbody tr th:only-of-type {\n",
       "        vertical-align: middle;\n",
       "    }\n",
       "\n",
       "    .dataframe tbody tr th {\n",
       "        vertical-align: top;\n",
       "    }\n",
       "\n",
       "    .dataframe thead th {\n",
       "        text-align: right;\n",
       "    }\n",
       "</style>\n",
       "<table border=\"1\" class=\"dataframe\">\n",
       "  <thead>\n",
       "    <tr style=\"text-align: right;\">\n",
       "      <th></th>\n",
       "      <th>Kim</th>\n",
       "      <th>Park</th>\n",
       "      <th>Kwon</th>\n",
       "      <th>Lee</th>\n",
       "    </tr>\n",
       "  </thead>\n",
       "  <tbody>\n",
       "    <tr>\n",
       "      <th>Math</th>\n",
       "      <td>87.0</td>\n",
       "      <td>NaN</td>\n",
       "      <td>NaN</td>\n",
       "      <td>83.0</td>\n",
       "    </tr>\n",
       "    <tr>\n",
       "      <th>Econ</th>\n",
       "      <td>NaN</td>\n",
       "      <td>87.0</td>\n",
       "      <td>NaN</td>\n",
       "      <td>NaN</td>\n",
       "    </tr>\n",
       "    <tr>\n",
       "      <th>Physics</th>\n",
       "      <td>NaN</td>\n",
       "      <td>NaN</td>\n",
       "      <td>NaN</td>\n",
       "      <td>85.0</td>\n",
       "    </tr>\n",
       "  </tbody>\n",
       "</table>\n",
       "</div>"
      ],
      "text/plain": [
       "          Kim  Park  Kwon   Lee\n",
       "Math     87.0   NaN   NaN  83.0\n",
       "Econ      NaN  87.0   NaN   NaN\n",
       "Physics   NaN   NaN   NaN  85.0"
      ]
     },
     "execution_count": 33,
     "metadata": {},
     "output_type": "execute_result"
    }
   ],
   "source": [
    "scores_df[(scores_df < 90) & (scores_df > 70)]"
   ]
  },
  {
   "cell_type": "markdown",
   "id": "09d1d43f-562a-4817-a445-7201b7fb4390",
   "metadata": {},
   "source": [
    "__5. Pandas: Descriptive statistics__"
   ]
  },
  {
   "cell_type": "code",
   "execution_count": 34,
   "id": "c5478b04-a41f-4334-80d3-06971f561d1f",
   "metadata": {},
   "outputs": [
    {
     "name": "stdout",
     "output_type": "stream",
     "text": [
      "          Kim     Park   Kwon     Lee\n",
      "count   3.000    3.000    3.0   3.000\n",
      "mean   84.333   92.333   95.0  77.667\n",
      "std    13.204    6.807    5.0  11.015\n",
      "min    70.000   87.000   90.0  65.000\n",
      "25%    78.500   88.500   92.5  74.000\n",
      "50%    87.000   90.000   95.0  83.000\n",
      "75%    91.500   95.000   97.5  84.000\n",
      "max    96.000  100.000  100.0  85.000\n"
     ]
    }
   ],
   "source": [
    "pd.set_option('precision', 3)\n",
    "print(scores_df.describe())"
   ]
  },
  {
   "cell_type": "code",
   "execution_count": 35,
   "id": "11d8106f-7d71-47f1-8933-82eff1f6317d",
   "metadata": {},
   "outputs": [
    {
     "data": {
      "text/plain": [
       "Kim     84.333\n",
       "Park    92.333\n",
       "Kwon    95.000\n",
       "Lee     77.667\n",
       "dtype: float64"
      ]
     },
     "execution_count": 35,
     "metadata": {},
     "output_type": "execute_result"
    }
   ],
   "source": [
    "scores_df.mean()"
   ]
  },
  {
   "cell_type": "markdown",
   "id": "96992f92-35cd-4a38-a8bf-e0111ab08190",
   "metadata": {},
   "source": [
    "__6. Pandas: Transposing__"
   ]
  },
  {
   "cell_type": "code",
   "execution_count": 36,
   "id": "c6deb656-bac2-4928-aa99-d12e531eef5a",
   "metadata": {},
   "outputs": [
    {
     "data": {
      "text/html": [
       "<div>\n",
       "<style scoped>\n",
       "    .dataframe tbody tr th:only-of-type {\n",
       "        vertical-align: middle;\n",
       "    }\n",
       "\n",
       "    .dataframe tbody tr th {\n",
       "        vertical-align: top;\n",
       "    }\n",
       "\n",
       "    .dataframe thead th {\n",
       "        text-align: right;\n",
       "    }\n",
       "</style>\n",
       "<table border=\"1\" class=\"dataframe\">\n",
       "  <thead>\n",
       "    <tr style=\"text-align: right;\">\n",
       "      <th></th>\n",
       "      <th>Math</th>\n",
       "      <th>Econ</th>\n",
       "      <th>Physics</th>\n",
       "    </tr>\n",
       "  </thead>\n",
       "  <tbody>\n",
       "    <tr>\n",
       "      <th>Kim</th>\n",
       "      <td>87</td>\n",
       "      <td>96</td>\n",
       "      <td>70</td>\n",
       "    </tr>\n",
       "    <tr>\n",
       "      <th>Park</th>\n",
       "      <td>100</td>\n",
       "      <td>87</td>\n",
       "      <td>90</td>\n",
       "    </tr>\n",
       "    <tr>\n",
       "      <th>Kwon</th>\n",
       "      <td>100</td>\n",
       "      <td>90</td>\n",
       "      <td>95</td>\n",
       "    </tr>\n",
       "    <tr>\n",
       "      <th>Lee</th>\n",
       "      <td>83</td>\n",
       "      <td>65</td>\n",
       "      <td>85</td>\n",
       "    </tr>\n",
       "  </tbody>\n",
       "</table>\n",
       "</div>"
      ],
      "text/plain": [
       "      Math  Econ  Physics\n",
       "Kim     87    96       70\n",
       "Park   100    87       90\n",
       "Kwon   100    90       95\n",
       "Lee     83    65       85"
      ]
     },
     "execution_count": 36,
     "metadata": {},
     "output_type": "execute_result"
    }
   ],
   "source": [
    "scores_df.T"
   ]
  },
  {
   "cell_type": "code",
   "execution_count": 37,
   "id": "8a561bcb-8aa1-4621-ae46-cdec0e131657",
   "metadata": {},
   "outputs": [
    {
     "data": {
      "text/html": [
       "<div>\n",
       "<style scoped>\n",
       "    .dataframe tbody tr th:only-of-type {\n",
       "        vertical-align: middle;\n",
       "    }\n",
       "\n",
       "    .dataframe tbody tr th {\n",
       "        vertical-align: top;\n",
       "    }\n",
       "\n",
       "    .dataframe thead th {\n",
       "        text-align: right;\n",
       "    }\n",
       "</style>\n",
       "<table border=\"1\" class=\"dataframe\">\n",
       "  <thead>\n",
       "    <tr style=\"text-align: right;\">\n",
       "      <th></th>\n",
       "      <th>Math</th>\n",
       "      <th>Econ</th>\n",
       "      <th>Physics</th>\n",
       "    </tr>\n",
       "  </thead>\n",
       "  <tbody>\n",
       "    <tr>\n",
       "      <th>count</th>\n",
       "      <td>4.000</td>\n",
       "      <td>4.000</td>\n",
       "      <td>4.000</td>\n",
       "    </tr>\n",
       "    <tr>\n",
       "      <th>mean</th>\n",
       "      <td>92.500</td>\n",
       "      <td>84.500</td>\n",
       "      <td>85.000</td>\n",
       "    </tr>\n",
       "    <tr>\n",
       "      <th>std</th>\n",
       "      <td>8.813</td>\n",
       "      <td>13.528</td>\n",
       "      <td>10.801</td>\n",
       "    </tr>\n",
       "    <tr>\n",
       "      <th>min</th>\n",
       "      <td>83.000</td>\n",
       "      <td>65.000</td>\n",
       "      <td>70.000</td>\n",
       "    </tr>\n",
       "    <tr>\n",
       "      <th>25%</th>\n",
       "      <td>86.000</td>\n",
       "      <td>81.500</td>\n",
       "      <td>81.250</td>\n",
       "    </tr>\n",
       "    <tr>\n",
       "      <th>50%</th>\n",
       "      <td>93.500</td>\n",
       "      <td>88.500</td>\n",
       "      <td>87.500</td>\n",
       "    </tr>\n",
       "    <tr>\n",
       "      <th>75%</th>\n",
       "      <td>100.000</td>\n",
       "      <td>91.500</td>\n",
       "      <td>91.250</td>\n",
       "    </tr>\n",
       "    <tr>\n",
       "      <th>max</th>\n",
       "      <td>100.000</td>\n",
       "      <td>96.000</td>\n",
       "      <td>95.000</td>\n",
       "    </tr>\n",
       "  </tbody>\n",
       "</table>\n",
       "</div>"
      ],
      "text/plain": [
       "          Math    Econ  Physics\n",
       "count    4.000   4.000    4.000\n",
       "mean    92.500  84.500   85.000\n",
       "std      8.813  13.528   10.801\n",
       "min     83.000  65.000   70.000\n",
       "25%     86.000  81.500   81.250\n",
       "50%     93.500  88.500   87.500\n",
       "75%    100.000  91.500   91.250\n",
       "max    100.000  96.000   95.000"
      ]
     },
     "execution_count": 37,
     "metadata": {},
     "output_type": "execute_result"
    }
   ],
   "source": [
    "scores_df.T.describe()"
   ]
  },
  {
   "cell_type": "markdown",
   "id": "a6e294e9-861f-4fdf-aaae-182ebc6f4d37",
   "metadata": {},
   "source": [
    "__7. Pandas: Sorting by index and values__"
   ]
  },
  {
   "cell_type": "code",
   "execution_count": 38,
   "id": "eb4a0c83-5690-41ee-ae84-2bc4f8fa7efe",
   "metadata": {},
   "outputs": [
    {
     "data": {
      "text/html": [
       "<div>\n",
       "<style scoped>\n",
       "    .dataframe tbody tr th:only-of-type {\n",
       "        vertical-align: middle;\n",
       "    }\n",
       "\n",
       "    .dataframe tbody tr th {\n",
       "        vertical-align: top;\n",
       "    }\n",
       "\n",
       "    .dataframe thead th {\n",
       "        text-align: right;\n",
       "    }\n",
       "</style>\n",
       "<table border=\"1\" class=\"dataframe\">\n",
       "  <thead>\n",
       "    <tr style=\"text-align: right;\">\n",
       "      <th></th>\n",
       "      <th>Spring</th>\n",
       "      <th>Summer</th>\n",
       "      <th>Fall</th>\n",
       "      <th>Winter</th>\n",
       "    </tr>\n",
       "  </thead>\n",
       "  <tbody>\n",
       "    <tr>\n",
       "      <th>2</th>\n",
       "      <td>18</td>\n",
       "      <td>30</td>\n",
       "      <td>18</td>\n",
       "      <td>-5</td>\n",
       "    </tr>\n",
       "    <tr>\n",
       "      <th>1</th>\n",
       "      <td>14</td>\n",
       "      <td>27</td>\n",
       "      <td>21</td>\n",
       "      <td>0</td>\n",
       "    </tr>\n",
       "    <tr>\n",
       "      <th>0</th>\n",
       "      <td>10</td>\n",
       "      <td>24</td>\n",
       "      <td>24</td>\n",
       "      <td>8</td>\n",
       "    </tr>\n",
       "  </tbody>\n",
       "</table>\n",
       "</div>"
      ],
      "text/plain": [
       "   Spring  Summer  Fall  Winter\n",
       "2      18      30    18      -5\n",
       "1      14      27    21       0\n",
       "0      10      24    24       8"
      ]
     },
     "execution_count": 38,
     "metadata": {},
     "output_type": "execute_result"
    }
   ],
   "source": [
    "season_temps.sort_index(ascending=False)"
   ]
  },
  {
   "cell_type": "code",
   "execution_count": 39,
   "id": "c162fda2-eba7-4a0f-bac2-2fa151495e8a",
   "metadata": {},
   "outputs": [
    {
     "data": {
      "text/html": [
       "<div>\n",
       "<style scoped>\n",
       "    .dataframe tbody tr th:only-of-type {\n",
       "        vertical-align: middle;\n",
       "    }\n",
       "\n",
       "    .dataframe tbody tr th {\n",
       "        vertical-align: top;\n",
       "    }\n",
       "\n",
       "    .dataframe thead th {\n",
       "        text-align: right;\n",
       "    }\n",
       "</style>\n",
       "<table border=\"1\" class=\"dataframe\">\n",
       "  <thead>\n",
       "    <tr style=\"text-align: right;\">\n",
       "      <th></th>\n",
       "      <th>Kim</th>\n",
       "      <th>Park</th>\n",
       "      <th>Kwon</th>\n",
       "      <th>Lee</th>\n",
       "    </tr>\n",
       "  </thead>\n",
       "  <tbody>\n",
       "    <tr>\n",
       "      <th>Econ</th>\n",
       "      <td>96</td>\n",
       "      <td>87</td>\n",
       "      <td>90</td>\n",
       "      <td>65</td>\n",
       "    </tr>\n",
       "    <tr>\n",
       "      <th>Math</th>\n",
       "      <td>87</td>\n",
       "      <td>100</td>\n",
       "      <td>100</td>\n",
       "      <td>83</td>\n",
       "    </tr>\n",
       "    <tr>\n",
       "      <th>Physics</th>\n",
       "      <td>70</td>\n",
       "      <td>90</td>\n",
       "      <td>95</td>\n",
       "      <td>85</td>\n",
       "    </tr>\n",
       "  </tbody>\n",
       "</table>\n",
       "</div>"
      ],
      "text/plain": [
       "         Kim  Park  Kwon  Lee\n",
       "Econ      96    87    90   65\n",
       "Math      87   100   100   83\n",
       "Physics   70    90    95   85"
      ]
     },
     "execution_count": 39,
     "metadata": {},
     "output_type": "execute_result"
    }
   ],
   "source": [
    "scores_df.sort_index()"
   ]
  },
  {
   "cell_type": "code",
   "execution_count": 40,
   "id": "283ff461-2d68-4036-9c0b-dea7693267ca",
   "metadata": {},
   "outputs": [
    {
     "data": {
      "text/html": [
       "<div>\n",
       "<style scoped>\n",
       "    .dataframe tbody tr th:only-of-type {\n",
       "        vertical-align: middle;\n",
       "    }\n",
       "\n",
       "    .dataframe tbody tr th {\n",
       "        vertical-align: top;\n",
       "    }\n",
       "\n",
       "    .dataframe thead th {\n",
       "        text-align: right;\n",
       "    }\n",
       "</style>\n",
       "<table border=\"1\" class=\"dataframe\">\n",
       "  <thead>\n",
       "    <tr style=\"text-align: right;\">\n",
       "      <th></th>\n",
       "      <th>Kim</th>\n",
       "      <th>Kwon</th>\n",
       "      <th>Lee</th>\n",
       "      <th>Park</th>\n",
       "    </tr>\n",
       "  </thead>\n",
       "  <tbody>\n",
       "    <tr>\n",
       "      <th>Math</th>\n",
       "      <td>87</td>\n",
       "      <td>100</td>\n",
       "      <td>83</td>\n",
       "      <td>100</td>\n",
       "    </tr>\n",
       "    <tr>\n",
       "      <th>Econ</th>\n",
       "      <td>96</td>\n",
       "      <td>90</td>\n",
       "      <td>65</td>\n",
       "      <td>87</td>\n",
       "    </tr>\n",
       "    <tr>\n",
       "      <th>Physics</th>\n",
       "      <td>70</td>\n",
       "      <td>95</td>\n",
       "      <td>85</td>\n",
       "      <td>90</td>\n",
       "    </tr>\n",
       "  </tbody>\n",
       "</table>\n",
       "</div>"
      ],
      "text/plain": [
       "         Kim  Kwon  Lee  Park\n",
       "Math      87   100   83   100\n",
       "Econ      96    90   65    87\n",
       "Physics   70    95   85    90"
      ]
     },
     "execution_count": 40,
     "metadata": {},
     "output_type": "execute_result"
    }
   ],
   "source": [
    "scores_df.sort_index(axis=1)"
   ]
  },
  {
   "cell_type": "code",
   "execution_count": 41,
   "id": "cad3d4d6-c0ed-4987-8370-9f1b60606906",
   "metadata": {},
   "outputs": [
    {
     "data": {
      "text/html": [
       "<div>\n",
       "<style scoped>\n",
       "    .dataframe tbody tr th:only-of-type {\n",
       "        vertical-align: middle;\n",
       "    }\n",
       "\n",
       "    .dataframe tbody tr th {\n",
       "        vertical-align: top;\n",
       "    }\n",
       "\n",
       "    .dataframe thead th {\n",
       "        text-align: right;\n",
       "    }\n",
       "</style>\n",
       "<table border=\"1\" class=\"dataframe\">\n",
       "  <thead>\n",
       "    <tr style=\"text-align: right;\">\n",
       "      <th></th>\n",
       "      <th>Kim</th>\n",
       "      <th>Kwon</th>\n",
       "      <th>Park</th>\n",
       "      <th>Lee</th>\n",
       "    </tr>\n",
       "  </thead>\n",
       "  <tbody>\n",
       "    <tr>\n",
       "      <th>Math</th>\n",
       "      <td>87</td>\n",
       "      <td>100</td>\n",
       "      <td>100</td>\n",
       "      <td>83</td>\n",
       "    </tr>\n",
       "    <tr>\n",
       "      <th>Econ</th>\n",
       "      <td>96</td>\n",
       "      <td>90</td>\n",
       "      <td>87</td>\n",
       "      <td>65</td>\n",
       "    </tr>\n",
       "    <tr>\n",
       "      <th>Physics</th>\n",
       "      <td>70</td>\n",
       "      <td>95</td>\n",
       "      <td>90</td>\n",
       "      <td>85</td>\n",
       "    </tr>\n",
       "  </tbody>\n",
       "</table>\n",
       "</div>"
      ],
      "text/plain": [
       "         Kim  Kwon  Park  Lee\n",
       "Math      87   100   100   83\n",
       "Econ      96    90    87   65\n",
       "Physics   70    95    90   85"
      ]
     },
     "execution_count": 41,
     "metadata": {},
     "output_type": "execute_result"
    }
   ],
   "source": [
    "scores_df.sort_values(by = 'Econ', axis=1, ascending=False)"
   ]
  },
  {
   "cell_type": "code",
   "execution_count": 42,
   "id": "1433cbd9-ee23-4d43-87f9-12f1ddef460f",
   "metadata": {},
   "outputs": [
    {
     "data": {
      "text/html": [
       "<div>\n",
       "<style scoped>\n",
       "    .dataframe tbody tr th:only-of-type {\n",
       "        vertical-align: middle;\n",
       "    }\n",
       "\n",
       "    .dataframe tbody tr th {\n",
       "        vertical-align: top;\n",
       "    }\n",
       "\n",
       "    .dataframe thead th {\n",
       "        text-align: right;\n",
       "    }\n",
       "</style>\n",
       "<table border=\"1\" class=\"dataframe\">\n",
       "  <thead>\n",
       "    <tr style=\"text-align: right;\">\n",
       "      <th></th>\n",
       "      <th>Math</th>\n",
       "      <th>Econ</th>\n",
       "      <th>Physics</th>\n",
       "    </tr>\n",
       "  </thead>\n",
       "  <tbody>\n",
       "    <tr>\n",
       "      <th>Kim</th>\n",
       "      <td>87</td>\n",
       "      <td>96</td>\n",
       "      <td>70</td>\n",
       "    </tr>\n",
       "    <tr>\n",
       "      <th>Kwon</th>\n",
       "      <td>100</td>\n",
       "      <td>90</td>\n",
       "      <td>95</td>\n",
       "    </tr>\n",
       "    <tr>\n",
       "      <th>Park</th>\n",
       "      <td>100</td>\n",
       "      <td>87</td>\n",
       "      <td>90</td>\n",
       "    </tr>\n",
       "    <tr>\n",
       "      <th>Lee</th>\n",
       "      <td>83</td>\n",
       "      <td>65</td>\n",
       "      <td>85</td>\n",
       "    </tr>\n",
       "  </tbody>\n",
       "</table>\n",
       "</div>"
      ],
      "text/plain": [
       "      Math  Econ  Physics\n",
       "Kim     87    96       70\n",
       "Kwon   100    90       95\n",
       "Park   100    87       90\n",
       "Lee     83    65       85"
      ]
     },
     "execution_count": 42,
     "metadata": {},
     "output_type": "execute_result"
    }
   ],
   "source": [
    "scores_df.T.sort_values(by = 'Econ', ascending=False)"
   ]
  },
  {
   "cell_type": "markdown",
   "id": "1e777d98-12cf-482b-bf6c-cb3f07935ce2",
   "metadata": {},
   "source": [
    "__8. Pandas: One hot vector__"
   ]
  },
  {
   "cell_type": "code",
   "execution_count": 46,
   "id": "5fd014b6-11c3-46f1-a38c-5929ae66854a",
   "metadata": {},
   "outputs": [
    {
     "name": "stdout",
     "output_type": "stream",
     "text": [
      "    Year  Rank   Maker\n",
      "0   1990     0  Hundai\n",
      "1   1991     1   Honda\n",
      "2   1992     2     Kia\n",
      "3   1993     3    Audi\n",
      "4   1994     4    Benz\n",
      "5   1995     5  Hundai\n",
      "6   1996     6    Benz\n",
      "7   1997     7    Audi\n",
      "8   1998     8  Hundai\n",
      "9   1999     9     Kia\n",
      "10  2000    10   Honda\n",
      "11  2001    11     Kia\n",
      "12  2002    12    Audi\n",
      "13  2003    13  Hundai\n",
      "14  2004    14    Benz\n"
     ]
    }
   ],
   "source": [
    "auto_firms = ['Hundai', 'Honda', 'Kia', 'Audi', 'Benz', 'Hundai', 'Benz', 'Audi', 'Hundai', 'Kia', 'Honda', 'Kia', 'Audi', 'Hundai', 'Benz']\n",
    "Year = list(range(1990,2005,1)); Rank = list(range(15))\n",
    "auto_df = pd.DataFrame({'Year':Year, 'Rank':Rank, 'Maker':auto_firms})\n",
    "print(auto_df)"
   ]
  },
  {
   "cell_type": "code",
   "execution_count": 47,
   "id": "1dd25b79-4439-43b1-bd9a-2f05b6691d6f",
   "metadata": {},
   "outputs": [
    {
     "name": "stdout",
     "output_type": "stream",
     "text": [
      "    Audi  Benz  Honda  Hundai  Kia\n",
      "0      0     0      0       1    0\n",
      "1      0     0      1       0    0\n",
      "2      0     0      0       0    1\n",
      "3      1     0      0       0    0\n",
      "4      0     1      0       0    0\n",
      "5      0     0      0       1    0\n",
      "6      0     1      0       0    0\n",
      "7      1     0      0       0    0\n",
      "8      0     0      0       1    0\n",
      "9      0     0      0       0    1\n",
      "10     0     0      1       0    0\n",
      "11     0     0      0       0    1\n",
      "12     1     0      0       0    0\n",
      "13     0     0      0       1    0\n",
      "14     0     1      0       0    0\n"
     ]
    }
   ],
   "source": [
    "am_onehot = pd.get_dummies(auto_df['Maker'])\n",
    "print(am_onehot)"
   ]
  },
  {
   "cell_type": "code",
   "execution_count": null,
   "id": "014773e2-8c3e-472c-9b19-244ce611c73c",
   "metadata": {},
   "outputs": [],
   "source": []
  }
 ],
 "metadata": {
  "kernelspec": {
   "display_name": "Python 3",
   "language": "python",
   "name": "python3"
  },
  "language_info": {
   "codemirror_mode": {
    "name": "ipython",
    "version": 3
   },
   "file_extension": ".py",
   "mimetype": "text/x-python",
   "name": "python",
   "nbconvert_exporter": "python",
   "pygments_lexer": "ipython3",
   "version": "3.8.8"
  }
 },
 "nbformat": 4,
 "nbformat_minor": 5
}
