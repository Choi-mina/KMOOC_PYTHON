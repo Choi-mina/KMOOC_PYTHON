{
 "cells": [
  {
   "cell_type": "markdown",
   "id": "be669092-1fb9-4b32-88a2-46c43f6f37a7",
   "metadata": {},
   "source": [
    "__Python: NumPy__"
   ]
  },
  {
   "cell_type": "markdown",
   "id": "eab34382-f1f5-4be0-9841-fcf56c58abf7",
   "metadata": {},
   "source": [
    "__1. NumPy: type, dtype, shape, dimension, size__"
   ]
  },
  {
   "cell_type": "code",
   "execution_count": 2,
   "id": "94901bf4-d93e-4f3e-be18-fd855904c60f",
   "metadata": {},
   "outputs": [
    {
     "name": "stdout",
     "output_type": "stream",
     "text": [
      "[ 7  8  9 10 11]\n",
      "object type: <class 'numpy.ndarray'>\n",
      "  data type: int32\n",
      "      shape:\\ (5,)\n",
      "  dimension: 1\n",
      " array size: 5\n",
      "(1, 5)\n"
     ]
    }
   ],
   "source": [
    "import numpy as np\n",
    "# 1차원 array\n",
    "a = np.array([7,8,9,10,11])\n",
    "print(f'{a}\\n{\"object type:\":>12} {type(a)}\\n{\"data type:\":>12} {a.dtype}\\n{\"shape:\":>12}\\ {a.shape}\\n{\"dimension:\":>12} {a.ndim}\\n{\"array size:\":>12} {a.size}')\n",
    "a1 = np.array([a]); print(a1.shape)"
   ]
  },
  {
   "cell_type": "code",
   "execution_count": 8,
   "id": "863b81d1-8388-493d-8094-ce98c8c6ebee",
   "metadata": {},
   "outputs": [
    {
     "name": "stdout",
     "output_type": "stream",
     "text": [
      "[[ 1.   2.   3.   4.   5. ]\n",
      " [ 8.   9.  10.  11.  12.2]]\n",
      "object type: <class 'numpy.ndarray'>\n",
      "  data type: float64\n",
      "      shape:\\ (2, 5)\n",
      "  dimension: 2\n",
      " array size: 10\n"
     ]
    }
   ],
   "source": [
    "# 2차원 array\n",
    "b = np.array([[1.0,2,3,4,5],[8,9,10,11,12.2]])\n",
    "print(f'{b}\\n{\"object type:\":>12} {type(b)}\\n{\"data type:\":>12} {b.dtype}\\n{\"shape:\":>12}\\ {b.shape}\\n{\"dimension:\":>12} {b.ndim}\\n{\"array size:\":>12} {b.size}')"
   ]
  },
  {
   "cell_type": "code",
   "execution_count": 9,
   "id": "a49cabee-edfd-4825-9a9b-6df64414d96a",
   "metadata": {},
   "outputs": [
    {
     "name": "stdout",
     "output_type": "stream",
     "text": [
      "[[[ 1  2  3  4  5]\n",
      "  [ 8  9 10 11 12]]\n",
      "\n",
      " [[ 4  5  6  7  8]\n",
      "  [10 11 12 13 14]]]\n",
      "object type: <class 'numpy.ndarray'>\n",
      "  data type: int32\n",
      "      shape:\\ (2, 2, 5)\n",
      "  dimension: 3\n",
      " array size: 20\n"
     ]
    }
   ],
   "source": [
    "# 3차원 array\n",
    "c = np.array([[[1,2,3,4,5],[8,9,10,11,12]],[[4,5,6,7,8],[10,11,12,13,14]]])\n",
    "print(f'{c}\\n{\"object type:\":>12} {type(c)}\\n{\"data type:\":>12} {c.dtype}\\n{\"shape:\":>12}\\ {c.shape}\\n{\"dimension:\":>12} {c.ndim}\\n{\"array size:\":>12} {c.size}')"
   ]
  },
  {
   "cell_type": "markdown",
   "id": "c5f191e1-b63b-4c19-a3a6-b95ae2b51499",
   "metadata": {},
   "source": [
    "__2.Numpy: special arrays and indexing__"
   ]
  },
  {
   "cell_type": "code",
   "execution_count": 10,
   "id": "3b3e10c6-d32b-4cc4-bed3-a2b238055a33",
   "metadata": {},
   "outputs": [
    {
     "name": "stdout",
     "output_type": "stream",
     "text": [
      "[[0. 0. 0.]\n",
      " [0. 0. 0.]]\n",
      "[[1 1 1 1]\n",
      " [1 1 1 1]]\n",
      "[[7 7 7 7 7]\n",
      " [7 7 7 7 7]]\n",
      "[[1. 0. 0.]\n",
      " [0. 1. 0.]\n",
      " [0. 0. 1.]]\n"
     ]
    }
   ],
   "source": [
    "a_zeros = np.zeros((2,3))\n",
    "print(a_zeros)\n",
    "a_ones = np.ones((2,4), dtype=int)\n",
    "print(a_ones)\n",
    "a_full = np.full((2,5),7)\n",
    "print(a_full)\n",
    "print(np.eye(3))"
   ]
  },
  {
   "cell_type": "code",
   "execution_count": 12,
   "id": "6bec5ca8-de17-4cad-8b9e-e5d115cc18ed",
   "metadata": {},
   "outputs": [
    {
     "name": "stdout",
     "output_type": "stream",
     "text": [
      "[[[0.14913049 0.45849829 0.90680777 0.90538116]\n",
      "  [0.55266942 0.26561441 0.83179573 0.731039  ]\n",
      "  [0.49590876 0.82633299 0.379211   0.46205975]]\n",
      "\n",
      " [[0.42435449 0.956473   0.98313358 0.17184004]\n",
      "  [0.0299342  0.57167556 0.08222735 0.98552746]\n",
      "  [0.60551021 0.58707599 0.88020808 0.34647572]]]\n",
      "float64\n"
     ]
    }
   ],
   "source": [
    "a_ran = np.random.random((2,3,4))\n",
    "print(f'{a_ran}\\n{a_ran.dtype}')"
   ]
  },
  {
   "cell_type": "code",
   "execution_count": 13,
   "id": "0f50ba2d-789a-4d06-a065-20e11406a3be",
   "metadata": {},
   "outputs": [
    {
     "name": "stdout",
     "output_type": "stream",
     "text": [
      "[[[ 1  2  3  4  5]\n",
      "  [ 8  9 10 11 12]]\n",
      "\n",
      " [[ 4  5  6  7  8]\n",
      "  [10 11 12 13 14]]]\n",
      "8\n",
      "5\n"
     ]
    }
   ],
   "source": [
    "print(c)\n",
    "print(c[1,0,4])\n",
    "print(c[0,0,4])"
   ]
  },
  {
   "cell_type": "markdown",
   "id": "ee02df28-3c60-46d9-a875-27c275694cab",
   "metadata": {},
   "source": [
    "__3. NumPy: flattening and making arrays with arrange function__"
   ]
  },
  {
   "cell_type": "code",
   "execution_count": 14,
   "id": "d4b01ae5-f494-4edd-9e90-01673cf2f0ce",
   "metadata": {},
   "outputs": [
    {
     "name": "stdout",
     "output_type": "stream",
     "text": [
      "[[[ 1  2  3  4  5]\n",
      "  [ 8  9 10 11 12]]\n",
      "\n",
      " [[ 4  5  6  7  8]\n",
      "  [10 11 12 13 14]]]\n",
      "[1, 2, 3, 4, 5, 8, 9, 10, 11, 12, 4, 5, 6, 7, 8, 10, 11, 12, 13, 14]\n",
      "[ 1  2  3  4  5  8  9 10 11 12  4  5  6  7  8 10 11 12 13 14]\n",
      "[ 1  2  3  4  5  8  9 10 11 12  4  5  6  7  8 10 11 12 13 14]\n"
     ]
    }
   ],
   "source": [
    "print(c)\n",
    "l = []\n",
    "for i in c:\n",
    "    for j in i:\n",
    "        for k in j:\n",
    "            l.append(k)\n",
    "print(f'{l}\\n{np.array(l)}')\n",
    "\n",
    "# flattening\n",
    "print(np.array(c.flat))"
   ]
  },
  {
   "cell_type": "code",
   "execution_count": 15,
   "id": "d26ba1e1-952e-4b22-8dff-710bdb4b74ef",
   "metadata": {},
   "outputs": [
    {
     "name": "stdout",
     "output_type": "stream",
     "text": [
      "[ 0  1  2  3  4  5  6  7  8  9 10 11 12 13 14 15 16 17 18 19 20]\n",
      "<class 'numpy.ndarray'>\n",
      "[[[ 0  1  2  3  4  5  6]\n",
      "  [ 7  8  9 10 11 12 13]\n",
      "  [14 15 16 17 18 19 20]]]\n"
     ]
    }
   ],
   "source": [
    "g = np.arange(21)\n",
    "print(f'{g}\\n{type(g)}')\n",
    "print(g.reshape(1,3,7))"
   ]
  },
  {
   "cell_type": "code",
   "execution_count": 16,
   "id": "e2cdf286-05a4-4980-92e6-2cf9dab23825",
   "metadata": {},
   "outputs": [
    {
     "name": "stdout",
     "output_type": "stream",
     "text": [
      "[ 5  7  9 11 13 15 17 19]\n",
      "[[ 1  2  3  4  5  6  7  8  9 10]\n",
      " [11 12 13 14 15 16 17 18 19 20]]\n"
     ]
    }
   ],
   "source": [
    "h = np.arange(5,21,2)\n",
    "print(h)\n",
    "print(np.arange(1, 21).reshape(2, 10))"
   ]
  },
  {
   "cell_type": "code",
   "execution_count": 18,
   "id": "ebf4b3bf-3813-4430-b07d-162d9391eb81",
   "metadata": {},
   "outputs": [
    {
     "name": "stdout",
     "output_type": "stream",
     "text": [
      "[0.  0.1 0.2 0.3 0.4 0.5 0.6 0.7 0.8 0.9 1. ]\n",
      "(11,)\n",
      "11\n"
     ]
    }
   ],
   "source": [
    "a_ss = np.linspace(0,1,11)\n",
    "print(f'{a_ss}\\n{a_ss.shape}\\n{a_ss.size}')"
   ]
  },
  {
   "cell_type": "markdown",
   "id": "670e090a-5976-49fb-93c3-bcb8bc0cfdae",
   "metadata": {},
   "source": [
    "__4. NumPy: Array operations__"
   ]
  },
  {
   "cell_type": "code",
   "execution_count": 3,
   "id": "0da87590-6ae9-4b81-9acd-3cba6330518b",
   "metadata": {},
   "outputs": [
    {
     "name": "stdout",
     "output_type": "stream",
     "text": [
      "(3, 2) (3, 2)\n",
      "[[ 4  6]\n",
      " [ 8 10]\n",
      " [12 14]]\n",
      "[[ 2  4]\n",
      " [ 6  8]\n",
      " [10 12]]\n"
     ]
    }
   ],
   "source": [
    "xa = np.array([[1,2],[3,4],[5,6]])\n",
    "xb = np.array([[3,4],[5,6],[7,8]])\n",
    "print(xa.shape, xb.shape)\n",
    "print(f'{xa+xb}\\n{xa*2}')"
   ]
  },
  {
   "cell_type": "code",
   "execution_count": 5,
   "id": "84c8b303-b295-497f-959c-2a1f8cb2c36d",
   "metadata": {},
   "outputs": [
    {
     "name": "stdout",
     "output_type": "stream",
     "text": [
      "[[ 4  6]\n",
      " [ 8 10]\n",
      " [12 14]]\n",
      "[[-2 -2]\n",
      " [-2 -2]\n",
      " [-2 -2]]\n",
      "[[ 3  8]\n",
      " [15 24]\n",
      " [35 48]]\n",
      "[[1.         1.41421356]\n",
      " [1.73205081 2.        ]\n",
      " [2.23606798 2.44948974]]\n"
     ]
    }
   ],
   "source": [
    "print(np.add(xa,xb))\n",
    "print(np.subtract(xa,xb))\n",
    "print(np.multiply(xa,xb))\n",
    "print(np.sqrt(xa))"
   ]
  },
  {
   "cell_type": "code",
   "execution_count": 6,
   "id": "f6507711-52e2-4967-b88c-5cea70217d49",
   "metadata": {},
   "outputs": [
    {
     "name": "stdout",
     "output_type": "stream",
     "text": [
      "[[1.]\n",
      " [1.]] (2, 1) 2\n",
      "[[ 3.]\n",
      " [ 7.]\n",
      " [11.]]\n",
      "[[ 7.]\n",
      " [11.]\n",
      " [15.]]\n"
     ]
    }
   ],
   "source": [
    "xc = np.ones((2,1))\n",
    "print(xc, xc.shape, xc.ndim)\n",
    "print(xa.dot(xc))\n",
    "print(np.dot(xb,xc))"
   ]
  },
  {
   "cell_type": "code",
   "execution_count": 7,
   "id": "73cbe162-f519-4016-8aae-76ca3bdcc8be",
   "metadata": {},
   "outputs": [
    {
     "name": "stdout",
     "output_type": "stream",
     "text": [
      "[[1 2]\n",
      " [1 2]]\n",
      "[[ 3  6]\n",
      " [ 7 14]\n",
      " [11 22]]\n",
      "[[ 7 14]\n",
      " [11 22]\n",
      " [15 30]]\n"
     ]
    }
   ],
   "source": [
    "xd = np.array([[1,2],[1,2]]); print(xd)\n",
    "print(np.dot(xa,xd)); print(np.dot(xb,xd))"
   ]
  },
  {
   "cell_type": "code",
   "execution_count": 9,
   "id": "33255a38-a5af-4f1d-9c10-03f09fa26b9d",
   "metadata": {},
   "outputs": [
    {
     "name": "stdout",
     "output_type": "stream",
     "text": [
      "[[1 3 5]\n",
      " [2 4 6]]\n",
      "[[ 9 10]\n",
      " [11 12]\n",
      " [13 14]]\n",
      "[[ 6  7]\n",
      " [ 8  9]\n",
      " [10 11]]\n",
      "[[ 9 10]\n",
      " [11 12]\n",
      " [13 14]]\n"
     ]
    }
   ],
   "source": [
    "print(xa.T)\n",
    "print(xb+3)\n",
    "print(xb)\n",
    "xb+=3\n",
    "print(xb)"
   ]
  },
  {
   "cell_type": "markdown",
   "id": "3c377758-a2af-4ce1-8a6a-cb02c3f2ea05",
   "metadata": {},
   "source": [
    "__5. NumPy: Broadcasting__"
   ]
  },
  {
   "cell_type": "code",
   "execution_count": 12,
   "id": "009a8a26-225a-4d9f-ba31-13299b65b2ce",
   "metadata": {},
   "outputs": [
    {
     "name": "stdout",
     "output_type": "stream",
     "text": [
      "[[1 2 3]\n",
      " [4 5 6]\n",
      " [7 8 9]]\n",
      "[[1.]\n",
      " [1.]\n",
      " [1.]]\n",
      "[[ 2.  3.  4.]\n",
      " [ 5.  6.  7.]\n",
      " [ 8.  9. 10.]]\n",
      "[[2 2 2]]\n",
      "[[ 3  4  5]\n",
      " [ 6  7  8]\n",
      " [ 9 10 11]]\n"
     ]
    }
   ],
   "source": [
    "ya = np.arange(1,10).reshape(3,3); print(ya)\n",
    "yv1 = np.ones((3,1)); print(yv1)\n",
    "yb = ya + yv1; print(yb)\n",
    "yv2 = np.full((1,3),2); print(yv2)\n",
    "yc = ya + yv2; print(yc)"
   ]
  },
  {
   "cell_type": "markdown",
   "id": "ab915da8-514e-4759-b1e3-f3f22126a9ed",
   "metadata": {},
   "source": [
    "__6. NumPy: Summary Statistics__"
   ]
  },
  {
   "cell_type": "code",
   "execution_count": 13,
   "id": "f6d52e48-605e-4a87-b78b-0bad34da05c2",
   "metadata": {},
   "outputs": [
    {
     "name": "stdout",
     "output_type": "stream",
     "text": [
      "63 7.0 3 11 6.666666666666667 2.581988897471611\n",
      "8 0\n",
      "[6. 7. 8.] [ 4.  7. 10.]\n"
     ]
    }
   ],
   "source": [
    "print(yc.sum(), yc.mean(), yc.min(), yc.max(), yc.var(), yc.std())\n",
    "print(yc.argmax(), yc.argmin())\n",
    "print(yc.mean(axis=0), yc.mean(axis=1))"
   ]
  },
  {
   "cell_type": "markdown",
   "id": "52cb34ab-2454-4b59-b904-fee13fdd25e9",
   "metadata": {},
   "source": [
    "__7. NumPy: Slicing, Flatten, and Stacking__"
   ]
  },
  {
   "cell_type": "code",
   "execution_count": 14,
   "id": "25ddd5e5-fdf4-4c60-b51a-3daaa19c4ff7",
   "metadata": {},
   "outputs": [
    {
     "name": "stdout",
     "output_type": "stream",
     "text": [
      "[[ 0  1  2  3  4  5  6]\n",
      " [ 7  8  9 10 11 12 13]\n",
      " [14 15 16 17 18 19 20]]\n",
      "[0 1 2 3 4 5 6] [0 1 2 3]\n",
      "[[ 0  1  2  3  4  5  6]\n",
      " [ 7  8  9 10 11 12 13]]\n",
      "[[0 1 2]\n",
      " [7 8 9]]\n"
     ]
    }
   ],
   "source": [
    "karray = np.arange(21).reshape(3,7); print(karray)\n",
    "print(karray[0], karray[0,:4])\n",
    "print(karray[:2])\n",
    "print(karray[:2,:3])"
   ]
  },
  {
   "cell_type": "code",
   "execution_count": 21,
   "id": "89884964-ab48-433e-a4d9-b9f89bea166b",
   "metadata": {},
   "outputs": [
    {
     "name": "stdout",
     "output_type": "stream",
     "text": [
      "[[ 0  1  2  3  4  5  6]\n",
      " [ 7  8  9 10 11 12 13]\n",
      " [14 15 16 17 18 19 20]]\n",
      "[[ 0  1  2  3  4  5  6]\n",
      " [14 15 16 17 18 19 20]]\n",
      "[[ 1  5]\n",
      " [ 8 12]\n",
      " [15 19]]\n",
      "[[ 1  2  3  4]\n",
      " [ 8  9 10 11]\n",
      " [15 16 17 18]]\n"
     ]
    }
   ],
   "source": [
    "karray = np.arange(21).reshape(3,7); print(karray)\n",
    "print(karray[[0,2]])\n",
    "print(karray[:,[1,5]])\n",
    "print(karray[:,1:5])"
   ]
  },
  {
   "cell_type": "code",
   "execution_count": 19,
   "id": "8876e550-c5d6-4330-bc3c-1eab3e7441c0",
   "metadata": {},
   "outputs": [
    {
     "name": "stdout",
     "output_type": "stream",
     "text": [
      "[[ 0  1  2  3  4  5  6]\n",
      " [ 7  8  9 10 11 12 13]\n",
      " [14 15 16 17 18 19 20]]\n",
      "[ 0  1  2  3  4  5  6  7  8  9 10 11 12 13 14 15 16 17 18 19 20] (21,)\n"
     ]
    }
   ],
   "source": [
    "karray = np.arange(21).reshape(3,7); print(karray)\n",
    "fkarray = karray.flatten()\n",
    "print(fkarray, fkarray.shape)"
   ]
  },
  {
   "cell_type": "code",
   "execution_count": 23,
   "id": "b7aae4e6-e3b8-4e30-9e21-e7d3164978a1",
   "metadata": {},
   "outputs": [
    {
     "data": {
      "text/plain": [
       "array([[2, 4, 6],\n",
       "       [3, 5, 7]])"
      ]
     },
     "execution_count": 23,
     "metadata": {},
     "output_type": "execute_result"
    }
   ],
   "source": [
    "Array1 = np.array([[1,2],[3,4],[5,6]])\n",
    "Array1.T + 1"
   ]
  },
  {
   "cell_type": "code",
   "execution_count": null,
   "id": "744d9352-377c-468e-a25d-8a3e9ed00ae9",
   "metadata": {},
   "outputs": [],
   "source": []
  }
 ],
 "metadata": {
  "kernelspec": {
   "display_name": "Python 3",
   "language": "python",
   "name": "python3"
  },
  "language_info": {
   "codemirror_mode": {
    "name": "ipython",
    "version": 3
   },
   "file_extension": ".py",
   "mimetype": "text/x-python",
   "name": "python",
   "nbconvert_exporter": "python",
   "pygments_lexer": "ipython3",
   "version": "3.8.8"
  }
 },
 "nbformat": 4,
 "nbformat_minor": 5
}
