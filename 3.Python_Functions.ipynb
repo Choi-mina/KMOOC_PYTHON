{
 "cells": [
  {
   "cell_type": "markdown",
   "id": "cc404600-a75c-49a0-81e3-630ba7263fd4",
   "metadata": {},
   "source": [
    "__Python: Creating Functions__"
   ]
  },
  {
   "cell_type": "markdown",
   "id": "07418909-dec5-4f62-bcd0-4ec1a48411aa",
   "metadata": {},
   "source": [
    "__1. Creating your own functions with a single parameter__"
   ]
  },
  {
   "cell_type": "code",
   "execution_count": 2,
   "id": "76d89554-d362-405f-9401-96ca21c98555",
   "metadata": {},
   "outputs": [],
   "source": [
    "import math\n",
    "def circle(radius):\n",
    "    \"\"\"Calculates area and circuference of a circle with a radius\"\"\"\n",
    "    \n",
    "    return math.pi*radius**2, 2*math.pi*radius"
   ]
  },
  {
   "cell_type": "code",
   "execution_count": 3,
   "id": "cb66a8b4-aeaf-422e-9936-1504d9d2799b",
   "metadata": {},
   "outputs": [
    {
     "data": {
      "text/plain": [
       "(28.274333882308138, 18.84955592153876)"
      ]
     },
     "execution_count": 3,
     "metadata": {},
     "output_type": "execute_result"
    }
   ],
   "source": [
    "circle(3)"
   ]
  },
  {
   "cell_type": "code",
   "execution_count": 5,
   "id": "82df8b79-8ae4-4212-aa30-351e03714fd6",
   "metadata": {},
   "outputs": [
    {
     "name": "stdout",
     "output_type": "stream",
     "text": [
      "The area and circumference of a circle with 3cm radius are 28.27cm squared and 18.85cm.\n"
     ]
    }
   ],
   "source": [
    "x = 3\n",
    "print(f'The area and circumference of a circle with {x}cm radius \\\n",
    "are {circle(x)[0]:.2f}cm squared and {circle(x)[1]:.2f}cm.')"
   ]
  },
  {
   "cell_type": "code",
   "execution_count": 6,
   "id": "8eb46c8d-e968-4f9b-a39d-df0b504666e1",
   "metadata": {},
   "outputs": [
    {
     "data": {
      "text/plain": [
       "\u001b[1;31mSignature:\u001b[0m \u001b[0mcircle\u001b[0m\u001b[1;33m(\u001b[0m\u001b[0mradius\u001b[0m\u001b[1;33m)\u001b[0m\u001b[1;33m\u001b[0m\u001b[1;33m\u001b[0m\u001b[0m\n",
       "\u001b[1;31mDocstring:\u001b[0m Calculates area and circuference of a circle with a radius\n",
       "\u001b[1;31mFile:\u001b[0m      c:\\users\\public\\documents\\estsoft\\creatortemp\\ipykernel_14900\\2677119424.py\n",
       "\u001b[1;31mType:\u001b[0m      function\n"
      ]
     },
     "metadata": {},
     "output_type": "display_data"
    }
   ],
   "source": [
    "circle?"
   ]
  },
  {
   "cell_type": "markdown",
   "id": "c5218927-76f2-4014-849e-9312df6769c8",
   "metadata": {},
   "source": [
    "__2. Creating functions with multiple parameters__"
   ]
  },
  {
   "cell_type": "code",
   "execution_count": 8,
   "id": "1b0c3a49-f0b9-4c15-8870-5ae3aee9a356",
   "metadata": {},
   "outputs": [],
   "source": [
    "def myfunction(x, y):\n",
    "    \"\"\"addition, multiplication and division\"\"\"\n",
    "    return x+y, x*y, x/y    "
   ]
  },
  {
   "cell_type": "code",
   "execution_count": 9,
   "id": "b1724b19-35f4-48f8-964a-580a2c36d65a",
   "metadata": {},
   "outputs": [
    {
     "data": {
      "text/plain": [
       "(18, 45, 5.0)"
      ]
     },
     "execution_count": 9,
     "metadata": {},
     "output_type": "execute_result"
    }
   ],
   "source": [
    "myfunction(15,3)"
   ]
  },
  {
   "cell_type": "code",
   "execution_count": 10,
   "id": "dc7a5403-a093-461f-95e2-0024589b2978",
   "metadata": {},
   "outputs": [],
   "source": [
    "def findmin():\n",
    "    \"\"\"Finding the minimum among three integers\"\"\"\n",
    "    \n",
    "    x=int(input('Enter first integer: '))\n",
    "    y=int(input('Enter second integer: '))\n",
    "    z=int(input('Enter third integer: '))\n",
    "    \n",
    "    minimum = x\n",
    "    \n",
    "    if y<minimum:\n",
    "        minimum = y\n",
    "    if z<minimum:\n",
    "        minimum = z\n",
    "    return minimum"
   ]
  },
  {
   "cell_type": "code",
   "execution_count": 11,
   "id": "1e131e4d-2e10-44da-8384-b1442ca0d9c0",
   "metadata": {},
   "outputs": [
    {
     "name": "stdin",
     "output_type": "stream",
     "text": [
      "Enter first integer:  12\n",
      "Enter second integer:  32\n",
      "Enter third integer:  6\n"
     ]
    },
    {
     "data": {
      "text/plain": [
       "6"
      ]
     },
     "execution_count": 11,
     "metadata": {},
     "output_type": "execute_result"
    }
   ],
   "source": [
    "findmin()"
   ]
  },
  {
   "cell_type": "code",
   "execution_count": 12,
   "id": "3c24b521-4ae4-4e09-b958-bb3ec1ee7223",
   "metadata": {},
   "outputs": [],
   "source": [
    "def findmin1(x, y, z):\n",
    "    \"\"\"Another function for finding a minimum\"\"\"\n",
    "    return min(x, y, z)"
   ]
  },
  {
   "cell_type": "code",
   "execution_count": 13,
   "id": "57e10841-dbc2-4582-89ed-52c6b0af99bd",
   "metadata": {},
   "outputs": [
    {
     "name": "stdout",
     "output_type": "stream",
     "text": [
      "7\n",
      "3\n"
     ]
    }
   ],
   "source": [
    "print(findmin1(7,8,9))\n",
    "print(x)"
   ]
  },
  {
   "cell_type": "markdown",
   "id": "a2d4c895-30aa-4a0c-b07e-1fa9ae26d970",
   "metadata": {},
   "source": [
    "__3. Functions with default parameter values__"
   ]
  },
  {
   "cell_type": "code",
   "execution_count": 14,
   "id": "a6e3d4d2-38a6-4011-a7c7-ee077f2d7fc8",
   "metadata": {},
   "outputs": [],
   "source": [
    "def rectangle(width=3, height=5):\n",
    "    \"\"\"Calculating the area of a rectangle\"\"\"\n",
    "    return width*height"
   ]
  },
  {
   "cell_type": "code",
   "execution_count": 16,
   "id": "a939df31-c7a1-45b6-944b-927831f20fce",
   "metadata": {},
   "outputs": [
    {
     "name": "stdout",
     "output_type": "stream",
     "text": [
      "15 25 20\n"
     ]
    }
   ],
   "source": [
    "print(rectangle(), rectangle(5), rectangle(4,5))"
   ]
  },
  {
   "cell_type": "code",
   "execution_count": 17,
   "id": "f42f88a7-ccae-47be-b632-54c51fea8688",
   "metadata": {},
   "outputs": [
    {
     "name": "stdout",
     "output_type": "stream",
     "text": [
      "12 42\n"
     ]
    }
   ],
   "source": [
    "print(rectangle(height=4), rectangle(height=6, width=7))"
   ]
  },
  {
   "cell_type": "markdown",
   "id": "3f9d6714-4515-48af-9955-a815e3bfab19",
   "metadata": {},
   "source": [
    "__4. A function taking an arbitrary number of argument__"
   ]
  },
  {
   "cell_type": "code",
   "execution_count": 19,
   "id": "6bebb076-5bd5-454c-b50a-e7cf3a5b4fa4",
   "metadata": {},
   "outputs": [],
   "source": [
    "def my_average(*nums):\n",
    "    \"\"\"Calculating average with multiple numbers\"\"\"\n",
    "    return sum(nums)/len(nums)"
   ]
  },
  {
   "cell_type": "code",
   "execution_count": 20,
   "id": "44531be9-0290-4ee6-82d4-34c08c76d963",
   "metadata": {},
   "outputs": [
    {
     "data": {
      "text/plain": [
       "69.6"
      ]
     },
     "execution_count": 20,
     "metadata": {},
     "output_type": "execute_result"
    }
   ],
   "source": [
    "my_average(68, 23, 100, 67, 90)"
   ]
  },
  {
   "cell_type": "code",
   "execution_count": 21,
   "id": "fc21bb44-a2a6-4f96-b28a-7d52ca5ad9f7",
   "metadata": {},
   "outputs": [
    {
     "data": {
      "text/plain": [
       "5.5"
      ]
     },
     "execution_count": 21,
     "metadata": {},
     "output_type": "execute_result"
    }
   ],
   "source": [
    "grades = [1,2,3,4,5,6,7,8,9,10]\n",
    "my_average(*grades)"
   ]
  },
  {
   "cell_type": "markdown",
   "id": "bd6d2286-a773-4a30-a7c3-707fd22afe26",
   "metadata": {},
   "source": [
    "__5. Main function and _name _variable__"
   ]
  },
  {
   "cell_type": "code",
   "execution_count": 29,
   "id": "41c9acb1-bdf3-481c-90ed-526cc8da5a8d",
   "metadata": {},
   "outputs": [
    {
     "name": "stdout",
     "output_type": "stream",
     "text": [
      "The area and circumference of a circle with 4cm radius     are 50.27cm squared and 25.133cm.\n",
      "Main function is executed!\n"
     ]
    },
    {
     "data": {
      "text/plain": [
       "'__main__'"
      ]
     },
     "execution_count": 29,
     "metadata": {},
     "output_type": "execute_result"
    }
   ],
   "source": [
    "def main(x):\n",
    "    \"\"\"An exercise of main function\"\"\"\n",
    "    print(f'The area and circumference of a circle with {x}cm radius \\\n",
    "    are {circle(x)[0]:.2f}cm squared and {circle(x)[1]:.3f}cm.')\n",
    "    print('Main function is executed!')\n",
    "\n",
    "#if __name__ == '__main__':\n",
    "#    main(3)\n",
    "main(4); __name__"
   ]
  },
  {
   "cell_type": "code",
   "execution_count": 30,
   "id": "d18c5952-f9f7-43f8-945b-98012c5e3dcc",
   "metadata": {},
   "outputs": [
    {
     "name": "stdout",
     "output_type": "stream",
     "text": [
      "(3.141592653589793, 6.283185307179586)\n",
      "main_function\n"
     ]
    }
   ],
   "source": [
    "import main_function as mf\n",
    "print(mf.circle(1))\n",
    "print(mf.__name__)"
   ]
  },
  {
   "cell_type": "markdown",
   "id": "7e865c5c-f8f8-4c75-8a31-c3be22d5d910",
   "metadata": {},
   "source": [
    "__6. Pyhon standard libraries__"
   ]
  },
  {
   "cell_type": "markdown",
   "id": "6317b972-4e8a-4554-9426-73ece3254361",
   "metadata": {},
   "source": [
    "- https://docs.python.org/3/library/\n",
    "- popular ones are math, random, csv, decimal, datetime, json, statistics, etc.\n",
    "- Math module: https://docs.python.org/3/library/math.html"
   ]
  },
  {
   "cell_type": "markdown",
   "id": "11f4b877-e727-4479-a696-b4cd9f17308b",
   "metadata": {},
   "source": [
    "__7. Using tab key for completing identifiers__"
   ]
  },
  {
   "cell_type": "code",
   "execution_count": null,
   "id": "27daf21a-be4d-48f9-90f7-48f1dda85df0",
   "metadata": {},
   "outputs": [],
   "source": [
    "ma\n",
    "\n",
    "math.?\n",
    "\n",
    "math.fabs?"
   ]
  },
  {
   "cell_type": "markdown",
   "id": "c705dbfa-9de0-426e-9f02-c1622a7b11df",
   "metadata": {},
   "source": [
    "__8. Methods in Python__"
   ]
  },
  {
   "cell_type": "code",
   "execution_count": 31,
   "id": "d284bb76-c598-4a38-93ed-ce087c3d5d3c",
   "metadata": {},
   "outputs": [
    {
     "name": "stdout",
     "output_type": "stream",
     "text": [
      "youngsun kwon YOUNGSUN KWON Youngsun Kwon\n"
     ]
    }
   ],
   "source": [
    "my_name = 'Youngsun Kwon'\n",
    "print(my_name.lower(), my_name.upper(), my_name)"
   ]
  },
  {
   "cell_type": "markdown",
   "id": "598131e8-7ab2-4343-94ed-4b69c67a8efe",
   "metadata": {},
   "source": [
    "__9. Random number generation in Python__"
   ]
  },
  {
   "cell_type": "code",
   "execution_count": 32,
   "id": "955441dd-2764-4a5c-9825-504dc8b82225",
   "metadata": {},
   "outputs": [
    {
     "name": "stdout",
     "output_type": "stream",
     "text": [
      "4 2 2 2 5 3 3 1 6 4 "
     ]
    }
   ],
   "source": [
    "import random\n",
    "\n",
    "for roll in range(10):\n",
    "    print(random.randrange(1, 7), end=' ')"
   ]
  },
  {
   "cell_type": "code",
   "execution_count": 35,
   "id": "4cd88d27-14c4-48f3-8c35-857eae246043",
   "metadata": {},
   "outputs": [
    {
     "name": "stdout",
     "output_type": "stream",
     "text": [
      "Face    Frequency     Ratio\n",
      "   0         4955     49.55\n",
      "   1         5045     50.45\n"
     ]
    }
   ],
   "source": [
    "frequency0 = 0\n",
    "frequency1 = 0\n",
    "sample = 10_000\n",
    "\n",
    "for roll in range(sample):\n",
    "    face = random.randrange(0,2)\n",
    "    if face == 0:\n",
    "        frequency0 += 1\n",
    "    else:\n",
    "        frequency1 += 1\n",
    "        \n",
    "print(f'{\"Face\"}{\"Frequency\":>13}{\"Ratio\":>10}')\n",
    "print(f'{0:>4}{frequency0:>13}{frequency0/sample*100:>10.2f}')\n",
    "print(f'{1:>4}{frequency1:>13}{frequency1/sample*100:>10.2f}')"
   ]
  },
  {
   "cell_type": "code",
   "execution_count": 37,
   "id": "da239027-47a8-4538-adc1-3ce0965a0e4d",
   "metadata": {},
   "outputs": [
    {
     "name": "stdout",
     "output_type": "stream",
     "text": [
      "3 6 3 1 2 1 2 3 6 3 \n",
      "6 6 4 5 2 2 2 6 2 1 "
     ]
    }
   ],
   "source": [
    "random.seed(20191215)\n",
    "\n",
    "for roll in range(10):\n",
    "    print(random.randrange(1, 7), end=' ')\n",
    "print()\n",
    "for roll in range(10):\n",
    "    print(random.randrange(1, 7), end=' ')"
   ]
  },
  {
   "cell_type": "code",
   "execution_count": 39,
   "id": "42140bf5-13f7-4cb1-a333-d357fc43e684",
   "metadata": {},
   "outputs": [
    {
     "name": "stdout",
     "output_type": "stream",
     "text": [
      "1 4 1 4 3 5 6 3 6 4 "
     ]
    }
   ],
   "source": [
    "for roll in range(10):\n",
    "    print(random.randrange(1, 7), end=' ')"
   ]
  },
  {
   "cell_type": "markdown",
   "id": "552728f0-0d4a-463f-8f1e-38fd2d609191",
   "metadata": {},
   "source": [
    "__10. Importing libraries and modules in Python__"
   ]
  },
  {
   "cell_type": "code",
   "execution_count": 41,
   "id": "b2f1640a-c7e8-4f73-8b47-acbc12367020",
   "metadata": {},
   "outputs": [
    {
     "name": "stdout",
     "output_type": "stream",
     "text": [
      "3.141592653589793 10 9\n",
      "4\n"
     ]
    }
   ],
   "source": [
    "from math import ceil, floor, pi\n",
    "import statistics as stat\n",
    "\n",
    "print(pi, ceil(9.8), floor(9.8))\n",
    "x = [3,4,5]\n",
    "print(stat.mean(x))"
   ]
  },
  {
   "cell_type": "code",
   "execution_count": null,
   "id": "04b16af8-ee98-41a0-a991-a55e95de7cf7",
   "metadata": {},
   "outputs": [],
   "source": []
  }
 ],
 "metadata": {
  "kernelspec": {
   "display_name": "Python 3",
   "language": "python",
   "name": "python3"
  },
  "language_info": {
   "codemirror_mode": {
    "name": "ipython",
    "version": 3
   },
   "file_extension": ".py",
   "mimetype": "text/x-python",
   "name": "python",
   "nbconvert_exporter": "python",
   "pygments_lexer": "ipython3",
   "version": "3.8.8"
  }
 },
 "nbformat": 4,
 "nbformat_minor": 5
}
