{
 "cells": [
  {
   "cell_type": "markdown",
   "id": "d4eb45f0-82b7-4569-b445-7e8c65384fdd",
   "metadata": {},
   "source": [
    "__1. List: concept, indexing, and slicing__"
   ]
  },
  {
   "cell_type": "code",
   "execution_count": 7,
   "id": "7ecea537-c674-4b17-ad94-b3ca080b0716",
   "metadata": {},
   "outputs": [
    {
     "name": "stdout",
     "output_type": "stream",
     "text": [
      "<class 'list'> [1, 2, 3, 4, 5, 6, 11, 'a', 'b']\n"
     ]
    }
   ],
   "source": [
    "list1 = [1, 2, 3, 4, 5, 6, 11, 'a', 'b']\n",
    "print(type(list1), list1)"
   ]
  },
  {
   "cell_type": "code",
   "execution_count": 8,
   "id": "057fb80e-9cc5-484c-8a9e-105d633d544f",
   "metadata": {},
   "outputs": [
    {
     "name": "stdout",
     "output_type": "stream",
     "text": [
      "2 a\n",
      "[3, 4, 5]\n",
      "[1, 2, 3, 4, 5, 6, 11]\n",
      "[5, 6, 11, 'a', 'b']\n",
      "b\n",
      "[6, 11, 'a', 'b']\n",
      "[4, 5, 6, 11, 'a', 'b']\n"
     ]
    }
   ],
   "source": [
    "print(list1[1], list1[7])\n",
    "print(list1[2:5])\n",
    "print(list1[:7])\n",
    "print(list1[4:])\n",
    "print(list1[-1])\n",
    "print(list1[-4:])\n",
    "print(list1[1+2:])"
   ]
  },
  {
   "cell_type": "code",
   "execution_count": 9,
   "id": "4e39d9d5-8ecb-47d3-baeb-590555a67ca1",
   "metadata": {},
   "outputs": [
    {
     "data": {
      "text/plain": [
       "9"
      ]
     },
     "execution_count": 9,
     "metadata": {},
     "output_type": "execute_result"
    }
   ],
   "source": [
    "len(list1)"
   ]
  },
  {
   "cell_type": "code",
   "execution_count": 10,
   "id": "1f9578a5-73d1-4aa7-9de4-36ef6a9f340a",
   "metadata": {},
   "outputs": [
    {
     "name": "stdout",
     "output_type": "stream",
     "text": [
      "[1, 2, 3, 4, 5, 6, 'c', 'a', 'b']\n"
     ]
    }
   ],
   "source": [
    "list1[6] = 'c'\n",
    "print(list1)"
   ]
  },
  {
   "cell_type": "code",
   "execution_count": 15,
   "id": "ef0c5016-3c22-470a-aaea-1c5585362246",
   "metadata": {},
   "outputs": [
    {
     "name": "stdout",
     "output_type": "stream",
     "text": [
      "[11, 12, 13]\n"
     ]
    }
   ],
   "source": [
    "list2 = []\n",
    "for item in range(11, 14, 1):\n",
    "    #list2 += [item]\n",
    "    list2.append(item)\n",
    "print(list2)"
   ]
  },
  {
   "cell_type": "code",
   "execution_count": 12,
   "id": "44aa78b6-cfc6-46f8-9515-9df302542da1",
   "metadata": {},
   "outputs": [
    {
     "name": "stdout",
     "output_type": "stream",
     "text": [
      "['P', 'y', 't', 'h', 'o', 'n', ' ', 'K', 'o', 'o', 'c'] 11\n"
     ]
    }
   ],
   "source": [
    "list3 = []\n",
    "list3 += 'Python Kooc'\n",
    "print(list3, len(list3))"
   ]
  },
  {
   "cell_type": "code",
   "execution_count": 14,
   "id": "0872e19a-9bd5-460f-aa14-102fa7154de6",
   "metadata": {},
   "outputs": [
    {
     "name": "stdout",
     "output_type": "stream",
     "text": [
      "['P', 'y', 't', 'h', 'o', 'n', ' ', 'K', 'o', 'o', 'c', 'M', 'o', 'o', 'c'] 15\n"
     ]
    }
   ],
   "source": [
    "list3 += ('M', 'o', 'o', 'c')\n",
    "print(list3, len(list3))"
   ]
  },
  {
   "cell_type": "code",
   "execution_count": 17,
   "id": "06ca513b-5298-4226-af4b-85003a742d5b",
   "metadata": {},
   "outputs": [
    {
     "name": "stdout",
     "output_type": "stream",
     "text": [
      "[1, 2, 3, 4, 5, 6, 'c', 'a', 'b', 11, 12, 13]\n"
     ]
    }
   ],
   "source": [
    "list12 = list1 + list2\n",
    "print(list12)"
   ]
  },
  {
   "cell_type": "code",
   "execution_count": 18,
   "id": "0d191b96-a5e8-464f-a67d-ca87ced0aa1f",
   "metadata": {},
   "outputs": [
    {
     "name": "stdout",
     "output_type": "stream",
     "text": [
      "(0, 1)) (1, 2)) (2, 3)) (3, 4)) (4, 5)) (5, 6)) (6, c)) (7, a)) (8, b)) (9, 11)) (10, 12)) (11, 13)) "
     ]
    }
   ],
   "source": [
    "for i in range(len(list12)):\n",
    "    print(f'({i}, {list12[i]}))', end = ' ')"
   ]
  },
  {
   "cell_type": "markdown",
   "id": "7db546ea-b32b-4d44-815c-68ef20539920",
   "metadata": {},
   "source": [
    "__2. Tuples__"
   ]
  },
  {
   "cell_type": "code",
   "execution_count": 19,
   "id": "dd744908-ee0d-4071-b06b-76aeab05d23d",
   "metadata": {},
   "outputs": [
    {
     "name": "stdout",
     "output_type": "stream",
     "text": [
      "(10, 20, 30, 'John', 40, 50)\n"
     ]
    }
   ],
   "source": [
    "t1 = 10, 20, 30, 'John'\n",
    "t1 += (40, 50)\n",
    "print(t1)"
   ]
  },
  {
   "cell_type": "code",
   "execution_count": 20,
   "id": "4c3ebda8-ddb6-4383-a2f0-2bc17fbaba8c",
   "metadata": {},
   "outputs": [
    {
     "name": "stdout",
     "output_type": "stream",
     "text": [
      "(1, 2, 3, 4)\n",
      "3\n",
      "(1, 2, 3)\n"
     ]
    }
   ],
   "source": [
    "t2 = tuple([1, 2, 3, 4])\n",
    "print(t2)\n",
    "print(t2[2])\n",
    "print(t2[:3])"
   ]
  },
  {
   "cell_type": "code",
   "execution_count": 21,
   "id": "947c1cf5-d068-4385-bdc3-2e6d82340be5",
   "metadata": {},
   "outputs": [
    {
     "name": "stdout",
     "output_type": "stream",
     "text": [
      "('Kim', 'Park', 'Kwon', [80, 90, 100]) 4 [80, 90, 100]\n",
      "('Kim', 'Park', 'Kwon', [80, 85, 100])\n"
     ]
    }
   ],
   "source": [
    "t3 = 'Kim', 'Park', 'Kwon', [80, 90, 100]\n",
    "print(t3, len(t3), t3[3])\n",
    "t3[3][1] = 85\n",
    "print(t3)"
   ]
  },
  {
   "cell_type": "markdown",
   "id": "0004dfde-98f6-48f8-a9be-28c574010411",
   "metadata": {},
   "source": [
    "__3. Unpacking sequences: any sequence can be unpacked__"
   ]
  },
  {
   "cell_type": "code",
   "execution_count": 22,
   "id": "9ba21209-1f11-488a-b6f1-4c552cf544fe",
   "metadata": {},
   "outputs": [
    {
     "name": "stdout",
     "output_type": "stream",
     "text": [
      "2\n",
      "('Kim', 'Park', 'Kwon') [80, 90, 100] <class 'tuple'> <class 'list'>\n"
     ]
    }
   ],
   "source": [
    "t4 = (('Kim', 'Park', 'Kwon'), [80, 90, 100])\n",
    "print(len(t4))\n",
    "last_name, grades = t4\n",
    "print(last_name, grades, type(last_name), type(grades))"
   ]
  },
  {
   "cell_type": "code",
   "execution_count": 23,
   "id": "cc809c43-a518-4710-a4eb-2b44a61b51de",
   "metadata": {},
   "outputs": [
    {
     "name": "stdout",
     "output_type": "stream",
     "text": [
      "80 90 100\n"
     ]
    }
   ],
   "source": [
    "grade1 ,grade2, grade3 = grades\n",
    "print(grade1, grade2, grade3)"
   ]
  },
  {
   "cell_type": "code",
   "execution_count": 24,
   "id": "39ba7455-0bc1-4e3f-90ad-affcd10d2a1f",
   "metadata": {},
   "outputs": [
    {
     "name": "stdout",
     "output_type": "stream",
     "text": [
      "W I F I\n"
     ]
    }
   ],
   "source": [
    "first, second, third, fourth = 'WIFI'\n",
    "print(first, second, third, fourth)"
   ]
  },
  {
   "cell_type": "markdown",
   "id": "9d2d02fb-e306-400c-b07c-605278515d4e",
   "metadata": {},
   "source": [
    "__4. Enumerate: A built-in function__"
   ]
  },
  {
   "cell_type": "code",
   "execution_count": 25,
   "id": "bce91e44-9c2d-47a4-8a07-1577cf2a0c50",
   "metadata": {},
   "outputs": [
    {
     "name": "stdout",
     "output_type": "stream",
     "text": [
      "[(0, 'red'), (1, 'yellow'), (2, 'blue'), (3, 'black'), (4, 'white')]\n",
      "((0, 'red'), (1, 'yellow'), (2, 'blue'), (3, 'black'), (4, 'white'))\n",
      "0: red\n",
      "1: yellow\n",
      "2: blue\n",
      "3: black\n",
      "4: white\n"
     ]
    }
   ],
   "source": [
    "colors = ['red', 'yellow', 'blue', 'black', 'white']\n",
    "print(list(enumerate(colors)))\n",
    "print(tuple(enumerate(colors)))\n",
    "\n",
    "for index, color in enumerate(colors):\n",
    "    print(f'{index}: {color}')"
   ]
  },
  {
   "cell_type": "code",
   "execution_count": 26,
   "id": "e1cd8ada-a37c-4d4a-b200-f4085570efbb",
   "metadata": {},
   "outputs": [
    {
     "name": "stdout",
     "output_type": "stream",
     "text": [
      "Creating a bar chart:\n",
      "Index   Value Bar\n",
      "    0      19 *******************\n",
      "    1       8 ********\n",
      "    2      15 ***************\n",
      "    3       7 *******\n",
      "    4      11 ***********\n"
     ]
    }
   ],
   "source": [
    "bar = [19, 8, 15, 7, 11]\n",
    "print('Creating a bar chart:')\n",
    "print(f'Index{\"Value\":>8} Bar')\n",
    "for index, value in enumerate(bar):\n",
    "    print(f'{index:>5}{value:>8} {\"*\"*value}')"
   ]
  },
  {
   "cell_type": "markdown",
   "id": "220e7656-2d42-4d07-b2da-9bd180cb82fa",
   "metadata": {},
   "source": [
    "__5. Slicing with steps and modifying lists with slicing__"
   ]
  },
  {
   "cell_type": "code",
   "execution_count": 27,
   "id": "34956f60-b20d-4692-951a-53dbce0f8f26",
   "metadata": {},
   "outputs": [
    {
     "name": "stdout",
     "output_type": "stream",
     "text": [
      "[1, 2, 3, 4, 5, 6, 'c', 'a', 'b', 11, 12, 13] 12\n",
      "[1, 2, 3, 4, 5, 6, 'c', 'a', 'b', 11, 12, 13]\n",
      "[1, 3, 5, 'c', 'b', 12]\n"
     ]
    }
   ],
   "source": [
    "print(list12, len(list12))\n",
    "print(list12[:])\n",
    "print(list12[::2])"
   ]
  },
  {
   "cell_type": "code",
   "execution_count": 28,
   "id": "c1df5a5d-77eb-4253-97b2-7dabf335dd21",
   "metadata": {},
   "outputs": [
    {
     "name": "stdout",
     "output_type": "stream",
     "text": [
      "['one', 'two', 'three', 4, 5, 6, 'c', 'a', 'b', 11, 12, 13]\n",
      "[4, 5, 6, 'c', 'a', 'b', 11, 12, 13]\n"
     ]
    }
   ],
   "source": [
    "list12[0:3] = ['one', 'two', 'three']\n",
    "print(list12)\n",
    "list12[0:3] = []\n",
    "print(list12)"
   ]
  },
  {
   "cell_type": "markdown",
   "id": "f8c253c4-c7d4-47af-974c-76527ba9fcfd",
   "metadata": {},
   "source": [
    "__6. Deleting elements and lists__"
   ]
  },
  {
   "cell_type": "code",
   "execution_count": 29,
   "id": "1edad9c8-d482-4cbf-b75f-a16de8756241",
   "metadata": {},
   "outputs": [
    {
     "name": "stdout",
     "output_type": "stream",
     "text": [
      "[4, 5, 6, 'c', 'a', 'b', 11, 12]\n",
      "[5, 'c', 'b', 12]\n",
      "[]\n"
     ]
    }
   ],
   "source": [
    "del list12[-1]\n",
    "print(list12)\n",
    "del list12[::2]\n",
    "print(list12)\n",
    "del list12[:]\n",
    "print(list12)"
   ]
  },
  {
   "cell_type": "code",
   "execution_count": 32,
   "id": "74dd5430-2eda-45a7-94f6-104dc71a2817",
   "metadata": {},
   "outputs": [
    {
     "ename": "NameError",
     "evalue": "name 'bar' is not defined",
     "output_type": "error",
     "traceback": [
      "\u001b[1;31m---------------------------------------------------------------------------\u001b[0m",
      "\u001b[1;31mNameError\u001b[0m                                 Traceback (most recent call last)",
      "\u001b[1;32mC:\\Users\\Public\\Documents\\ESTsoft\\CreatorTemp/ipykernel_19856/4094224522.py\u001b[0m in \u001b[0;36m<module>\u001b[1;34m\u001b[0m\n\u001b[1;32m----> 1\u001b[1;33m \u001b[0mprint\u001b[0m\u001b[1;33m(\u001b[0m\u001b[0mbar\u001b[0m\u001b[1;33m)\u001b[0m\u001b[1;33m\u001b[0m\u001b[1;33m\u001b[0m\u001b[0m\n\u001b[0m\u001b[0;32m      2\u001b[0m \u001b[1;32mdel\u001b[0m \u001b[0mbar\u001b[0m\u001b[1;33m\u001b[0m\u001b[1;33m\u001b[0m\u001b[0m\n\u001b[0;32m      3\u001b[0m \u001b[0mprint\u001b[0m\u001b[1;33m(\u001b[0m\u001b[0mbar\u001b[0m\u001b[1;33m)\u001b[0m\u001b[1;33m\u001b[0m\u001b[1;33m\u001b[0m\u001b[0m\n",
      "\u001b[1;31mNameError\u001b[0m: name 'bar' is not defined"
     ]
    }
   ],
   "source": [
    "print(bar)\n",
    "del bar\n",
    "print(bar)"
   ]
  },
  {
   "cell_type": "markdown",
   "id": "081da73f-b5a6-436f-b8f8-46f9ff2a4a73",
   "metadata": {},
   "source": [
    "__7. Sorting lists with sorting method__"
   ]
  },
  {
   "cell_type": "code",
   "execution_count": 33,
   "id": "043af940-0764-43a4-9018-a3acf1c8c669",
   "metadata": {},
   "outputs": [
    {
     "data": {
      "text/plain": [
       "[1, 2, 3, 4, 5, 6, 7, 8, 9, 11, 15]"
      ]
     },
     "execution_count": 33,
     "metadata": {},
     "output_type": "execute_result"
    }
   ],
   "source": [
    "numbers = [7, 2, 5, 4, 3, 6, 1, 9, 8, 15, 11]\n",
    "numbers.sort()\n",
    "numbers"
   ]
  },
  {
   "cell_type": "code",
   "execution_count": 35,
   "id": "e1e53454-5d9f-4b89-a809-6b976dcc8731",
   "metadata": {},
   "outputs": [
    {
     "name": "stdout",
     "output_type": "stream",
     "text": [
      "[15, 11, 9, 8, 7, 6, 5, 4, 3, 2, 1]\n",
      "[1, 2, 3, 4, 5, 6, 7, 8, 9, 11, 15]\n"
     ]
    }
   ],
   "source": [
    "numbers = [7, 2, 5, 4, 3, 6, 1, 9, 8, 15, 11]\n",
    "numbers.sort(reverse = True)\n",
    "print(numbers)\n",
    "numbers.reverse()\n",
    "print(numbers)"
   ]
  },
  {
   "cell_type": "code",
   "execution_count": 17,
   "id": "453c81e3-fa95-4292-b4b0-7ac4874fcc69",
   "metadata": {},
   "outputs": [
    {
     "name": "stdout",
     "output_type": "stream",
     "text": [
      "['J', 'I', 'love', 'you,', 'and', 'do', 'you', 'love', 'me?'] <class 'list'>\n",
      "['J', 'I', 'do', 'and', 'you', 'me?', 'love', 'you,', 'love'] <class 'list'>\n",
      "['I', 'J', 'and', 'do', 'love', 'love', 'me?', 'you', 'you,']\n"
     ]
    }
   ],
   "source": [
    "a_string = 'J I love you, and do you love me?'\n",
    "a_string = a_string.split()\n",
    "print(a_string, type(a_string))\n",
    "a_string.sort(key=len)\n",
    "print(a_string, type(a_string))\n",
    "b_string = sorted(a_string)\n",
    "print(b_string)"
   ]
  },
  {
   "cell_type": "code",
   "execution_count": 7,
   "id": "42a129aa-8efc-4b51-a8f3-cd380d516205",
   "metadata": {},
   "outputs": [
    {
     "name": "stdout",
     "output_type": "stream",
     "text": [
      "[7, 2, 5, 4, 3, 6, 1, 9, 8, 15, 11]\n",
      "[1, 2, 3, 4, 5, 6, 7, 8, 9, 11, 15]\n",
      "[11, 15, 8, 9, 1, 6, 3, 4, 5, 2, 7]\n",
      "[7, 2, 5, 4, 3, 6, 1, 9, 8, 15, 11]\n"
     ]
    }
   ],
   "source": [
    "x = [7, 2, 5, 4, 3, 6, 1, 9, 8, 15, 11]\n",
    "y = sorted(x)\n",
    "z = reversed(x)\n",
    "print(x)\n",
    "print(y)\n",
    "print(list(z))\n",
    "print(x)"
   ]
  },
  {
   "cell_type": "markdown",
   "id": "a3f95fd8-906d-44e4-9320-95e12f26d6c9",
   "metadata": {},
   "source": [
    "__8. Searching elements and useful list methods__"
   ]
  },
  {
   "cell_type": "code",
   "execution_count": 8,
   "id": "9263c9d3-3c81-4b75-b3d3-5343504315a3",
   "metadata": {},
   "outputs": [
    {
     "name": "stdout",
     "output_type": "stream",
     "text": [
      "4\n",
      "False\n",
      "True\n",
      "False\n"
     ]
    }
   ],
   "source": [
    "print(x.index(3))\n",
    "print(12 in x)\n",
    "print(12 not in x)\n",
    "print('Love' in a_string)"
   ]
  },
  {
   "cell_type": "code",
   "execution_count": 9,
   "id": "1520f5bb-2b16-4a7b-b805-c535b07921ee",
   "metadata": {},
   "outputs": [
    {
     "name": "stdout",
     "output_type": "stream",
     "text": [
      "['J', 'I', 'do', 'and', 'you', 'me?', 'love', 'you,', 'love']\n",
      "['J', 'I', 'do', 'him', 'and', 'you', 'me?', 'love', 'you,', 'love']\n"
     ]
    }
   ],
   "source": [
    "print(a_string)\n",
    "a_string.insert(3, 'him')\n",
    "print(a_string)"
   ]
  },
  {
   "cell_type": "code",
   "execution_count": 10,
   "id": "d59d5d2c-d43d-4fa8-b9d6-7476354293ba",
   "metadata": {},
   "outputs": [
    {
     "name": "stdout",
     "output_type": "stream",
     "text": [
      "['J', 'I', 'do', 'him', 'and', 'you', 'me?', 'love', 'you,', 'love', 'hate']\n",
      "['J', 'I', 'do', 'and', 'you', 'me?', 'love', 'you,', 'love', 'hate']\n"
     ]
    }
   ],
   "source": [
    "a_string.append('hate')\n",
    "print(a_string)\n",
    "a_string.remove('him')\n",
    "print(a_string)"
   ]
  },
  {
   "cell_type": "code",
   "execution_count": 11,
   "id": "ccc8cf49-71ba-4cdb-a41d-9aadb8793f06",
   "metadata": {},
   "outputs": [
    {
     "name": "stdout",
     "output_type": "stream",
     "text": [
      "['J', 'I', 'do', 'and', 'you', 'me?', 'love', 'you,', 'love', 'hate', 'I', 'and']\n",
      "['J', 'I', 'do', 'and', 'you', 'me?', 'love', 'you,', 'love', 'hate', 'I', 'and']\n"
     ]
    }
   ],
   "source": [
    "print(a_string+['I', 'and'])\n",
    "a_string.extend(['I', 'and'])\n",
    "print(a_string)"
   ]
  },
  {
   "cell_type": "code",
   "execution_count": 12,
   "id": "3253b46c-ebff-4e84-96e1-7ef80f66e2b2",
   "metadata": {},
   "outputs": [
    {
     "name": "stdout",
     "output_type": "stream",
     "text": [
      "[]\n"
     ]
    }
   ],
   "source": [
    "a_string.clear()\n",
    "print(a_string)"
   ]
  },
  {
   "cell_type": "code",
   "execution_count": 13,
   "id": "bc1ddc3a-58b6-4574-9d94-d92c83595797",
   "metadata": {},
   "outputs": [
    {
     "name": "stdout",
     "output_type": "stream",
     "text": [
      "[7, 2, 5, 4, 3, 6, 1, 9, 8, 15, 11]\n",
      "[7, 2, 5, 4, 3, 6, 1, 9, 8, 15, 11]\n",
      "[7, 2, 5, 4, 3, 6, 1, 9, 8, 15, 11]\n"
     ]
    }
   ],
   "source": [
    "print(x) \n",
    "x_copied = x.copy()\n",
    "print(x_copied)\n",
    "print(x.copy())"
   ]
  },
  {
   "cell_type": "markdown",
   "id": "fdc55da2-5f2c-498c-ae8b-3735eff17a33",
   "metadata": {},
   "source": [
    "__9. List compregensions__"
   ]
  },
  {
   "cell_type": "code",
   "execution_count": 14,
   "id": "6f89b06a-d2ad-4709-a358-6142eb106b6e",
   "metadata": {},
   "outputs": [
    {
     "name": "stdout",
     "output_type": "stream",
     "text": [
      "[0, 2, 4, 6, 8]\n",
      "[0, 2, 4, 6, 8]\n",
      "[1, 3, 5, 7, 9]\n"
     ]
    }
   ],
   "source": [
    "list_range = list(range(0, 10, 2))\n",
    "print(list_range)\n",
    "\n",
    "list_com = [i for i in range(0, 10, 2)]\n",
    "print(list_com)\n",
    "list_con = [i for i in range(0, 10) if i % 2 != 0]\n",
    "print(list_con)"
   ]
  },
  {
   "cell_type": "code",
   "execution_count": 19,
   "id": "495ae54b-baae-4300-81e7-488406fae80b",
   "metadata": {},
   "outputs": [
    {
     "name": "stdout",
     "output_type": "stream",
     "text": [
      "[0, 4, 16, 36, 64]\n",
      "['J', 'I', 'DO', 'AND', 'YOU', 'ME?', 'LOVE', 'YOU,', 'LOVE']\n"
     ]
    }
   ],
   "source": [
    "list_op = [i**2 for i in range(0, 10, 2)]\n",
    "print(list_op)\n",
    "list_up = [i.upper() for i in a_string]\n",
    "print(list_up)"
   ]
  },
  {
   "cell_type": "code",
   "execution_count": 18,
   "id": "b1448a45-9459-4b4f-b4bd-14c33427dbb5",
   "metadata": {},
   "outputs": [
    {
     "name": "stdout",
     "output_type": "stream",
     "text": [
      "<generator object <genexpr> at 0x00000201DF231948>\n",
      "[4, 8, 20, 40, 68]\n"
     ]
    }
   ],
   "source": [
    "list_gen = (i**2 for i in range(10) if i % 2 == 0)\n",
    "print(list_gen)\n",
    "list_gen1 = [i+4 for i in list_gen]\n",
    "print(list_gen1)"
   ]
  },
  {
   "cell_type": "markdown",
   "id": "050ce9f7-b315-4d11-b154-c4314e6d2160",
   "metadata": {},
   "source": [
    "__10. lambda expression, map, and zip functions__"
   ]
  },
  {
   "cell_type": "code",
   "execution_count": 23,
   "id": "2ad56e6a-355e-453a-9f14-b9e5172dba98",
   "metadata": {},
   "outputs": [
    {
     "name": "stdout",
     "output_type": "stream",
     "text": [
      "[0, 1, 2, 3, 4, 5, 6, 7, 8, 9, 10, 11, 12, 13, 14, 15, 16, 17, 18, 19, 20, 21, 22, 23, 24]\n"
     ]
    }
   ],
   "source": [
    "list3 = list(range(0, 25))\n",
    "print(list3)\n",
    "\n",
    "def is_multiple3(x):\n",
    "    \"\"\"Return True if x is a multiple of 3\"\"\"\n",
    "    return x % 3 == 0"
   ]
  },
  {
   "cell_type": "code",
   "execution_count": 24,
   "id": "629323a3-3927-4e3d-9e27-902114ef04f2",
   "metadata": {},
   "outputs": [
    {
     "data": {
      "text/plain": [
       "[0, 3, 6, 9, 12, 15, 18, 21, 24]"
      ]
     },
     "execution_count": 24,
     "metadata": {},
     "output_type": "execute_result"
    }
   ],
   "source": [
    "list(filter(is_multiple3, list3))"
   ]
  },
  {
   "cell_type": "code",
   "execution_count": 25,
   "id": "d921c033-1af5-43a5-9268-d095e70b7f5c",
   "metadata": {},
   "outputs": [
    {
     "data": {
      "text/plain": [
       "[0, 3, 6, 9, 12, 15, 18, 21, 24]"
      ]
     },
     "execution_count": 25,
     "metadata": {},
     "output_type": "execute_result"
    }
   ],
   "source": [
    "list4 = list(filter(lambda x: x % 3 == 0, list3))\n",
    "list4"
   ]
  },
  {
   "cell_type": "code",
   "execution_count": 26,
   "id": "d3526f11-1854-43be-8508-71b05ad62559",
   "metadata": {},
   "outputs": [
    {
     "name": "stdout",
     "output_type": "stream",
     "text": [
      "[0, 9, 36, 81, 144, 225, 324, 441, 576]\n",
      "[0, 9, 36, 81, 144, 225, 324, 441, 576]\n"
     ]
    }
   ],
   "source": [
    "print(list(map(lambda x: x**2, list4)))\n",
    "print([i**2 for i in list4])"
   ]
  },
  {
   "cell_type": "code",
   "execution_count": 28,
   "id": "5fe7ae13-2512-48ce-b2a7-8a712e6e7baa",
   "metadata": {},
   "outputs": [
    {
     "data": {
      "text/plain": [
       "[0, 9, 36, 81, 144, 225, 324, 441, 576]"
      ]
     },
     "execution_count": 28,
     "metadata": {},
     "output_type": "execute_result"
    }
   ],
   "source": [
    "list(map(lambda x: x**2, filter(lambda x: x % 3 == 0, list3)))"
   ]
  },
  {
   "cell_type": "code",
   "execution_count": 29,
   "id": "f3ca8999-b615-4110-9414-c70ef30bcbbb",
   "metadata": {},
   "outputs": [
    {
     "data": {
      "text/plain": [
       "[0, 9, 36, 81, 144, 225, 324, 441, 576]"
      ]
     },
     "execution_count": 29,
     "metadata": {},
     "output_type": "execute_result"
    }
   ],
   "source": [
    "[x**2 for x in list3 if x %3 == 0]"
   ]
  },
  {
   "cell_type": "code",
   "execution_count": 30,
   "id": "c986c89d-1ec1-4978-b62d-19d3d430dd89",
   "metadata": {},
   "outputs": [
    {
     "name": "stdout",
     "output_type": "stream",
     "text": [
      "['Mini', 'Pony', 'Excel', 'Sonata', 'Santafe', 'elantra', 'Grandeur']\n",
      "['Excel', 'Grandeur', 'Mini', 'Pony', 'Santafe', 'Sonata', 'elantra']\n",
      "Excel elantra\n"
     ]
    },
    {
     "data": {
      "text/plain": [
       "'Sonata'"
      ]
     },
     "execution_count": 30,
     "metadata": {},
     "output_type": "execute_result"
    }
   ],
   "source": [
    "car = ['Santafe', 'Mini', 'Pony', 'Grandeur', 'Sonata', 'Excel', 'elantra']\n",
    "car.sort(key = len)\n",
    "print(car)\n",
    "print(sorted(car))\n",
    "print(min(car), max(car))\n",
    "max(car, key=lambda i: i.lower())"
   ]
  },
  {
   "cell_type": "code",
   "execution_count": 31,
   "id": "6bdb4581-6d7d-46d7-b13a-a62763da29ad",
   "metadata": {},
   "outputs": [
    {
     "name": "stdout",
     "output_type": "stream",
     "text": [
      "Ryu: 7\n",
      "Son: 20\n",
      "Park: 15\n",
      "Kwon: 7\n"
     ]
    }
   ],
   "source": [
    "players = ['Ryu', 'Son', 'Park', 'Kwon']; goals = [7, 20, 15, 7]\n",
    "for last_name, goal in zip(players, goals):\n",
    "    print(f'{last_name}: {goal}')"
   ]
  },
  {
   "cell_type": "markdown",
   "id": "c7c66c74-7c17-4ca2-97ba-bcd776ce8fac",
   "metadata": {},
   "source": [
    "__11. Two and multi dimensional lists__"
   ]
  },
  {
   "cell_type": "code",
   "execution_count": 32,
   "id": "3f5432d7-6ad0-4789-9ef1-fbfcf32e8f5e",
   "metadata": {},
   "outputs": [
    {
     "name": "stdout",
     "output_type": "stream",
     "text": [
      "[[1, 2, 3, 4], [5, 6, 7, 8], [9, 10, 11, 12]]\n",
      "1 2 3 4 \n",
      "5 6 7 8 \n",
      "9 10 11 12 \n"
     ]
    }
   ],
   "source": [
    "a = [[1, 2, 3, 4], [5, 6, 7, 8], [9, 10, 11, 12]]\n",
    "print(a)\n",
    "for row in a:\n",
    "    for column in row:\n",
    "        print(column, end= \" \")\n",
    "    print()"
   ]
  },
  {
   "cell_type": "code",
   "execution_count": null,
   "id": "fe633d88-cd23-4490-9f79-4d00039e05d5",
   "metadata": {},
   "outputs": [],
   "source": []
  }
 ],
 "metadata": {
  "kernelspec": {
   "display_name": "Python 3",
   "language": "python",
   "name": "python3"
  },
  "language_info": {
   "codemirror_mode": {
    "name": "ipython",
    "version": 3
   },
   "file_extension": ".py",
   "mimetype": "text/x-python",
   "name": "python",
   "nbconvert_exporter": "python",
   "pygments_lexer": "ipython3",
   "version": "3.8.8"
  }
 },
 "nbformat": 4,
 "nbformat_minor": 5
}
