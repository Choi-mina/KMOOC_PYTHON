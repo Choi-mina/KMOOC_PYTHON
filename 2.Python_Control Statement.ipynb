{
 "cells": [
  {
   "cell_type": "markdown",
   "id": "839128f1-3288-4dd5-abfc-9208ec6f55cc",
   "metadata": {},
   "source": [
    "__1. if...elif...else__"
   ]
  },
  {
   "cell_type": "code",
   "execution_count": 5,
   "id": "8ae7207d-f76d-470c-8228-193a5423d008",
   "metadata": {},
   "outputs": [
    {
     "name": "stdin",
     "output_type": "stream",
     "text": [
      "Type your weight 50\n"
     ]
    },
    {
     "name": "stdout",
     "output_type": "stream",
     "text": [
      "thin\n",
      "Eat more!\n"
     ]
    }
   ],
   "source": [
    "# Classifying weight categories\n",
    "weight = int(input('Type your weight'))\n",
    "\n",
    "if weight >= 90:\n",
    "    print('fat!', 'Exercise!')\n",
    "elif weight >= 60:\n",
    "    print('normal')\n",
    "else:\n",
    "    print('thin\\nEat more!')"
   ]
  },
  {
   "cell_type": "code",
   "execution_count": 7,
   "id": "ecbd4086-5833-42c5-9763-006c21f61e05",
   "metadata": {},
   "outputs": [
    {
     "name": "stdin",
     "output_type": "stream",
     "text": [
      "Enter a grade 79\n"
     ]
    },
    {
     "name": "stdout",
     "output_type": "stream",
     "text": [
      "C\n"
     ]
    }
   ],
   "source": [
    "grade = float(input('Enter a grade'))\n",
    "\n",
    "if grade >= 90:\n",
    "    print('A')\n",
    "if 90 > grade >= 80:\n",
    "    print('B')\n",
    "if 80 > grade >= 70:\n",
    "    print('C')\n",
    "if 70 > grade >= 60:\n",
    "    print('D')\n",
    "if grade < 60:\n",
    "    print('F')"
   ]
  },
  {
   "cell_type": "code",
   "execution_count": 9,
   "id": "da460524-74ea-4363-a258-96a10a5d914f",
   "metadata": {},
   "outputs": [
    {
     "name": "stdin",
     "output_type": "stream",
     "text": [
      "Enter an integer grade 85\n"
     ]
    },
    {
     "name": "stdout",
     "output_type": "stream",
     "text": [
      "B\n"
     ]
    }
   ],
   "source": [
    "grade1 = int(input('Enter an integer grade'))\n",
    "\n",
    "if grade1 >= 90:\n",
    "    print('A')\n",
    "elif grade1 >= 80:\n",
    "    print('B')\n",
    "elif grade1 >= 70:\n",
    "    print('C')\n",
    "elif grade1 >= 60:\n",
    "    print('D')\n",
    "else:\n",
    "    print('F')"
   ]
  },
  {
   "cell_type": "code",
   "execution_count": 10,
   "id": "85a8a0cb-059b-4d06-ae19-6f6d6e6fb47c",
   "metadata": {},
   "outputs": [
    {
     "name": "stdin",
     "output_type": "stream",
     "text": [
      "Type your weight in kg 55\n",
      "Type your height in cm 155\n"
     ]
    },
    {
     "name": "stdout",
     "output_type": "stream",
     "text": [
      "thin!\n",
      "Eat more!\n"
     ]
    }
   ],
   "source": [
    "weight = int(input('Type your weight in kg'))\n",
    "height = int(input('Type your height in cm'))\n",
    "\n",
    "if weight >= 90 and height <= 150:\n",
    "    print('fat!', 'Exercise!')\n",
    "elif weight >= 60 or 160 <= height < 180:\n",
    "    print('normal!')\n",
    "else:\n",
    "    print('thin!')\n",
    "    print('Eat more!')"
   ]
  },
  {
   "cell_type": "markdown",
   "id": "6929f114-cf80-4734-8393-7cc83239f2f8",
   "metadata": {},
   "source": [
    "__2. While statement__"
   ]
  },
  {
   "cell_type": "code",
   "execution_count": 12,
   "id": "1d600ae6-ff37-487d-bf48-13c3ba12a606",
   "metadata": {},
   "outputs": [
    {
     "name": "stdout",
     "output_type": "stream",
     "text": [
      "2\n",
      "4\n",
      "8\n",
      "16\n",
      "32\n",
      "64\n",
      "128\n"
     ]
    }
   ],
   "source": [
    "k = 1\n",
    "\n",
    "while k <= 100:\n",
    "    k = k*2\n",
    "    print(k)"
   ]
  },
  {
   "cell_type": "code",
   "execution_count": 14,
   "id": "f02c0d7d-2037-4b14-a91e-637497a1200c",
   "metadata": {},
   "outputs": [
    {
     "name": "stdout",
     "output_type": "stream",
     "text": [
      "9 8 7 6 5 4 3 2 1 0 "
     ]
    }
   ],
   "source": [
    "l = 10\n",
    "while l > 0:\n",
    "    l = l - 1\n",
    "    print(l, end = ' ')"
   ]
  },
  {
   "cell_type": "code",
   "execution_count": 17,
   "id": "c5084e3c-cb2d-4bfb-b317-36167d71293a",
   "metadata": {},
   "outputs": [
    {
     "name": "stdin",
     "output_type": "stream",
     "text": [
      "Enter grade or -1 to end:  20\n",
      "Enter grade or -1 to end:  50\n",
      "Enter grade or -1 to end:  90\n",
      "Enter grade or -1 to end:  85\n",
      "Enter grade or -1 to end:  65\n",
      "Enter grade or -1 to end:  -1\n"
     ]
    },
    {
     "name": "stdout",
     "output_type": "stream",
     "text": [
      "Total grade is 310\n",
      "The number of student is 5\n",
      "Class Average is 62.0\n"
     ]
    }
   ],
   "source": [
    "total = 0\n",
    "counter = 0\n",
    "\n",
    "grade = int(input('Enter grade or -1 to end: '))\n",
    "\n",
    "while grade != -1:\n",
    "    total += grade\n",
    "    counter += 1\n",
    "    grade = int(input('Enter grade or -1 to end: '))\n",
    "    \n",
    "if counter != 0:\n",
    "    average = total/counter\n",
    "    print('Total grade is', total)\n",
    "    print('The number of student is', counter)\n",
    "    print(f'Class Average is {average}')\n",
    "else:\n",
    "    print('No grades were entered')"
   ]
  },
  {
   "cell_type": "markdown",
   "id": "9f0b8f4d-3cd6-4ff1-951f-acb6e5b0223b",
   "metadata": {},
   "source": [
    "__3. For loop for iteration__"
   ]
  },
  {
   "cell_type": "code",
   "execution_count": 20,
   "id": "accde279-4b5d-4eb1-90dd-9cab549aff6a",
   "metadata": {},
   "outputs": [
    {
     "name": "stdout",
     "output_type": "stream",
     "text": [
      "item : 1\n",
      "item : 2\n",
      "item : 3\n",
      "item : 4\n",
      "item : 5\n",
      "letters : A\n",
      "letters : B\n",
      "letters : C\n",
      "letters : D\n"
     ]
    }
   ],
   "source": [
    "for item in [1,2,3,4,5]:\n",
    "    print(\"item :\", item)\n",
    "letters = ['A', 'B', 'C', 'D']\n",
    "for i in letters:\n",
    "    print(\"letters :\", i)"
   ]
  },
  {
   "cell_type": "code",
   "execution_count": 21,
   "id": "9dda1139-3098-4485-b2f4-bc6da027d205",
   "metadata": {},
   "outputs": [
    {
     "name": "stdout",
     "output_type": "stream",
     "text": [
      "Each letter : A\n",
      "Each letter : B\n",
      "Each letter : C\n",
      "Each letter : D\n",
      "P y t h o n P r o g r a m i n g \n",
      "25\n"
     ]
    }
   ],
   "source": [
    "for i in range(len(letters)):\n",
    "    print(\"Each letter :\", letters[i])\n",
    "    \n",
    "for i in 'PythonPrograming':\n",
    "    print(i, end=' ')\n",
    "    \n",
    "print()\n",
    "\n",
    "total = 0\n",
    "for number in [2, -3, 0, 17, 9]:\n",
    "    total = total + number\n",
    "print(total)"
   ]
  },
  {
   "cell_type": "markdown",
   "id": "b9126ef8-1c22-4f0d-a3f6-6513089705ce",
   "metadata": {},
   "source": [
    "__4. Augumented assignment__"
   ]
  },
  {
   "cell_type": "code",
   "execution_count": 22,
   "id": "2844c48a-8e80-4472-a282-2da782d2860b",
   "metadata": {},
   "outputs": [
    {
     "name": "stdout",
     "output_type": "stream",
     "text": [
      "0 1 2 3 4 5 6 7 8 9 "
     ]
    },
    {
     "data": {
      "text/plain": [
       "45"
      ]
     },
     "execution_count": 22,
     "metadata": {},
     "output_type": "execute_result"
    }
   ],
   "source": [
    "total = 0\n",
    "for i in range(10):\n",
    "    print(i, end=' ')\n",
    "    total += i\n",
    "total"
   ]
  },
  {
   "cell_type": "markdown",
   "id": "0acb8f60-96cd-4751-a07b-594d26a866b9",
   "metadata": {},
   "source": [
    "__5. Making a for loop with augmented assignments__"
   ]
  },
  {
   "cell_type": "code",
   "execution_count": 25,
   "id": "a069dd33-f8ca-47d2-a7bf-ea9bc5af701d",
   "metadata": {},
   "outputs": [
    {
     "name": "stdout",
     "output_type": "stream",
     "text": [
      "Class average is  81.70\n",
      "Average is  81.70\n"
     ]
    }
   ],
   "source": [
    "total = 0\n",
    "NumStudents = 0\n",
    "grades = [98, 76, 71, 87, 83, 90, 57, 79, 82, 94]\n",
    "for i in grades:\n",
    "    total += i\n",
    "    NumStudents += 1\n",
    "average = total/NumStudents\n",
    "print(f'Class average is {average: .2f}')\n",
    "print(f'Average is {total/NumStudents: .2f}')"
   ]
  },
  {
   "cell_type": "markdown",
   "id": "cbf9079d-e093-4301-8a78-be4f262e6456",
   "metadata": {},
   "source": [
    "__6. A built-in function, range__"
   ]
  },
  {
   "cell_type": "code",
   "execution_count": 26,
   "id": "5f2428d2-0caa-484c-9c88-1490e236f4ba",
   "metadata": {},
   "outputs": [
    {
     "name": "stdout",
     "output_type": "stream",
     "text": [
      "7, 8, 9, 10, 11, 12, 13, 14, 15, 16, 17, 18, 19, \n",
      "10, 13, 16, 19, \n",
      "15, 13, 11, 9, 7, 5, 3, 1, "
     ]
    }
   ],
   "source": [
    "for i in range(7, 20):\n",
    "    print(i, end = ', ')\n",
    "print()\n",
    "\n",
    "for i in range(10, 20, 3):\n",
    "    print(i, end = ', ')\n",
    "print()\n",
    "for i in range(15, 0, -2):\n",
    "    print(i, end = ', ')"
   ]
  },
  {
   "cell_type": "markdown",
   "id": "7f9f9ccc-55ed-4415-8422-b5fd10691cff",
   "metadata": {},
   "source": [
    "__7. Advanced use of while and for loops__"
   ]
  },
  {
   "cell_type": "code",
   "execution_count": 27,
   "id": "1faa7b6f-7275-4ee9-a040-bdf3e315e857",
   "metadata": {},
   "outputs": [
    {
     "name": "stdout",
     "output_type": "stream",
     "text": [
      "9 8 7 6 5 4 3 2 1 0 \n",
      "Loop ended 0\n"
     ]
    }
   ],
   "source": [
    "l = 10\n",
    "while l > 0:\n",
    "    l = l - 1\n",
    "    print(l, end = ' ')\n",
    "print()\n",
    "print('Loop ended', l)"
   ]
  },
  {
   "cell_type": "code",
   "execution_count": 28,
   "id": "5575e39c-0622-4d21-b255-6ff98b5b621a",
   "metadata": {},
   "outputs": [
    {
     "name": "stdout",
     "output_type": "stream",
     "text": [
      "9 8 7 6 \n",
      "Loop ended 5\n"
     ]
    }
   ],
   "source": [
    "l = 10\n",
    "while l > 0:\n",
    "    l = l - 1\n",
    "    if l == 5:\n",
    "        break\n",
    "    print(l, end = ' ')\n",
    "print()\n",
    "print('Loop ended' , l)"
   ]
  },
  {
   "cell_type": "code",
   "execution_count": 29,
   "id": "c398af32-5d70-4475-b73f-25014dda78ae",
   "metadata": {},
   "outputs": [
    {
     "name": "stdout",
     "output_type": "stream",
     "text": [
      "9 8 7 6 4 3 2 1 0 \n",
      "Loop ended 0\n"
     ]
    }
   ],
   "source": [
    "l = 10\n",
    "while l > 0:\n",
    "    l = l - 1\n",
    "    if l == 5:\n",
    "        continue\n",
    "    print(l, end = ' ')\n",
    "print()\n",
    "print('Loop ended', l)"
   ]
  },
  {
   "cell_type": "code",
   "execution_count": 30,
   "id": "2d536e2d-5153-4e13-b479-e289cf4c2dca",
   "metadata": {},
   "outputs": [
    {
     "name": "stdout",
     "output_type": "stream",
     "text": [
      "9 8 7 6 5 4 3 2 1 0 Loop ended 0\n"
     ]
    }
   ],
   "source": [
    "l = 10\n",
    "while l > 0:\n",
    "    l = l - 1\n",
    "    print(l, end = ' ')\n",
    "else:\n",
    "    print('Loop ended', 0)"
   ]
  },
  {
   "cell_type": "code",
   "execution_count": 31,
   "id": "ae058e43-55c1-4bda-9cc4-fb2029634ad2",
   "metadata": {},
   "outputs": [
    {
     "name": "stdout",
     "output_type": "stream",
     "text": [
      "9 8 7 6 "
     ]
    }
   ],
   "source": [
    "l = 10\n",
    "while l > 0:\n",
    "    l = l - 1\n",
    "    if l == 5:\n",
    "        break\n",
    "    print(l, end = ' ')\n",
    "else :\n",
    "    print('Loop ended' , l)"
   ]
  },
  {
   "cell_type": "code",
   "execution_count": 36,
   "id": "35fb2b5e-7377-48b6-b509-44ad3ff123ff",
   "metadata": {},
   "outputs": [
    {
     "name": "stdout",
     "output_type": "stream",
     "text": [
      "P y t h o n P r o g r a m m i n g "
     ]
    }
   ],
   "source": [
    "for i in 'PythonProgramming':\n",
    "    print(i, end = ' ')"
   ]
  },
  {
   "cell_type": "code",
   "execution_count": 37,
   "id": "ac5bbcc5-8484-4caa-9c19-b2b030f614b1",
   "metadata": {},
   "outputs": [
    {
     "name": "stdout",
     "output_type": "stream",
     "text": [
      "P y t h o n P r o "
     ]
    }
   ],
   "source": [
    "for i in 'PythonProgramming':\n",
    "    if i == 'g':\n",
    "        break\n",
    "    print(i, end= ' ')"
   ]
  },
  {
   "cell_type": "code",
   "execution_count": 35,
   "id": "d48cf72a-c7b0-4577-aee9-048bb4050db2",
   "metadata": {},
   "outputs": [
    {
     "name": "stdout",
     "output_type": "stream",
     "text": [
      "P y t h o P r o g r a m m i g "
     ]
    }
   ],
   "source": [
    "for i in 'PythonProgramming':\n",
    "    if i == 'n':\n",
    "        continue\n",
    "    print(i, end=' ')"
   ]
  },
  {
   "cell_type": "code",
   "execution_count": null,
   "id": "d2872a8f-05e5-4b19-aafe-8a76c4faca13",
   "metadata": {},
   "outputs": [],
   "source": []
  }
 ],
 "metadata": {
  "kernelspec": {
   "display_name": "Python 3",
   "language": "python",
   "name": "python3"
  },
  "language_info": {
   "codemirror_mode": {
    "name": "ipython",
    "version": 3
   },
   "file_extension": ".py",
   "mimetype": "text/x-python",
   "name": "python",
   "nbconvert_exporter": "python",
   "pygments_lexer": "ipython3",
   "version": "3.8.8"
  }
 },
 "nbformat": 4,
 "nbformat_minor": 5
}
