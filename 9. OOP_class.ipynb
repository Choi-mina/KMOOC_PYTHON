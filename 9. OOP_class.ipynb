{
 "cells": [
  {
   "cell_type": "markdown",
   "id": "dc42ec71-d968-4de8-adcf-29296c8287fd",
   "metadata": {},
   "source": [
    "__1. Creating own classes__"
   ]
  },
  {
   "cell_type": "code",
   "execution_count": 2,
   "id": "7449ee10-e97f-42f6-a1d0-57f6b4b8b395",
   "metadata": {},
   "outputs": [],
   "source": [
    "class FourCalculation:\n",
    "    def __init__(self, first, second):\n",
    "        self.first = first\n",
    "        self.second = second\n",
    "        \n",
    "    def add(self):\n",
    "        return self.first + self.second\n",
    "    def mul(self):\n",
    "        return self.first * self.second\n",
    "    def sub(self):\n",
    "        return self.first - self.second\n",
    "    def div(self):\n",
    "        return self.first / self.second\n",
    "    \n",
    "#%save fourcalculation.py 1-24"
   ]
  },
  {
   "cell_type": "code",
   "execution_count": 3,
   "id": "3a285509-12fa-41ae-873a-69421171dd61",
   "metadata": {},
   "outputs": [
    {
     "name": "stdout",
     "output_type": "stream",
     "text": [
      "8 2\n",
      "10 16 6 4.0\n"
     ]
    }
   ],
   "source": [
    "#from fourcalculation import FourCalculation\n",
    "\n",
    "b = FourCalculation(8,2)\n",
    "print(b.first, b.second)\n",
    "print(b.add(), b.mul(), b.sub(), b.div())"
   ]
  },
  {
   "cell_type": "markdown",
   "id": "cf0c52a6-e361-4525-9147-0f8e4b05b7e6",
   "metadata": {},
   "source": [
    "__2. Class inheritance and overriding methods__"
   ]
  },
  {
   "cell_type": "code",
   "execution_count": 4,
   "id": "294f4960-ef8b-4af5-b7d5-efbe2a472cdc",
   "metadata": {},
   "outputs": [],
   "source": [
    "class FiveCalculation(FourCalculation):\n",
    "    def __init__(self, first, second, third):\n",
    "        super().__init__(first, second)\n",
    "        self.third = third\n",
    "    \n",
    "    def pow(self):\n",
    "        return self.first ** self.second + self.third\n",
    "    \n",
    "    def div(self):\n",
    "        if self.second == 0:\n",
    "            return 0\n",
    "        else:\n",
    "            return self.first/self.second"
   ]
  },
  {
   "cell_type": "code",
   "execution_count": 5,
   "id": "b02c5086-21d4-4b7d-be9d-44b5fc34befd",
   "metadata": {},
   "outputs": [
    {
     "name": "stdout",
     "output_type": "stream",
     "text": [
      "19 6 2\n"
     ]
    }
   ],
   "source": [
    "c = FiveCalculation(4,2,3)\n",
    "print(c.pow(), c.add(), c.sub())"
   ]
  },
  {
   "cell_type": "code",
   "execution_count": 6,
   "id": "9db4207d-39b9-4d42-8492-dd1586b0ecc9",
   "metadata": {},
   "outputs": [],
   "source": [
    "class Person:\n",
    "    def __init__(self, first, last):\n",
    "        self.firstname = first\n",
    "        self.lastname = last\n",
    "    def Name(self):\n",
    "        return self.firstname + \" \" + self.lastname\n"
   ]
  },
  {
   "cell_type": "code",
   "execution_count": 9,
   "id": "4af016e9-6324-4a54-8684-058f59dcc0cd",
   "metadata": {},
   "outputs": [],
   "source": [
    "class Employee(Person):\n",
    "    def __init__(self, first, last, staffnum):\n",
    "        Person.__init__(self,first, last)\n",
    "        self.staffnumber = staffnum\n",
    "        \n",
    "    def GetEmployee(self):\n",
    "        return self.Name() + \",\" + self.staffnumber"
   ]
  },
  {
   "cell_type": "code",
   "execution_count": 10,
   "id": "699d6f12-4094-49dd-957f-4b8754cefee2",
   "metadata": {},
   "outputs": [
    {
     "name": "stdout",
     "output_type": "stream",
     "text": [
      "Youngsun Kwon\n",
      "Youngsun Kwon,1234\n"
     ]
    }
   ],
   "source": [
    "x = Person(\"Youngsun\", \"Kwon\")\n",
    "print(x.Name())\n",
    "y = Employee(\"Youngsun\", \"Kwon\", \"1234\")\n",
    "print(y.GetEmployee())"
   ]
  },
  {
   "cell_type": "code",
   "execution_count": null,
   "id": "be186d88-460f-4bb7-80fb-a128bdb042f1",
   "metadata": {},
   "outputs": [],
   "source": []
  }
 ],
 "metadata": {
  "kernelspec": {
   "display_name": "Python 3",
   "language": "python",
   "name": "python3"
  },
  "language_info": {
   "codemirror_mode": {
    "name": "ipython",
    "version": 3
   },
   "file_extension": ".py",
   "mimetype": "text/x-python",
   "name": "python",
   "nbconvert_exporter": "python",
   "pygments_lexer": "ipython3",
   "version": "3.8.8"
  }
 },
 "nbformat": 4,
 "nbformat_minor": 5
}
